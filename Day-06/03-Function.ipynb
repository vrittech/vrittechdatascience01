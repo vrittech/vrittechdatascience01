{
 "cells": [
  {
   "cell_type": "markdown",
   "id": "d6c41615",
   "metadata": {},
   "source": [
    "# Functions\n",
    "\n",
    "f(x) = x ** 2\n",
    "\n",
    "f(2)\n",
    "\n",
    "```python\n",
    "def FUNCTION_NAME(arg1, arg2, ....):\n",
    "    DO SOMETHING\n",
    "    return SOMETHING\n",
    "```"
   ]
  },
  {
   "cell_type": "code",
   "execution_count": 1,
   "id": "f44806d4",
   "metadata": {},
   "outputs": [],
   "source": [
    "# 1. Function Defination\n",
    "def square(x):\n",
    "    y = x ** 2\n",
    "    return y\n",
    "\n",
    "# local varibale: Variables defined inside a function/class\n",
    "# It is called so because its value terminates as the function terminates\n",
    "\n",
    "# Global variable: Varibale defined outside the program.\n",
    "# It is called so because it persists throughout the program"
   ]
  },
  {
   "cell_type": "code",
   "execution_count": 2,
   "id": "7c2b8854",
   "metadata": {},
   "outputs": [
    {
     "data": {
      "text/plain": [
       "9"
      ]
     },
     "execution_count": 2,
     "metadata": {},
     "output_type": "execute_result"
    }
   ],
   "source": [
    "# 2. Function Calling\n",
    "sq = square(3)\n",
    "sq"
   ]
  },
  {
   "cell_type": "code",
   "execution_count": 3,
   "id": "7cc743bd",
   "metadata": {},
   "outputs": [],
   "source": [
    "def power_calc(x, y):\n",
    "    z = x ** y\n",
    "    return x, y, z"
   ]
  },
  {
   "cell_type": "code",
   "execution_count": 4,
   "id": "3c436c7d",
   "metadata": {},
   "outputs": [],
   "source": [
    "val = power_calc(2, 3)"
   ]
  },
  {
   "cell_type": "code",
   "execution_count": 5,
   "id": "6d3bc815",
   "metadata": {},
   "outputs": [
    {
     "data": {
      "text/plain": [
       "(2, 3, 8)"
      ]
     },
     "execution_count": 5,
     "metadata": {},
     "output_type": "execute_result"
    }
   ],
   "source": [
    "val"
   ]
  },
  {
   "cell_type": "code",
   "execution_count": 6,
   "id": "a495807c",
   "metadata": {},
   "outputs": [
    {
     "data": {
      "text/plain": [
       "3"
      ]
     },
     "execution_count": 6,
     "metadata": {},
     "output_type": "execute_result"
    }
   ],
   "source": [
    "val[1]"
   ]
  },
  {
   "cell_type": "code",
   "execution_count": 7,
   "id": "a0a48898",
   "metadata": {},
   "outputs": [
    {
     "data": {
      "text/plain": [
       "(2, 3, 8)"
      ]
     },
     "execution_count": 7,
     "metadata": {},
     "output_type": "execute_result"
    }
   ],
   "source": [
    "val, power, result = power_calc(2, 3)\n",
    "val, power, result"
   ]
  },
  {
   "cell_type": "code",
   "execution_count": 8,
   "id": "442fc739",
   "metadata": {},
   "outputs": [
    {
     "ename": "TypeError",
     "evalue": "power_calc() missing 1 required positional argument: 'y'",
     "output_type": "error",
     "traceback": [
      "\u001b[0;31m---------------------------------------------------------------------------\u001b[0m",
      "\u001b[0;31mTypeError\u001b[0m                                 Traceback (most recent call last)",
      "Cell \u001b[0;32mIn[8], line 1\u001b[0m\n\u001b[0;32m----> 1\u001b[0m \u001b[43mpower_calc\u001b[49m\u001b[43m(\u001b[49m\u001b[38;5;241;43m2\u001b[39;49m\u001b[43m)\u001b[49m\n",
      "\u001b[0;31mTypeError\u001b[0m: power_calc() missing 1 required positional argument: 'y'"
     ]
    }
   ],
   "source": [
    "power_calc(2)"
   ]
  },
  {
   "cell_type": "markdown",
   "id": "20aa3a3c",
   "metadata": {},
   "source": [
    "## Keyword Arguments"
   ]
  },
  {
   "cell_type": "code",
   "execution_count": 9,
   "id": "36b7167c",
   "metadata": {},
   "outputs": [],
   "source": [
    "def power_calc(x=1, y=1):\n",
    "    z = x ** y\n",
    "    return x, y, z"
   ]
  },
  {
   "cell_type": "code",
   "execution_count": 10,
   "id": "3d3dbebb",
   "metadata": {},
   "outputs": [],
   "source": [
    "val, power, result = power_calc(2, 3)"
   ]
  },
  {
   "cell_type": "code",
   "execution_count": 11,
   "id": "422704e0",
   "metadata": {},
   "outputs": [
    {
     "data": {
      "text/plain": [
       "(2, 3, 8)"
      ]
     },
     "execution_count": 11,
     "metadata": {},
     "output_type": "execute_result"
    }
   ],
   "source": [
    "val, power, result"
   ]
  },
  {
   "cell_type": "code",
   "execution_count": 12,
   "id": "b1639da4",
   "metadata": {},
   "outputs": [],
   "source": [
    "val, power, result = power_calc(2)"
   ]
  },
  {
   "cell_type": "code",
   "execution_count": 13,
   "id": "a906e6c4",
   "metadata": {},
   "outputs": [
    {
     "data": {
      "text/plain": [
       "(2, 1, 2)"
      ]
     },
     "execution_count": 13,
     "metadata": {},
     "output_type": "execute_result"
    }
   ],
   "source": [
    "val, power, result"
   ]
  },
  {
   "cell_type": "code",
   "execution_count": 14,
   "id": "275dff16",
   "metadata": {},
   "outputs": [],
   "source": [
    "val, power, result = power_calc(y=2)"
   ]
  },
  {
   "cell_type": "code",
   "execution_count": 15,
   "id": "aec03fe4",
   "metadata": {},
   "outputs": [
    {
     "data": {
      "text/plain": [
       "(1, 2, 1)"
      ]
     },
     "execution_count": 15,
     "metadata": {},
     "output_type": "execute_result"
    }
   ],
   "source": [
    "val, power, result"
   ]
  },
  {
   "cell_type": "code",
   "execution_count": 16,
   "id": "f6a4018f",
   "metadata": {},
   "outputs": [],
   "source": [
    "def power_calc(x=1, y=1):\n",
    "    z = x ** y\n",
    "    return {'x':x, 'y':y, 'z':z}"
   ]
  },
  {
   "cell_type": "code",
   "execution_count": 17,
   "id": "93f8d742",
   "metadata": {},
   "outputs": [],
   "source": [
    "result = power_calc(2, 3)"
   ]
  },
  {
   "cell_type": "code",
   "execution_count": 18,
   "id": "d3362080",
   "metadata": {},
   "outputs": [
    {
     "data": {
      "text/plain": [
       "2"
      ]
     },
     "execution_count": 18,
     "metadata": {},
     "output_type": "execute_result"
    }
   ],
   "source": [
    "result['x']"
   ]
  },
  {
   "cell_type": "code",
   "execution_count": 19,
   "id": "1064a779",
   "metadata": {},
   "outputs": [
    {
     "data": {
      "text/plain": [
       "3"
      ]
     },
     "execution_count": 19,
     "metadata": {},
     "output_type": "execute_result"
    }
   ],
   "source": [
    "result['y']"
   ]
  },
  {
   "cell_type": "code",
   "execution_count": 20,
   "id": "8901eab6",
   "metadata": {},
   "outputs": [
    {
     "data": {
      "text/plain": [
       "{'x': 2, 'y': 3, 'z': 8}"
      ]
     },
     "execution_count": 20,
     "metadata": {},
     "output_type": "execute_result"
    }
   ],
   "source": [
    "result"
   ]
  },
  {
   "cell_type": "markdown",
   "id": "24aa8d32",
   "metadata": {},
   "source": [
    "## args and kwargs"
   ]
  },
  {
   "cell_type": "code",
   "execution_count": 21,
   "id": "43505abd",
   "metadata": {},
   "outputs": [],
   "source": [
    "def func(*args, **kwargs):\n",
    "    # Positional arguments\n",
    "    for i in args:\n",
    "        print(i)\n",
    "        \n",
    "    # Keyword arguments\n",
    "    for key, val in kwargs.items():\n",
    "        print(key, val)"
   ]
  },
  {
   "cell_type": "code",
   "execution_count": 22,
   "id": "523dd6c9",
   "metadata": {},
   "outputs": [
    {
     "name": "stdout",
     "output_type": "stream",
     "text": [
      "1\n",
      "abc\n",
      "name vrit\n",
      "address Shankhamul\n"
     ]
    }
   ],
   "source": [
    "func(1, 'abc', name='vrit', address='Shankhamul')"
   ]
  },
  {
   "cell_type": "markdown",
   "id": "77051d52",
   "metadata": {},
   "source": [
    "### Define three sequences (with numeric values) having different length, and a function to calculate sum of each sequence individually"
   ]
  },
  {
   "cell_type": "code",
   "execution_count": 1,
   "id": "cadcbb16",
   "metadata": {},
   "outputs": [],
   "source": [
    "def sum_calc(*args):\n",
    "    sums = 0\n",
    "    for i in args:\n",
    "        sums += sum(i)\n",
    "    return sums"
   ]
  },
  {
   "cell_type": "code",
   "execution_count": 2,
   "id": "f007ec29",
   "metadata": {},
   "outputs": [],
   "source": [
    "a = [1, 2, 3]\n",
    "b = [1, 2, 3, 4]\n",
    "c = [1, 2, 3, 4, 5]"
   ]
  },
  {
   "cell_type": "code",
   "execution_count": 5,
   "id": "867fb06f",
   "metadata": {},
   "outputs": [
    {
     "name": "stdout",
     "output_type": "stream",
     "text": [
      "6\n",
      "10\n"
     ]
    }
   ],
   "source": [
    "print(sum_calc(a)) # Output: 6\n",
    "print(sum_calc(b)) # Output: 10"
   ]
  },
  {
   "cell_type": "code",
   "execution_count": null,
   "id": "a441284a",
   "metadata": {},
   "outputs": [],
   "source": []
  }
 ],
 "metadata": {
  "kernelspec": {
   "display_name": "Python 3 (ipykernel)",
   "language": "python",
   "name": "python3"
  },
  "language_info": {
   "codemirror_mode": {
    "name": "ipython",
    "version": 3
   },
   "file_extension": ".py",
   "mimetype": "text/x-python",
   "name": "python",
   "nbconvert_exporter": "python",
   "pygments_lexer": "ipython3",
   "version": "3.10.6"
  }
 },
 "nbformat": 4,
 "nbformat_minor": 5
}
