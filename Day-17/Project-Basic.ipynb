{
 "cells": [
  {
   "cell_type": "code",
   "execution_count": 1,
   "id": "4c5efa8d",
   "metadata": {},
   "outputs": [],
   "source": [
    "class Product:\n",
    "    def __init__(self, name, price):\n",
    "        self.name = name\n",
    "        self.price = price"
   ]
  },
  {
   "cell_type": "code",
   "execution_count": 2,
   "id": "b47b6d8d",
   "metadata": {},
   "outputs": [],
   "source": [
    "class User:\n",
    "    def __init__(self, name, is_premium=False):\n",
    "        self.name = name\n",
    "        self.is_premium = is_premium"
   ]
  },
  {
   "cell_type": "code",
   "execution_count": 3,
   "id": "c2fe00ba",
   "metadata": {},
   "outputs": [],
   "source": [
    "def discount_10_percent(func):\n",
    "    def wrapper(self):\n",
    "        total_cost = func(self)\n",
    "        discounted_cost = total_cost * 0.9\n",
    "        return discounted_cost\n",
    "    return wrapper"
   ]
  },
  {
   "cell_type": "code",
   "execution_count": 6,
   "id": "6ba7dbbc",
   "metadata": {},
   "outputs": [],
   "source": [
    "class ShoppingCart:\n",
    "    def __init__(self):\n",
    "        self.products = []\n",
    "\n",
    "    def add_product(self, product):\n",
    "        self.products.append(product)\n",
    "\n",
    "    def remove_product(self, product):\n",
    "        self.products.remove(product)\n",
    "\n",
    "    def calculate_total_cost(self):\n",
    "        total_cost = sum(product.price for product in self.products)\n",
    "        return total_cost\n",
    "    \n",
    "    @discount_10_percent\n",
    "    def calculate_discounted_cost(self):\n",
    "        total_cost = sum(product.price for product in self.products)\n",
    "        return total_cost\n",
    "    \n",
    "    def generate_invoice(self, user):\n",
    "        invoice = f\"Invoice for {user.name}:\\n\"\n",
    "        invoice += \"=======================\\n\"\n",
    "        for product in self.products:\n",
    "            invoice += f\"{product.name}: ${product.price}\\n\"\n",
    "        total_cost = self.calculate_total_cost()\n",
    "        if user.is_premium:\n",
    "            invoice += \"-----------------------\\n\"\n",
    "            invoice += f\"Sub-Total: ${total_cost}\\n\"\n",
    "            final_cost = self.calculate_discounted_cost()\n",
    "            invoice += f\"Discount (10%): ${total_cost - final_cost}\\n\"\n",
    "            total_cost = final_cost\n",
    "        invoice += \"-----------------------\\n\"\n",
    "        invoice += f\"Total: ${total_cost}\"\n",
    "        return invoice\n",
    "\n",
    "    def get_products(self):\n",
    "        yield from self.products\n",
    "        # for product in self.products:\n",
    "            # yield product"
   ]
  },
  {
   "cell_type": "code",
   "execution_count": 9,
   "id": "7b1a6b78",
   "metadata": {},
   "outputs": [
    {
     "name": "stdout",
     "output_type": "stream",
     "text": [
      "Product: Shirt, Price: 20\n",
      "Product: Pants, Price: 30\n"
     ]
    }
   ],
   "source": [
    "# Create some products\n",
    "product1 = Product(\"Shirt\", 20)\n",
    "product2 = Product(\"Pants\", 30)\n",
    "product3 = Product(\"Shoes\", 50)\n",
    "\n",
    "# Create a shopping cart\n",
    "cart = ShoppingCart()\n",
    "\n",
    "# Add products to the cart\n",
    "cart.add_product(product1)\n",
    "cart.add_product(product2)\n",
    "\n",
    "# Use the generator to iterate over the products\n",
    "for product in cart.get_products():\n",
    "    print(f\"Product: {product.name}, Price: {product.price}\")"
   ]
  },
  {
   "cell_type": "markdown",
   "id": "d16c3a96",
   "metadata": {},
   "source": [
    "### Non Premium or Regular Users"
   ]
  },
  {
   "cell_type": "code",
   "execution_count": 10,
   "id": "5dda9b3c",
   "metadata": {},
   "outputs": [
    {
     "name": "stdout",
     "output_type": "stream",
     "text": [
      "Invoice for Rita:\n",
      "=======================\n",
      "Shirt: $20\n",
      "Pants: $30\n",
      "-----------------------\n",
      "Total: $50\n"
     ]
    }
   ],
   "source": [
    "# Create a user\n",
    "user = User(\"Rita\", is_premium=False)\n",
    "\n",
    "# Generate and print the invoice\n",
    "invoice = cart.generate_invoice(user)\n",
    "print(invoice)"
   ]
  },
  {
   "cell_type": "markdown",
   "id": "563a4552",
   "metadata": {},
   "source": [
    "### Premium Users"
   ]
  },
  {
   "cell_type": "code",
   "execution_count": 13,
   "id": "f55b5d5e",
   "metadata": {},
   "outputs": [
    {
     "name": "stdout",
     "output_type": "stream",
     "text": [
      "Invoice for John:\n",
      "=======================\n",
      "Shirt: $20\n",
      "Pants: $30\n",
      "-----------------------\n",
      "Sub-Total: $50\n",
      "Discount (10%): $5.0\n",
      "-----------------------\n",
      "Total: $45.0\n"
     ]
    }
   ],
   "source": [
    "# Create a user\n",
    "user = User(\"John\", is_premium=True)\n",
    "\n",
    "# Generate and print the invoice\n",
    "invoice = cart.generate_invoice(user)\n",
    "print(invoice)"
   ]
  },
  {
   "cell_type": "markdown",
   "id": "f9eeccf9",
   "metadata": {},
   "source": [
    "#### 1. Cart for a user should be independent from other users\n",
    "#### 2. Add a new admin feature `is_admin` that takes in boolean values `[True, False]`, and only admin should be allowed to create other admins or all is_premium=True for other users"
   ]
  }
 ],
 "metadata": {
  "kernelspec": {
   "display_name": "Python 3 (ipykernel)",
   "language": "python",
   "name": "python3"
  },
  "language_info": {
   "codemirror_mode": {
    "name": "ipython",
    "version": 3
   },
   "file_extension": ".py",
   "mimetype": "text/x-python",
   "name": "python",
   "nbconvert_exporter": "python",
   "pygments_lexer": "ipython3",
   "version": "3.10.6"
  }
 },
 "nbformat": 4,
 "nbformat_minor": 5
}
