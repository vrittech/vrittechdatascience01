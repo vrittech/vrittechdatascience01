{
 "cells": [
  {
   "cell_type": "markdown",
   "id": "76a29ae9",
   "metadata": {},
   "source": [
    "# Lambda Function\n",
    "\n",
    "Anonymous Function\n",
    "\n",
    "C++: Inline Function"
   ]
  },
  {
   "cell_type": "code",
   "execution_count": 1,
   "id": "90367ef4",
   "metadata": {},
   "outputs": [],
   "source": [
    "# def square(x):\n",
    "#     return x ** 2\n",
    "\n",
    "square = lambda x: x ** 2"
   ]
  },
  {
   "cell_type": "code",
   "execution_count": 2,
   "id": "48234351",
   "metadata": {},
   "outputs": [
    {
     "data": {
      "text/plain": [
       "9"
      ]
     },
     "execution_count": 2,
     "metadata": {},
     "output_type": "execute_result"
    }
   ],
   "source": [
    "num = 3\n",
    "square(3)"
   ]
  },
  {
   "cell_type": "code",
   "execution_count": 3,
   "id": "53689e5c",
   "metadata": {},
   "outputs": [],
   "source": [
    "# def sums(x, y):\n",
    "#     return x + y\n",
    "\n",
    "sums = lambda x, y: x + y"
   ]
  },
  {
   "cell_type": "code",
   "execution_count": 4,
   "id": "8d4ab80d",
   "metadata": {},
   "outputs": [
    {
     "data": {
      "text/plain": [
       "5"
      ]
     },
     "execution_count": 4,
     "metadata": {},
     "output_type": "execute_result"
    }
   ],
   "source": [
    "sums(2, 3)"
   ]
  },
  {
   "cell_type": "markdown",
   "id": "0ddb052e",
   "metadata": {},
   "source": [
    "### Can you calculate the sum of all the elements of sequence given below?"
   ]
  },
  {
   "cell_type": "code",
   "execution_count": 1,
   "id": "f884e892",
   "metadata": {},
   "outputs": [],
   "source": [
    "a = [1, 2, 3, 4]"
   ]
  },
  {
   "cell_type": "code",
   "execution_count": 2,
   "id": "debff464",
   "metadata": {},
   "outputs": [],
   "source": [
    "sum_calc = lambda x: sum(x)"
   ]
  },
  {
   "cell_type": "code",
   "execution_count": 3,
   "id": "cab56c09",
   "metadata": {},
   "outputs": [
    {
     "data": {
      "text/plain": [
       "10"
      ]
     },
     "execution_count": 3,
     "metadata": {},
     "output_type": "execute_result"
    }
   ],
   "source": [
    "sum_calc(a)"
   ]
  },
  {
   "cell_type": "code",
   "execution_count": 5,
   "id": "b4c4fd89",
   "metadata": {},
   "outputs": [],
   "source": [
    "def square(x):\n",
    "    return x ** 2"
   ]
  },
  {
   "cell_type": "code",
   "execution_count": 6,
   "id": "f90897ba",
   "metadata": {},
   "outputs": [],
   "source": [
    "sq_calc = lambda x: square(x)"
   ]
  },
  {
   "cell_type": "code",
   "execution_count": 7,
   "id": "ad6791da",
   "metadata": {},
   "outputs": [
    {
     "data": {
      "text/plain": [
       "16"
      ]
     },
     "execution_count": 7,
     "metadata": {},
     "output_type": "execute_result"
    }
   ],
   "source": [
    "sq_calc(4)"
   ]
  },
  {
   "cell_type": "code",
   "execution_count": null,
   "id": "950ce98b",
   "metadata": {},
   "outputs": [],
   "source": []
  }
 ],
 "metadata": {
  "kernelspec": {
   "display_name": "Python 3 (ipykernel)",
   "language": "python",
   "name": "python3"
  },
  "language_info": {
   "codemirror_mode": {
    "name": "ipython",
    "version": 3
   },
   "file_extension": ".py",
   "mimetype": "text/x-python",
   "name": "python",
   "nbconvert_exporter": "python",
   "pygments_lexer": "ipython3",
   "version": "3.10.6"
  }
 },
 "nbformat": 4,
 "nbformat_minor": 5
}
