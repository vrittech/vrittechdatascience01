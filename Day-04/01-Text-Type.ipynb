{
 "cells": [
  {
   "cell_type": "markdown",
   "id": "e52cf465",
   "metadata": {},
   "source": [
    "# Text Type"
   ]
  },
  {
   "cell_type": "code",
   "execution_count": 1,
   "id": "840b4f7e",
   "metadata": {},
   "outputs": [],
   "source": [
    "a = 'Hello!'\n",
    "b = \"World!\""
   ]
  },
  {
   "cell_type": "code",
   "execution_count": 4,
   "id": "2ed5a28b",
   "metadata": {},
   "outputs": [
    {
     "name": "stdout",
     "output_type": "stream",
     "text": [
      "Hello!\n",
      "World!\n"
     ]
    }
   ],
   "source": [
    "print(a)\n",
    "print(b)"
   ]
  },
  {
   "cell_type": "code",
   "execution_count": 5,
   "id": "13d99c79",
   "metadata": {},
   "outputs": [
    {
     "name": "stdout",
     "output_type": "stream",
     "text": [
      "<class 'str'>\n",
      "<class 'str'>\n"
     ]
    }
   ],
   "source": [
    "print(type(a))\n",
    "print(type(b))"
   ]
  },
  {
   "cell_type": "markdown",
   "id": "489c3949",
   "metadata": {},
   "source": [
    "# String Concatenation"
   ]
  },
  {
   "cell_type": "code",
   "execution_count": 6,
   "id": "8e734c0b",
   "metadata": {},
   "outputs": [
    {
     "data": {
      "text/plain": [
       "'Hello!World!'"
      ]
     },
     "execution_count": 6,
     "metadata": {},
     "output_type": "execute_result"
    }
   ],
   "source": [
    "# +\n",
    "a + b"
   ]
  },
  {
   "cell_type": "code",
   "execution_count": 9,
   "id": "97185411",
   "metadata": {},
   "outputs": [
    {
     "name": "stdout",
     "output_type": "stream",
     "text": [
      "Hello! World! Good!\n"
     ]
    }
   ],
   "source": [
    "# ,\n",
    "c = 'Good!'\n",
    "print(a, b, c)"
   ]
  },
  {
   "cell_type": "markdown",
   "id": "7278d1c7",
   "metadata": {},
   "source": [
    "# String Methods"
   ]
  },
  {
   "cell_type": "code",
   "execution_count": 43,
   "id": "e6638ae5",
   "metadata": {},
   "outputs": [],
   "source": [
    "a = 'Hello!'"
   ]
  },
  {
   "cell_type": "code",
   "execution_count": 44,
   "id": "b6e3dde1",
   "metadata": {},
   "outputs": [
    {
     "data": {
      "text/plain": [
       "'hello!'"
      ]
     },
     "execution_count": 44,
     "metadata": {},
     "output_type": "execute_result"
    }
   ],
   "source": [
    "a.lower()"
   ]
  },
  {
   "cell_type": "code",
   "execution_count": 45,
   "id": "59d02c60",
   "metadata": {},
   "outputs": [
    {
     "data": {
      "text/plain": [
       "'Hello'"
      ]
     },
     "execution_count": 45,
     "metadata": {},
     "output_type": "execute_result"
    }
   ],
   "source": [
    "d = \"HELLO\"\n",
    "d.title()"
   ]
  },
  {
   "cell_type": "code",
   "execution_count": 46,
   "id": "acc5328b",
   "metadata": {},
   "outputs": [
    {
     "data": {
      "text/plain": [
       "'HELLO!'"
      ]
     },
     "execution_count": 46,
     "metadata": {},
     "output_type": "execute_result"
    }
   ],
   "source": [
    "a.upper()"
   ]
  },
  {
   "cell_type": "code",
   "execution_count": 47,
   "id": "c42f15f8",
   "metadata": {},
   "outputs": [
    {
     "data": {
      "text/plain": [
       "4"
      ]
     },
     "execution_count": 47,
     "metadata": {},
     "output_type": "execute_result"
    }
   ],
   "source": [
    "a.index('o')"
   ]
  },
  {
   "cell_type": "code",
   "execution_count": 48,
   "id": "c329b6e5",
   "metadata": {},
   "outputs": [
    {
     "data": {
      "text/plain": [
       "'Hillo!'"
      ]
     },
     "execution_count": 48,
     "metadata": {},
     "output_type": "execute_result"
    }
   ],
   "source": [
    "a.replace('e', 'i')"
   ]
  },
  {
   "cell_type": "code",
   "execution_count": 49,
   "id": "8229e188",
   "metadata": {},
   "outputs": [
    {
     "data": {
      "text/plain": [
       "'Heiio!'"
      ]
     },
     "execution_count": 49,
     "metadata": {},
     "output_type": "execute_result"
    }
   ],
   "source": [
    "a.replace('l', 'i')"
   ]
  },
  {
   "cell_type": "code",
   "execution_count": 55,
   "id": "9ef22e37",
   "metadata": {},
   "outputs": [
    {
     "data": {
      "text/plain": [
       "'Heilo'"
      ]
     },
     "execution_count": 55,
     "metadata": {},
     "output_type": "execute_result"
    }
   ],
   "source": [
    "a = \"Hello\"\n",
    "a.replace('l', 'i', 1)"
   ]
  },
  {
   "cell_type": "code",
   "execution_count": 51,
   "id": "a74a63a7",
   "metadata": {},
   "outputs": [
    {
     "data": {
      "text/plain": [
       "'Hello!'"
      ]
     },
     "execution_count": 51,
     "metadata": {},
     "output_type": "execute_result"
    }
   ],
   "source": [
    "b = ' Hello!'\n",
    "b.strip()"
   ]
  },
  {
   "cell_type": "code",
   "execution_count": 58,
   "id": "e3b5ac86",
   "metadata": {},
   "outputs": [
    {
     "data": {
      "text/plain": [
       "['Hello!']"
      ]
     },
     "execution_count": 58,
     "metadata": {},
     "output_type": "execute_result"
    }
   ],
   "source": [
    "b.split() # By default the argument is whitespace"
   ]
  },
  {
   "cell_type": "code",
   "execution_count": 57,
   "id": "6db0ae9f",
   "metadata": {},
   "outputs": [
    {
     "data": {
      "text/plain": [
       "[' H', 'llo!']"
      ]
     },
     "execution_count": 57,
     "metadata": {},
     "output_type": "execute_result"
    }
   ],
   "source": [
    "b.split('e')"
   ]
  },
  {
   "cell_type": "markdown",
   "id": "cfcffb60",
   "metadata": {},
   "source": [
    "# String Indexing"
   ]
  },
  {
   "cell_type": "code",
   "execution_count": 22,
   "id": "1aab6e59",
   "metadata": {},
   "outputs": [],
   "source": [
    "a = \"Hello! How you doing?\""
   ]
  },
  {
   "cell_type": "code",
   "execution_count": 23,
   "id": "0f84fff7",
   "metadata": {},
   "outputs": [
    {
     "data": {
      "text/plain": [
       "' '"
      ]
     },
     "execution_count": 23,
     "metadata": {},
     "output_type": "execute_result"
    }
   ],
   "source": [
    "a[6]"
   ]
  },
  {
   "cell_type": "code",
   "execution_count": 27,
   "id": "0fc5e158",
   "metadata": {},
   "outputs": [
    {
     "data": {
      "text/plain": [
       "'?'"
      ]
     },
     "execution_count": 27,
     "metadata": {},
     "output_type": "execute_result"
    }
   ],
   "source": [
    "a[-1]"
   ]
  },
  {
   "cell_type": "code",
   "execution_count": 26,
   "id": "a8dffd6b",
   "metadata": {},
   "outputs": [
    {
     "data": {
      "text/plain": [
       "'g'"
      ]
     },
     "execution_count": 26,
     "metadata": {},
     "output_type": "execute_result"
    }
   ],
   "source": [
    "a[-2]"
   ]
  },
  {
   "cell_type": "markdown",
   "id": "b1f42cbf",
   "metadata": {},
   "source": [
    "# String Slicing\n",
    "\n",
    "syntax: [start:stop:step]"
   ]
  },
  {
   "cell_type": "code",
   "execution_count": 13,
   "id": "04f22caa",
   "metadata": {},
   "outputs": [],
   "source": [
    "a = \"Hello! How you doing?\""
   ]
  },
  {
   "cell_type": "code",
   "execution_count": 18,
   "id": "8a501b23",
   "metadata": {},
   "outputs": [
    {
     "data": {
      "text/plain": [
       "'How'"
      ]
     },
     "execution_count": 18,
     "metadata": {},
     "output_type": "execute_result"
    }
   ],
   "source": [
    "a[7:10]"
   ]
  },
  {
   "cell_type": "code",
   "execution_count": 19,
   "id": "7dab50a7",
   "metadata": {},
   "outputs": [
    {
     "data": {
      "text/plain": [
       "'Hwyu'"
      ]
     },
     "execution_count": 19,
     "metadata": {},
     "output_type": "execute_result"
    }
   ],
   "source": [
    "a[7:15:2]"
   ]
  },
  {
   "cell_type": "code",
   "execution_count": 20,
   "id": "1e25d736",
   "metadata": {},
   "outputs": [
    {
     "data": {
      "text/plain": [
       "'Hello! How you doing?'"
      ]
     },
     "execution_count": 20,
     "metadata": {},
     "output_type": "execute_result"
    }
   ],
   "source": [
    "a[:]"
   ]
  },
  {
   "cell_type": "code",
   "execution_count": 21,
   "id": "22e47c36",
   "metadata": {},
   "outputs": [
    {
     "data": {
      "text/plain": [
       "'Hello'"
      ]
     },
     "execution_count": 21,
     "metadata": {},
     "output_type": "execute_result"
    }
   ],
   "source": [
    "a[:5]"
   ]
  },
  {
   "cell_type": "code",
   "execution_count": 28,
   "id": "8fe63709",
   "metadata": {},
   "outputs": [
    {
     "data": {
      "text/plain": [
       "'doing'"
      ]
     },
     "execution_count": 28,
     "metadata": {},
     "output_type": "execute_result"
    }
   ],
   "source": [
    "a[-6:-1]"
   ]
  },
  {
   "cell_type": "code",
   "execution_count": 29,
   "id": "fd8b37d0",
   "metadata": {},
   "outputs": [
    {
     "data": {
      "text/plain": [
       "'doing?'"
      ]
     },
     "execution_count": 29,
     "metadata": {},
     "output_type": "execute_result"
    }
   ],
   "source": [
    "a[-6:]"
   ]
  },
  {
   "cell_type": "code",
   "execution_count": 30,
   "id": "2e9ad774",
   "metadata": {},
   "outputs": [
    {
     "data": {
      "text/plain": [
       "'Hello! How you doing'"
      ]
     },
     "execution_count": 30,
     "metadata": {},
     "output_type": "execute_result"
    }
   ],
   "source": [
    "a[0:-1]"
   ]
  },
  {
   "cell_type": "code",
   "execution_count": 31,
   "id": "ac5b1f4a",
   "metadata": {},
   "outputs": [
    {
     "data": {
      "text/plain": [
       "'Hello! How you doing'"
      ]
     },
     "execution_count": 31,
     "metadata": {},
     "output_type": "execute_result"
    }
   ],
   "source": [
    "a[:-1]"
   ]
  },
  {
   "cell_type": "code",
   "execution_count": 38,
   "id": "0a8f0544",
   "metadata": {},
   "outputs": [
    {
     "data": {
      "text/plain": [
       "'?gniod uoy woH !olleH'"
      ]
     },
     "execution_count": 38,
     "metadata": {},
     "output_type": "execute_result"
    }
   ],
   "source": [
    "a[::-1]"
   ]
  },
  {
   "cell_type": "code",
   "execution_count": 39,
   "id": "296dc4ee",
   "metadata": {},
   "outputs": [
    {
     "data": {
      "text/plain": [
       "'?no o o olH'"
      ]
     },
     "execution_count": 39,
     "metadata": {},
     "output_type": "execute_result"
    }
   ],
   "source": [
    "a[::-2]"
   ]
  },
  {
   "cell_type": "markdown",
   "id": "899ad875",
   "metadata": {},
   "source": [
    "# String Formatting"
   ]
  },
  {
   "cell_type": "code",
   "execution_count": 32,
   "id": "2eeced53",
   "metadata": {},
   "outputs": [],
   "source": [
    "# 1. %\n",
    "# 2. .format()\n",
    "# 3. f-string"
   ]
  },
  {
   "cell_type": "code",
   "execution_count": 33,
   "id": "51380414",
   "metadata": {},
   "outputs": [],
   "source": [
    "age = 12\n",
    "name = 'John'"
   ]
  },
  {
   "cell_type": "code",
   "execution_count": null,
   "id": "daaee18a",
   "metadata": {},
   "outputs": [],
   "source": [
    "# % operator"
   ]
  },
  {
   "cell_type": "code",
   "execution_count": 41,
   "id": "69c77637",
   "metadata": {},
   "outputs": [
    {
     "name": "stdout",
     "output_type": "stream",
     "text": [
      "My name is John and I am 12 years old!\n"
     ]
    }
   ],
   "source": [
    "print(\"My name is %s and I am %d years old!\" %(name, age))"
   ]
  },
  {
   "cell_type": "code",
   "execution_count": null,
   "id": "7d764cff",
   "metadata": {},
   "outputs": [],
   "source": [
    "# .format()"
   ]
  },
  {
   "cell_type": "code",
   "execution_count": 34,
   "id": "d971da20",
   "metadata": {},
   "outputs": [
    {
     "name": "stdout",
     "output_type": "stream",
     "text": [
      "My name is John and I am 12 years old.\n"
     ]
    }
   ],
   "source": [
    "print(\"My name is {} and I am {} years old.\".format(name, age))"
   ]
  },
  {
   "cell_type": "code",
   "execution_count": 35,
   "id": "594f24ad",
   "metadata": {},
   "outputs": [
    {
     "name": "stdout",
     "output_type": "stream",
     "text": [
      "My name is John and I am 12 years old.\n"
     ]
    }
   ],
   "source": [
    "print(\"My name is {0} and I am {1} years old.\".format(name, age))"
   ]
  },
  {
   "cell_type": "code",
   "execution_count": 36,
   "id": "d5524022",
   "metadata": {},
   "outputs": [
    {
     "name": "stdout",
     "output_type": "stream",
     "text": [
      "My name is John and I am 12 years old.\n"
     ]
    }
   ],
   "source": [
    "print(\"My name is {1} and I am {0} years old.\".format(age, name))"
   ]
  },
  {
   "cell_type": "code",
   "execution_count": null,
   "id": "c950dd87",
   "metadata": {},
   "outputs": [],
   "source": [
    "# f-string"
   ]
  },
  {
   "cell_type": "code",
   "execution_count": 40,
   "id": "47e7a7c8",
   "metadata": {},
   "outputs": [
    {
     "name": "stdout",
     "output_type": "stream",
     "text": [
      "My name is John and I am 12 years old!\n"
     ]
    }
   ],
   "source": [
    "print(f\"My name is {name} and I am {age} years old!\")"
   ]
  },
  {
   "cell_type": "code",
   "execution_count": null,
   "id": "6426b512",
   "metadata": {},
   "outputs": [],
   "source": []
  }
 ],
 "metadata": {
  "kernelspec": {
   "display_name": "Python 3 (ipykernel)",
   "language": "python",
   "name": "python3"
  },
  "language_info": {
   "codemirror_mode": {
    "name": "ipython",
    "version": 3
   },
   "file_extension": ".py",
   "mimetype": "text/x-python",
   "name": "python",
   "nbconvert_exporter": "python",
   "pygments_lexer": "ipython3",
   "version": "3.8.10"
  }
 },
 "nbformat": 4,
 "nbformat_minor": 5
}
