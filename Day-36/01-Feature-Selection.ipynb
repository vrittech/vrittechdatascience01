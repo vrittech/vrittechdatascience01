{
 "cells": [
  {
   "cell_type": "code",
   "execution_count": 1,
   "metadata": {},
   "outputs": [],
   "source": [
    "from sklearn.linear_model import LogisticRegression\n",
    "from sklearn.model_selection import train_test_split\n",
    "from sklearn.datasets import make_classification"
   ]
  },
  {
   "cell_type": "code",
   "execution_count": 3,
   "metadata": {},
   "outputs": [],
   "source": [
    "# Create custom dataset\n",
    "X, y = make_classification(n_samples=800, n_features=10, n_informative=5, n_redundant=0, random_state=42)\n",
    "\n",
    "# Split dataset into training and testing sets\n",
    "X_train, X_test, y_train, y_test = train_test_split(X, y, test_size=0.2, random_state=42)"
   ]
  },
  {
   "attachments": {},
   "cell_type": "markdown",
   "metadata": {},
   "source": [
    "## Forward Feature Selection"
   ]
  },
  {
   "cell_type": "code",
   "execution_count": 4,
   "metadata": {},
   "outputs": [
    {
     "name": "stdout",
     "output_type": "stream",
     "text": [
      "Selected Features (Forward): [9] Score: 0.68125\n",
      "Selected Features (Forward): [9, 0] Score: 0.7\n",
      "Selected Features (Forward): [9, 0, 5] Score: 0.78125\n",
      "Selected Features (Forward): [9, 0, 5, 6] Score: 0.84375\n",
      "Selected Features (Forward): [9, 0, 5, 6, 2] Score: 0.85\n",
      "Selected Features (Forward): [9, 0, 5, 6, 2, 1] Score: 0.8375\n",
      "Selected Features (Forward): [9, 0, 5, 6, 2, 1, 7] Score: 0.8375\n",
      "Selected Features (Forward): [9, 0, 5, 6, 2, 1, 7, 8] Score: 0.8625\n",
      "Selected Features (Forward): [9, 0, 5, 6, 2, 1, 7, 8, 4] Score: 0.8625\n",
      "Selected Features (Forward): [9, 0, 5, 6, 2, 1, 7, 8, 4, 3] Score: 0.84375\n"
     ]
    }
   ],
   "source": [
    "# Implement forward feature selection\n",
    "selected_features = []\n",
    "for i in range(X_train.shape[1]):\n",
    "    best_accuracy = 0\n",
    "    best_feature = None\n",
    "    for j in range(X_train.shape[1]):\n",
    "        if j not in selected_features:\n",
    "            features = selected_features + [j]\n",
    "            model = LogisticRegression()\n",
    "            model.fit(X_train[:, features], y_train)\n",
    "            accuracy = model.score(X_test[:, features], y_test)\n",
    "            if accuracy > best_accuracy:\n",
    "                best_accuracy = accuracy\n",
    "                best_feature = j\n",
    "    selected_features.append(best_feature)\n",
    "    print(\"Selected Features (Forward):\", selected_features, \"Score:\", accuracy)"
   ]
  },
  {
   "attachments": {},
   "cell_type": "markdown",
   "metadata": {},
   "source": [
    "## Backward Feature Selection"
   ]
  },
  {
   "cell_type": "code",
   "execution_count": 5,
   "metadata": {},
   "outputs": [
    {
     "name": "stdout",
     "output_type": "stream",
     "text": [
      "Selected Features (Backward): [0, 1, 2, 3, 4, 5, 6, 7, 8] Score: 0.7125\n",
      "Selected Features (Backward): [0, 1, 2, 3, 4, 5, 6, 7] Score: 0.65\n",
      "Selected Features (Backward): [0, 1, 2, 3, 4, 6, 7] Score: 0.6375\n",
      "Selected Features (Backward): [1, 2, 3, 4, 6, 7] Score: 0.59375\n",
      "Selected Features (Backward): [1, 2, 3, 4, 6] Score: 0.45625\n",
      "Selected Features (Backward): [2, 3, 4, 6] Score: 0.4625\n",
      "Selected Features (Backward): [2, 3, 4] Score: 0.4625\n",
      "Selected Features (Backward): [3, 4] Score: 0.5\n",
      "Selected Features (Backward): [4] Score: 0.50625\n"
     ]
    }
   ],
   "source": [
    "# Implement backward feature elimination\n",
    "selected_features = list(range(X_train.shape[1]))\n",
    "for i in range(X_train.shape[1] - 1):\n",
    "    worst_accuracy = 1\n",
    "    worst_feature = None\n",
    "    for j in selected_features:\n",
    "        features = selected_features.copy()\n",
    "        features.remove(j)\n",
    "        model = LogisticRegression()\n",
    "        model.fit(X_train[:, features], y_train)\n",
    "        accuracy = model.score(X_test[:, features], y_test)\n",
    "        if accuracy < worst_accuracy:\n",
    "            worst_accuracy = accuracy\n",
    "            worst_feature = j\n",
    "    selected_features.remove(worst_feature)\n",
    "    print(\"Selected Features (Backward):\", selected_features, \"Score:\", accuracy)"
   ]
  },
  {
   "cell_type": "code",
   "execution_count": null,
   "metadata": {},
   "outputs": [],
   "source": []
  }
 ],
 "metadata": {
  "kernelspec": {
   "display_name": "env",
   "language": "python",
   "name": "python3"
  },
  "language_info": {
   "codemirror_mode": {
    "name": "ipython",
    "version": 3
   },
   "file_extension": ".py",
   "mimetype": "text/x-python",
   "name": "python",
   "nbconvert_exporter": "python",
   "pygments_lexer": "ipython3",
   "version": "3.8.10"
  },
  "orig_nbformat": 4
 },
 "nbformat": 4,
 "nbformat_minor": 2
}
