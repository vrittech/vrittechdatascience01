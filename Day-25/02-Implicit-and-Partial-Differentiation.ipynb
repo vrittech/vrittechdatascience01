{
 "cells": [
  {
   "cell_type": "markdown",
   "id": "00892d1b",
   "metadata": {},
   "source": [
    "## Implicit Differentiation"
   ]
  },
  {
   "cell_type": "code",
   "execution_count": 1,
   "id": "82099ce8",
   "metadata": {},
   "outputs": [],
   "source": [
    "import sympy as sp"
   ]
  },
  {
   "cell_type": "code",
   "execution_count": 2,
   "id": "b2079a0c",
   "metadata": {},
   "outputs": [
    {
     "name": "stdout",
     "output_type": "stream",
     "text": [
      "-x/y\n"
     ]
    }
   ],
   "source": [
    "x, y = sp.symbols('x y')\n",
    "f = x**2 + y**2 - 4\n",
    "dfdx = sp.diff(f, x)\n",
    "dfdy = sp.diff(f, y)\n",
    "dydx = -dfdx/dfdy\n",
    "\n",
    "print(dydx)"
   ]
  },
  {
   "cell_type": "markdown",
   "id": "eb8a16f7",
   "metadata": {},
   "source": [
    "## Partial Differentiation"
   ]
  },
  {
   "cell_type": "code",
   "execution_count": 3,
   "id": "56b366b8",
   "metadata": {},
   "outputs": [
    {
     "name": "stdout",
     "output_type": "stream",
     "text": [
      "Partial differentiation wrt x: 8\n",
      "Partial differentiation wrt y: 7\n"
     ]
    }
   ],
   "source": [
    "import sympy as sp\n",
    "\n",
    "# Define the function\n",
    "x, y = sp.symbols('x y')\n",
    "f = x**2 + 3*x*y + y**2\n",
    "\n",
    "# Find the partial derivatives\n",
    "df_dx = sp.diff(f, x)\n",
    "df_dy = sp.diff(f, y)\n",
    "\n",
    "# Evaluate the partial derivatives at a point\n",
    "point = {x: 1, y: 2}\n",
    "df_dx_at_point = df_dx.subs(point)\n",
    "df_dy_at_point = df_dy.subs(point)\n",
    "\n",
    "print(\"Partial differentiation wrt x:\", df_dx_at_point)\n",
    "print(\"Partial differentiation wrt y:\", df_dy_at_point)"
   ]
  },
  {
   "cell_type": "code",
   "execution_count": null,
   "id": "f3701e50",
   "metadata": {},
   "outputs": [],
   "source": []
  }
 ],
 "metadata": {
  "kernelspec": {
   "display_name": "Python 3 (ipykernel)",
   "language": "python",
   "name": "python3"
  },
  "language_info": {
   "codemirror_mode": {
    "name": "ipython",
    "version": 3
   },
   "file_extension": ".py",
   "mimetype": "text/x-python",
   "name": "python",
   "nbconvert_exporter": "python",
   "pygments_lexer": "ipython3",
   "version": "3.10.6"
  }
 },
 "nbformat": 4,
 "nbformat_minor": 5
}
