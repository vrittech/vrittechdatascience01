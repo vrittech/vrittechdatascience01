{
 "cells": [
  {
   "cell_type": "code",
   "execution_count": 1,
   "id": "138e4b9f",
   "metadata": {},
   "outputs": [],
   "source": [
    "import numpy as np"
   ]
  },
  {
   "cell_type": "code",
   "execution_count": 2,
   "id": "1e07049c",
   "metadata": {},
   "outputs": [],
   "source": [
    "# Define the function\n",
    "def f(x, y):\n",
    "    return x**2 + 2*y\n",
    "\n",
    "# Compute the gradients\n",
    "def gradient(x, y):\n",
    "    df_dx = 2*x\n",
    "    df_dy = 2\n",
    "    return np.array([df_dx, df_dy])"
   ]
  },
  {
   "cell_type": "code",
   "execution_count": 3,
   "id": "168fc8a5",
   "metadata": {},
   "outputs": [
    {
     "name": "stdout",
     "output_type": "stream",
     "text": [
      "[4 2]\n"
     ]
    }
   ],
   "source": [
    "# Test the gradients\n",
    "x = 2\n",
    "y = 3\n",
    "grads = gradient(x, y)\n",
    "\n",
    "print(grads)"
   ]
  },
  {
   "cell_type": "code",
   "execution_count": null,
   "id": "96d1525b",
   "metadata": {},
   "outputs": [],
   "source": []
  },
  {
   "cell_type": "code",
   "execution_count": 4,
   "id": "a3f34c23",
   "metadata": {},
   "outputs": [],
   "source": [
    "def gradient_descent(starting_point, learning_rate, num_iterations):\n",
    "    # Initialize the parameters\n",
    "    point = starting_point\n",
    "    \n",
    "    # Iterate\n",
    "    for i in range(num_iterations):\n",
    "        # Compute the gradient\n",
    "        grad = gradient(point[0], point[1])\n",
    "        \n",
    "        # Update the parameters\n",
    "        point = point - learning_rate * grad\n",
    "        \n",
    "    return point"
   ]
  },
  {
   "cell_type": "code",
   "execution_count": 5,
   "id": "ea635a35",
   "metadata": {},
   "outputs": [
    {
     "name": "stdout",
     "output_type": "stream",
     "text": [
      "Optimal point:  [ 4.07407195e-10 -1.70000000e+01]\n",
      "Optimal value:  -33.99999999999995\n"
     ]
    }
   ],
   "source": [
    "# Test the gradient descent function\n",
    "starting_point = np.array([2, 3])\n",
    "learning_rate = 0.1\n",
    "num_iterations = 100\n",
    "optimum = gradient_descent(starting_point, learning_rate, num_iterations)\n",
    "print(\"Optimal point: \", optimum)\n",
    "print(\"Optimal value: \", f(optimum[0], optimum[1]))"
   ]
  },
  {
   "cell_type": "code",
   "execution_count": null,
   "id": "f686e02f",
   "metadata": {},
   "outputs": [],
   "source": []
  }
 ],
 "metadata": {
  "kernelspec": {
   "display_name": "Python 3 (ipykernel)",
   "language": "python",
   "name": "python3"
  },
  "language_info": {
   "codemirror_mode": {
    "name": "ipython",
    "version": 3
   },
   "file_extension": ".py",
   "mimetype": "text/x-python",
   "name": "python",
   "nbconvert_exporter": "python",
   "pygments_lexer": "ipython3",
   "version": "3.10.6"
  }
 },
 "nbformat": 4,
 "nbformat_minor": 5
}
