{
 "cells": [
  {
   "cell_type": "markdown",
   "id": "4cbd6ea0",
   "metadata": {},
   "source": [
    "# Numeric Types\n",
    "\n",
    "1. Integer (int): Real Numbers\n",
    "- 1\n",
    "- 100000000000000000000000000000000000000000000\n",
    "\n",
    "2. Float (float): Decimal Numbers\n",
    "- 1.1\n",
    "- 1.234455556\n",
    "\n",
    "\n",
    "3. Complex (complex): Complex Numbers\n",
    "- a + jb\n",
    "- 3 - 2.5j"
   ]
  },
  {
   "cell_type": "markdown",
   "id": "e0642707",
   "metadata": {},
   "source": [
    "## Integer Type"
   ]
  },
  {
   "cell_type": "code",
   "execution_count": 1,
   "id": "a7752653",
   "metadata": {},
   "outputs": [],
   "source": [
    "a = 123"
   ]
  },
  {
   "cell_type": "code",
   "execution_count": 2,
   "id": "db17eb24",
   "metadata": {},
   "outputs": [
    {
     "data": {
      "text/plain": [
       "int"
      ]
     },
     "execution_count": 2,
     "metadata": {},
     "output_type": "execute_result"
    }
   ],
   "source": [
    "type(a)"
   ]
  },
  {
   "cell_type": "markdown",
   "id": "6f9cbd0a",
   "metadata": {},
   "source": [
    "## Float Type"
   ]
  },
  {
   "cell_type": "code",
   "execution_count": 3,
   "id": "488cef9c",
   "metadata": {},
   "outputs": [],
   "source": [
    "b = 123.123"
   ]
  },
  {
   "cell_type": "code",
   "execution_count": 4,
   "id": "d705b2ce",
   "metadata": {},
   "outputs": [
    {
     "data": {
      "text/plain": [
       "float"
      ]
     },
     "execution_count": 4,
     "metadata": {},
     "output_type": "execute_result"
    }
   ],
   "source": [
    "type(b)"
   ]
  },
  {
   "cell_type": "markdown",
   "id": "7df97bc1",
   "metadata": {},
   "source": [
    "## Complex Type"
   ]
  },
  {
   "cell_type": "code",
   "execution_count": 5,
   "id": "70c9a29c",
   "metadata": {},
   "outputs": [],
   "source": [
    "c = 1 + 2j\n",
    "d = complex(1, 2)"
   ]
  },
  {
   "cell_type": "code",
   "execution_count": 6,
   "id": "c0f59b45",
   "metadata": {},
   "outputs": [
    {
     "data": {
      "text/plain": [
       "complex"
      ]
     },
     "execution_count": 6,
     "metadata": {},
     "output_type": "execute_result"
    }
   ],
   "source": [
    "type(c)"
   ]
  },
  {
   "cell_type": "code",
   "execution_count": 7,
   "id": "d43d1a60",
   "metadata": {},
   "outputs": [
    {
     "data": {
      "text/plain": [
       "complex"
      ]
     },
     "execution_count": 7,
     "metadata": {},
     "output_type": "execute_result"
    }
   ],
   "source": [
    "type(d)"
   ]
  },
  {
   "cell_type": "markdown",
   "id": "2f4fca2d",
   "metadata": {},
   "source": [
    "## Type Conversion"
   ]
  },
  {
   "cell_type": "code",
   "execution_count": 15,
   "id": "69259b1a",
   "metadata": {},
   "outputs": [],
   "source": [
    "a = 123\n",
    "b = 1234.12"
   ]
  },
  {
   "cell_type": "code",
   "execution_count": 16,
   "id": "79f02f3c",
   "metadata": {},
   "outputs": [
    {
     "data": {
      "text/plain": [
       "int"
      ]
     },
     "execution_count": 16,
     "metadata": {},
     "output_type": "execute_result"
    }
   ],
   "source": [
    "type(a)"
   ]
  },
  {
   "cell_type": "code",
   "execution_count": 17,
   "id": "e7a0f7a1",
   "metadata": {},
   "outputs": [
    {
     "data": {
      "text/plain": [
       "float"
      ]
     },
     "execution_count": 17,
     "metadata": {},
     "output_type": "execute_result"
    }
   ],
   "source": [
    "type(b)"
   ]
  },
  {
   "cell_type": "code",
   "execution_count": 18,
   "id": "0388e0fd",
   "metadata": {},
   "outputs": [],
   "source": [
    "a = float(a)\n",
    "b = int(b)"
   ]
  },
  {
   "cell_type": "code",
   "execution_count": 19,
   "id": "89777b70",
   "metadata": {},
   "outputs": [
    {
     "data": {
      "text/plain": [
       "float"
      ]
     },
     "execution_count": 19,
     "metadata": {},
     "output_type": "execute_result"
    }
   ],
   "source": [
    "type(a)"
   ]
  },
  {
   "cell_type": "code",
   "execution_count": 20,
   "id": "c2796f0f",
   "metadata": {},
   "outputs": [
    {
     "data": {
      "text/plain": [
       "int"
      ]
     },
     "execution_count": 20,
     "metadata": {},
     "output_type": "execute_result"
    }
   ],
   "source": [
    "type(b)"
   ]
  },
  {
   "cell_type": "code",
   "execution_count": 21,
   "id": "c9924ee8",
   "metadata": {},
   "outputs": [
    {
     "data": {
      "text/plain": [
       "1234"
      ]
     },
     "execution_count": 21,
     "metadata": {},
     "output_type": "execute_result"
    }
   ],
   "source": [
    "b"
   ]
  },
  {
   "cell_type": "markdown",
   "id": "395a0f62",
   "metadata": {},
   "source": [
    "## Mathematical Operations"
   ]
  },
  {
   "cell_type": "code",
   "execution_count": 22,
   "id": "2796d687",
   "metadata": {},
   "outputs": [],
   "source": [
    "a = 100\n",
    "b = 8"
   ]
  },
  {
   "cell_type": "code",
   "execution_count": 23,
   "id": "7c32c840",
   "metadata": {},
   "outputs": [
    {
     "data": {
      "text/plain": [
       "108"
      ]
     },
     "execution_count": 23,
     "metadata": {},
     "output_type": "execute_result"
    }
   ],
   "source": [
    "# Add\n",
    "a + b"
   ]
  },
  {
   "cell_type": "code",
   "execution_count": 24,
   "id": "dd195526",
   "metadata": {},
   "outputs": [
    {
     "data": {
      "text/plain": [
       "92"
      ]
     },
     "execution_count": 24,
     "metadata": {},
     "output_type": "execute_result"
    }
   ],
   "source": [
    "# Subtract\n",
    "a - b"
   ]
  },
  {
   "cell_type": "code",
   "execution_count": 25,
   "id": "a7a1d55e",
   "metadata": {},
   "outputs": [
    {
     "data": {
      "text/plain": [
       "800"
      ]
     },
     "execution_count": 25,
     "metadata": {},
     "output_type": "execute_result"
    }
   ],
   "source": [
    "# Multiply\n",
    "a * b"
   ]
  },
  {
   "cell_type": "code",
   "execution_count": 26,
   "id": "96ee209d",
   "metadata": {},
   "outputs": [
    {
     "data": {
      "text/plain": [
       "12.5"
      ]
     },
     "execution_count": 26,
     "metadata": {},
     "output_type": "execute_result"
    }
   ],
   "source": [
    "# Division\n",
    "a / b"
   ]
  },
  {
   "cell_type": "code",
   "execution_count": 27,
   "id": "df08cb5f",
   "metadata": {},
   "outputs": [
    {
     "data": {
      "text/plain": [
       "10000000000000000"
      ]
     },
     "execution_count": 27,
     "metadata": {},
     "output_type": "execute_result"
    }
   ],
   "source": [
    "# Power\n",
    "a ** b"
   ]
  },
  {
   "cell_type": "code",
   "execution_count": 28,
   "id": "95615c51",
   "metadata": {},
   "outputs": [
    {
     "data": {
      "text/plain": [
       "12"
      ]
     },
     "execution_count": 28,
     "metadata": {},
     "output_type": "execute_result"
    }
   ],
   "source": [
    "# Floor Division\n",
    "a // b"
   ]
  },
  {
   "cell_type": "code",
   "execution_count": 29,
   "id": "dda78ae9",
   "metadata": {},
   "outputs": [
    {
     "data": {
      "text/plain": [
       "4"
      ]
     },
     "execution_count": 29,
     "metadata": {},
     "output_type": "execute_result"
    }
   ],
   "source": [
    "# Modulo\n",
    "a % b"
   ]
  },
  {
   "cell_type": "code",
   "execution_count": 33,
   "id": "5ee598f8",
   "metadata": {},
   "outputs": [
    {
     "data": {
      "text/plain": [
       "10.0"
      ]
     },
     "execution_count": 33,
     "metadata": {},
     "output_type": "execute_result"
    }
   ],
   "source": [
    "# Square root\n",
    "a ** (1/2)"
   ]
  },
  {
   "cell_type": "markdown",
   "id": "8d4c2cf6",
   "metadata": {},
   "source": [
    "# Methods"
   ]
  },
  {
   "cell_type": "code",
   "execution_count": 31,
   "id": "a56195bb",
   "metadata": {},
   "outputs": [
    {
     "data": {
      "text/plain": [
       "10000000000000000"
      ]
     },
     "execution_count": 31,
     "metadata": {},
     "output_type": "execute_result"
    }
   ],
   "source": [
    "pow(a, b)"
   ]
  },
  {
   "cell_type": "code",
   "execution_count": 1,
   "id": "2aaf6408",
   "metadata": {},
   "outputs": [
    {
     "data": {
      "text/plain": [
       "123"
      ]
     },
     "execution_count": 1,
     "metadata": {},
     "output_type": "execute_result"
    }
   ],
   "source": [
    "abs(-123)"
   ]
  },
  {
   "cell_type": "code",
   "execution_count": 2,
   "id": "95e684a1",
   "metadata": {},
   "outputs": [
    {
     "data": {
      "text/plain": [
       "12.12"
      ]
     },
     "execution_count": 2,
     "metadata": {},
     "output_type": "execute_result"
    }
   ],
   "source": [
    "round(12.1233444, 2)"
   ]
  },
  {
   "cell_type": "code",
   "execution_count": null,
   "id": "360fe76d",
   "metadata": {},
   "outputs": [],
   "source": []
  }
 ],
 "metadata": {
  "kernelspec": {
   "display_name": "Python 3 (ipykernel)",
   "language": "python",
   "name": "python3"
  },
  "language_info": {
   "codemirror_mode": {
    "name": "ipython",
    "version": 3
   },
   "file_extension": ".py",
   "mimetype": "text/x-python",
   "name": "python",
   "nbconvert_exporter": "python",
   "pygments_lexer": "ipython3",
   "version": "3.8.10"
  }
 },
 "nbformat": 4,
 "nbformat_minor": 5
}
