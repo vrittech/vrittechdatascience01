{
 "cells": [
  {
   "cell_type": "code",
   "execution_count": 1,
   "id": "7792ddd6",
   "metadata": {},
   "outputs": [],
   "source": [
    "class Animal:\n",
    "    def sound(self):\n",
    "        print(\"Making some sound...\")\n",
    "\n",
    "class Dog(Animal):\n",
    "    def sound(self):\n",
    "        print(\"Barking!\")\n",
    "\n",
    "class Cat(Animal):\n",
    "    def sound(self):\n",
    "        print(\"Meowing...\")"
   ]
  },
  {
   "cell_type": "code",
   "execution_count": 2,
   "id": "f7812cd2",
   "metadata": {},
   "outputs": [
    {
     "name": "stdout",
     "output_type": "stream",
     "text": [
      "Making some sound...\n",
      "Barking!\n",
      "Meowing...\n"
     ]
    }
   ],
   "source": [
    "animal = Animal()\n",
    "dog = Dog()\n",
    "cat = Cat()\n",
    "\n",
    "animal.sound()\n",
    "dog.sound()\n",
    "cat.sound()"
   ]
  },
  {
   "cell_type": "code",
   "execution_count": null,
   "id": "be75e084",
   "metadata": {},
   "outputs": [],
   "source": []
  },
  {
   "cell_type": "code",
   "execution_count": 3,
   "id": "64a34de0",
   "metadata": {},
   "outputs": [],
   "source": [
    "class Animal:\n",
    "    def sound(self):\n",
    "        print(\"Making some sound...\")\n",
    "        \n",
    "class Base2:\n",
    "    def sound(self):\n",
    "        print(\"Base 2 Sound...\")\n",
    "\n",
    "class Dog(Animal, Base2):\n",
    "    def speak(self):\n",
    "        print(\"Barking!\")"
   ]
  },
  {
   "cell_type": "code",
   "execution_count": 4,
   "id": "c718b576",
   "metadata": {},
   "outputs": [
    {
     "name": "stdout",
     "output_type": "stream",
     "text": [
      "Making some sound...\n"
     ]
    }
   ],
   "source": [
    "animal = Animal()\n",
    "animal.sound()"
   ]
  },
  {
   "cell_type": "code",
   "execution_count": 5,
   "id": "d439cc0d",
   "metadata": {},
   "outputs": [
    {
     "name": "stdout",
     "output_type": "stream",
     "text": [
      "Base 2 Sound...\n"
     ]
    }
   ],
   "source": [
    "base = Base2()\n",
    "base.sound()"
   ]
  },
  {
   "cell_type": "code",
   "execution_count": 6,
   "id": "d86d0bcd",
   "metadata": {},
   "outputs": [
    {
     "name": "stdout",
     "output_type": "stream",
     "text": [
      "Barking!\n",
      "Making some sound...\n"
     ]
    }
   ],
   "source": [
    "dog = Dog()\n",
    "dog.speak()\n",
    "dog.sound()"
   ]
  },
  {
   "cell_type": "code",
   "execution_count": null,
   "id": "48a2003e",
   "metadata": {},
   "outputs": [],
   "source": []
  },
  {
   "cell_type": "code",
   "execution_count": 7,
   "id": "c4e3d025",
   "metadata": {},
   "outputs": [],
   "source": [
    "class Parent:\n",
    "    def say_hello(self):\n",
    "        print(\"Hello from Parent\")\n",
    "\n",
    "class Child(Parent):\n",
    "    def say_hello(self):\n",
    "        print(\"Hello from Child\")\n",
    "        super().say_hello()  # calls the overridden method in the parent class"
   ]
  },
  {
   "cell_type": "code",
   "execution_count": 8,
   "id": "06ba029d",
   "metadata": {},
   "outputs": [
    {
     "name": "stdout",
     "output_type": "stream",
     "text": [
      "Hello from Child\n",
      "Hello from Parent\n"
     ]
    }
   ],
   "source": [
    "obj = Child()\n",
    "obj.say_hello()"
   ]
  },
  {
   "cell_type": "code",
   "execution_count": null,
   "id": "61a6344e",
   "metadata": {},
   "outputs": [],
   "source": []
  }
 ],
 "metadata": {
  "kernelspec": {
   "display_name": "Python 3 (ipykernel)",
   "language": "python",
   "name": "python3"
  },
  "language_info": {
   "codemirror_mode": {
    "name": "ipython",
    "version": 3
   },
   "file_extension": ".py",
   "mimetype": "text/x-python",
   "name": "python",
   "nbconvert_exporter": "python",
   "pygments_lexer": "ipython3",
   "version": "3.10.6"
  }
 },
 "nbformat": 4,
 "nbformat_minor": 5
}
