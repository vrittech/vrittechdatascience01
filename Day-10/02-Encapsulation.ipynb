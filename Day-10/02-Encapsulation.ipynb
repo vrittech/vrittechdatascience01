{
 "cells": [
  {
   "cell_type": "code",
   "execution_count": 1,
   "id": "bc0f5ae3",
   "metadata": {},
   "outputs": [],
   "source": [
    "class Example:\n",
    "    def __init__(self):\n",
    "        self.public_var = 1\n",
    "        self._protected_var = 2\n",
    "        self.__private_var = 3\n",
    "\n",
    "    def public_method(self):\n",
    "        print(\"This is a public method.\")\n",
    "\n",
    "    def _protected_method(self):\n",
    "        print(\"This is a protected method.\")\n",
    "\n",
    "    def __private_method(self):\n",
    "        print(self.__private_var)\n",
    "        print(\"This is a private method.\")"
   ]
  },
  {
   "cell_type": "code",
   "execution_count": 2,
   "id": "aa5589f9",
   "metadata": {},
   "outputs": [],
   "source": [
    "class SubClass(Example):\n",
    "    def __init__(self):\n",
    "        super().__init__()\n",
    "    \n",
    "    def get_public_member(self):\n",
    "        print(self.public_var)\n",
    "    \n",
    "    def get_protected_member(self):\n",
    "        print(self._protected_var)\n",
    "    \n",
    "    def get_private_member(self):\n",
    "        print(self.__private_var)dd"
   ]
  },
  {
   "cell_type": "code",
   "execution_count": 3,
   "id": "6dcd8d45",
   "metadata": {},
   "outputs": [
    {
     "name": "stdout",
     "output_type": "stream",
     "text": [
      "1\n",
      "2\n"
     ]
    },
    {
     "ename": "AttributeError",
     "evalue": "'SubClass' object has no attribute '_SubClass__private_var'",
     "output_type": "error",
     "traceback": [
      "\u001b[0;31m---------------------------------------------------------------------------\u001b[0m",
      "\u001b[0;31mAttributeError\u001b[0m                            Traceback (most recent call last)",
      "Cell \u001b[0;32mIn[3], line 4\u001b[0m\n\u001b[1;32m      2\u001b[0m sub\u001b[38;5;241m.\u001b[39mget_public_member() \u001b[38;5;66;03m# Can be accessed\u001b[39;00m\n\u001b[1;32m      3\u001b[0m sub\u001b[38;5;241m.\u001b[39mget_protected_member() \u001b[38;5;66;03m# Can be accessed\u001b[39;00m\n\u001b[0;32m----> 4\u001b[0m \u001b[43msub\u001b[49m\u001b[38;5;241;43m.\u001b[39;49m\u001b[43mget_private_member\u001b[49m\u001b[43m(\u001b[49m\u001b[43m)\u001b[49m\n",
      "Cell \u001b[0;32mIn[2], line 12\u001b[0m, in \u001b[0;36mSubClass.get_private_member\u001b[0;34m(self)\u001b[0m\n\u001b[1;32m     11\u001b[0m \u001b[38;5;28;01mdef\u001b[39;00m \u001b[38;5;21mget_private_member\u001b[39m(\u001b[38;5;28mself\u001b[39m):\n\u001b[0;32m---> 12\u001b[0m     \u001b[38;5;28mprint\u001b[39m(\u001b[38;5;28;43mself\u001b[39;49m\u001b[38;5;241;43m.\u001b[39;49m\u001b[43m__private_var\u001b[49m)\n",
      "\u001b[0;31mAttributeError\u001b[0m: 'SubClass' object has no attribute '_SubClass__private_var'"
     ]
    }
   ],
   "source": [
    "sub = SubClass()\n",
    "sub.get_public_member() # Can be accessed\n",
    "sub.get_protected_member() # Can be accessed\n",
    "sub.get_private_member()"
   ]
  },
  {
   "cell_type": "code",
   "execution_count": 4,
   "id": "28ffbd02",
   "metadata": {},
   "outputs": [
    {
     "name": "stdout",
     "output_type": "stream",
     "text": [
      "This is a public method.\n",
      "This is a protected method.\n"
     ]
    },
    {
     "ename": "AttributeError",
     "evalue": "'Example' object has no attribute '__private_method'",
     "output_type": "error",
     "traceback": [
      "\u001b[0;31m---------------------------------------------------------------------------\u001b[0m",
      "\u001b[0;31mAttributeError\u001b[0m                            Traceback (most recent call last)",
      "Cell \u001b[0;32mIn[4], line 4\u001b[0m\n\u001b[1;32m      2\u001b[0m ex\u001b[38;5;241m.\u001b[39mpublic_method() \u001b[38;5;66;03m# Can be accessed\u001b[39;00m\n\u001b[1;32m      3\u001b[0m ex\u001b[38;5;241m.\u001b[39m_protected_method() \u001b[38;5;66;03m# Can be accessed\u001b[39;00m\n\u001b[0;32m----> 4\u001b[0m \u001b[43mex\u001b[49m\u001b[38;5;241;43m.\u001b[39;49m\u001b[43m__private_method\u001b[49m()\n",
      "\u001b[0;31mAttributeError\u001b[0m: 'Example' object has no attribute '__private_method'"
     ]
    }
   ],
   "source": [
    "ex = Example()\n",
    "ex.public_method() # Can be accessed\n",
    "ex._protected_method() # Can be accessed\n",
    "ex.__private_method()"
   ]
  },
  {
   "cell_type": "code",
   "execution_count": null,
   "id": "34f28df2",
   "metadata": {},
   "outputs": [],
   "source": []
  }
 ],
 "metadata": {
  "kernelspec": {
   "display_name": "Python 3 (ipykernel)",
   "language": "python",
   "name": "python3"
  },
  "language_info": {
   "codemirror_mode": {
    "name": "ipython",
    "version": 3
   },
   "file_extension": ".py",
   "mimetype": "text/x-python",
   "name": "python",
   "nbconvert_exporter": "python",
   "pygments_lexer": "ipython3",
   "version": "3.10.6"
  }
 },
 "nbformat": 4,
 "nbformat_minor": 5
}
