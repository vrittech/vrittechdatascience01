{
 "cells": [
  {
   "cell_type": "code",
   "execution_count": null,
   "id": "a9180caa",
   "metadata": {},
   "outputs": [],
   "source": [
    "import numpy as np\n",
    "import pandas as pd\n",
    "import matplotlib.pyplot as plt\n",
    "from scipy import stats"
   ]
  },
  {
   "cell_type": "code",
   "execution_count": null,
   "id": "c2a7d92b",
   "metadata": {},
   "outputs": [],
   "source": [
    "# Create a contingency table\n",
    "data = pd.DataFrame({'Category': ['A', 'A', 'B', 'B', 'B', 'C', 'C'],\n",
    "                     'Outcome': ['Success', 'Failure', 'Success', 'Failure', 'Success', 'Success', 'Failure']})\n",
    "\n",
    "contingency_table = pd.crosstab(data['Category'], data['Outcome'])\n",
    "\n",
    "# Perform the chi-square test\n",
    "chi2_stat, p_value, dof, expected = stats.chi2_contingency(contingency_table)\n",
    "\n",
    "# Print the test statistic, p-value, and expected frequencies\n",
    "print(f\"Chi-square test statistic = {chi2_stat:.2f}\")\n",
    "print(f\"P-value = {p_value:.4f}\")\n",
    "print(\"Expected frequencies:\")\n",
    "print(expected)"
   ]
  },
  {
   "cell_type": "code",
   "execution_count": null,
   "id": "27e4dbf7",
   "metadata": {},
   "outputs": [],
   "source": [
    "# Plot the observed and expected frequencies\n",
    "categories = contingency_table.index\n",
    "outcomes = contingency_table.columns\n",
    "\n",
    "observed_freq = np.array(contingency_table)\n",
    "expected_freq = np.array(expected)\n",
    "\n",
    "width = 0.35\n",
    "x = np.arange(len(categories))\n",
    "\n",
    "fig, ax = plt.subplots(figsize=(8, 6))\n",
    "rects1 = ax.bar(x - width/2, observed_freq[:, 0], width, label=outcomes[0])\n",
    "rects2 = ax.bar(x + width/2, observed_freq[:, 1], width, label=outcomes[1])\n",
    "\n",
    "ax.set_xlabel('Category')\n",
    "ax.set_ylabel('Frequency')\n",
    "ax.set_title('Observed Frequencies by Category and Outcome')\n",
    "ax.set_xticks(x)\n",
    "ax.set_xticklabels(categories)\n",
    "ax.legend()\n",
    "\n",
    "# Add text labels for the observed frequencies\n",
    "for i, rect in enumerate(rects1):\n",
    "    height = rect.get_height()\n",
    "    ax.annotate(f'{observed_freq[i, 0]}', xy=(rect.get_x() + rect.get_width() / 2, height),\n",
    "                xytext=(0, 3), textcoords='offset points', ha='center', va='bottom')\n",
    "\n",
    "for i, rect in enumerate(rects2):\n",
    "    height = rect.get_height()\n",
    "    ax.annotate(f'{observed_freq[i, 1]}', xy=(rect.get_x() + rect.get_width() / 2, height),\n",
    "                xytext=(0, 3), textcoords='offset points', ha='center', va='bottom')\n",
    "\n",
    "# Add a line plot for the expected frequencies\n",
    "line = ax.plot(x, expected_freq[:, 0], marker='o', linestyle='--', color='black', label='Expected Success')\n",
    "line = ax.plot(x, expected_freq[:, 1], marker='o', linestyle='--', color='red', label='Expected Failure')\n",
    "ax.legend()\n",
    "\n",
    "plt.show()"
   ]
  }
 ],
 "metadata": {
  "kernelspec": {
   "display_name": "Python 3 (ipykernel)",
   "language": "python",
   "name": "python3"
  },
  "language_info": {
   "codemirror_mode": {
    "name": "ipython",
    "version": 3
   },
   "file_extension": ".py",
   "mimetype": "text/x-python",
   "name": "python",
   "nbconvert_exporter": "python",
   "pygments_lexer": "ipython3",
   "version": "3.10.6"
  }
 },
 "nbformat": 4,
 "nbformat_minor": 5
}
