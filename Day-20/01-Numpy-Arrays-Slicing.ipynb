{
 "cells": [
  {
   "cell_type": "markdown",
   "id": "9f93626e",
   "metadata": {},
   "source": [
    "1D Array: `array_name[start:stop:step]` (Similar to Python list)\n",
    "\n",
    "2D Array: `array_name[row_idx, col_idx]` (Similar to Matrix)\n",
    "\n",
    "ND Array: `array_name[dim1_idx, dim2_idx, ..., dimN_idx]`"
   ]
  },
  {
   "cell_type": "code",
   "execution_count": 1,
   "id": "3d5b1162",
   "metadata": {},
   "outputs": [],
   "source": [
    "import numpy as np"
   ]
  },
  {
   "cell_type": "markdown",
   "id": "8a6d6a76",
   "metadata": {},
   "source": [
    "## One Dimensional Array"
   ]
  },
  {
   "cell_type": "code",
   "execution_count": 2,
   "id": "8cc5701a",
   "metadata": {},
   "outputs": [],
   "source": [
    "list1 = [1, 2, 3, 4, 5, 6, 7, 8]"
   ]
  },
  {
   "cell_type": "code",
   "execution_count": 3,
   "id": "87d02c7f",
   "metadata": {},
   "outputs": [
    {
     "data": {
      "text/plain": [
       "[2, 4, 6]"
      ]
     },
     "execution_count": 3,
     "metadata": {},
     "output_type": "execute_result"
    }
   ],
   "source": [
    "list1[1:7:2]"
   ]
  },
  {
   "cell_type": "code",
   "execution_count": 4,
   "id": "a3e8f49f",
   "metadata": {},
   "outputs": [],
   "source": [
    "array1 = np.array(list1)"
   ]
  },
  {
   "cell_type": "code",
   "execution_count": 5,
   "id": "fbee4282",
   "metadata": {},
   "outputs": [
    {
     "data": {
      "text/plain": [
       "array([2, 4, 6])"
      ]
     },
     "execution_count": 5,
     "metadata": {},
     "output_type": "execute_result"
    }
   ],
   "source": [
    "array1[1:7:2]"
   ]
  },
  {
   "cell_type": "markdown",
   "id": "edf2c9dc",
   "metadata": {},
   "source": [
    "## Multi Dimensional"
   ]
  },
  {
   "cell_type": "code",
   "execution_count": 6,
   "id": "8342082d",
   "metadata": {},
   "outputs": [],
   "source": [
    "list2 = [[1, 2, 3, 4, 5, 6, 7, 8], [1, 3, 5, 7, 9, 11, 13, 15]]"
   ]
  },
  {
   "cell_type": "code",
   "execution_count": 7,
   "id": "3948f8b4",
   "metadata": {},
   "outputs": [
    {
     "data": {
      "text/plain": [
       "[6, 7, 8]"
      ]
     },
     "execution_count": 7,
     "metadata": {},
     "output_type": "execute_result"
    }
   ],
   "source": [
    "list2[0][5:]"
   ]
  },
  {
   "cell_type": "code",
   "execution_count": 8,
   "id": "7954625b",
   "metadata": {},
   "outputs": [],
   "source": [
    "array2 = np.array(list2)"
   ]
  },
  {
   "cell_type": "code",
   "execution_count": 9,
   "id": "8f39bc60",
   "metadata": {},
   "outputs": [
    {
     "data": {
      "text/plain": [
       "array([[ 1,  2,  3,  4,  5,  6,  7,  8],\n",
       "       [ 1,  3,  5,  7,  9, 11, 13, 15]])"
      ]
     },
     "execution_count": 9,
     "metadata": {},
     "output_type": "execute_result"
    }
   ],
   "source": [
    "array2"
   ]
  },
  {
   "cell_type": "code",
   "execution_count": 10,
   "id": "f3c9917b",
   "metadata": {},
   "outputs": [
    {
     "data": {
      "text/plain": [
       "array([6, 7, 8])"
      ]
     },
     "execution_count": 10,
     "metadata": {},
     "output_type": "execute_result"
    }
   ],
   "source": [
    "array2[0][5:]"
   ]
  },
  {
   "cell_type": "code",
   "execution_count": 11,
   "id": "19ca66e1",
   "metadata": {},
   "outputs": [
    {
     "data": {
      "text/plain": [
       "array([6, 7, 8])"
      ]
     },
     "execution_count": 11,
     "metadata": {},
     "output_type": "execute_result"
    }
   ],
   "source": [
    "array2[0, 5:]"
   ]
  },
  {
   "cell_type": "code",
   "execution_count": 12,
   "id": "b53d22f7",
   "metadata": {},
   "outputs": [
    {
     "data": {
      "text/plain": [
       "array([[2, 3, 4],\n",
       "       [3, 5, 7]])"
      ]
     },
     "execution_count": 12,
     "metadata": {},
     "output_type": "execute_result"
    }
   ],
   "source": [
    "array2[:, 1:4]"
   ]
  },
  {
   "cell_type": "code",
   "execution_count": 13,
   "id": "d20c7f1e",
   "metadata": {},
   "outputs": [
    {
     "data": {
      "text/plain": [
       "array([[ 2,  4,  6,  8],\n",
       "       [ 3,  7, 11, 15]])"
      ]
     },
     "execution_count": 13,
     "metadata": {},
     "output_type": "execute_result"
    }
   ],
   "source": [
    "# [start : stop : step]\n",
    "array2[:, 1::2]"
   ]
  },
  {
   "cell_type": "code",
   "execution_count": 14,
   "id": "30d28909",
   "metadata": {},
   "outputs": [],
   "source": [
    "list3 = [[1, 2, 3, 4, 5, 6, 7, 8], [1, 3, 5, 7, 9, 11, 13, 15], [15, 25, 9999, 376, 19, 420, 786, 555]]"
   ]
  },
  {
   "cell_type": "code",
   "execution_count": 15,
   "id": "cbcf2d79",
   "metadata": {},
   "outputs": [],
   "source": [
    "array3 = np.array(list3)"
   ]
  },
  {
   "cell_type": "code",
   "execution_count": 16,
   "id": "5163a0ff",
   "metadata": {},
   "outputs": [
    {
     "data": {
      "text/plain": [
       "array([[   1,    2,    3,    4,    5,    6,    7,    8],\n",
       "       [   1,    3,    5,    7,    9,   11,   13,   15],\n",
       "       [  15,   25, 9999,  376,   19,  420,  786,  555]])"
      ]
     },
     "execution_count": 16,
     "metadata": {},
     "output_type": "execute_result"
    }
   ],
   "source": [
    "array3"
   ]
  },
  {
   "cell_type": "code",
   "execution_count": 17,
   "id": "ee4cfe41",
   "metadata": {},
   "outputs": [
    {
     "data": {
      "text/plain": [
       "array([[  9,  11,  13],\n",
       "       [ 19, 420, 786]])"
      ]
     },
     "execution_count": 17,
     "metadata": {},
     "output_type": "execute_result"
    }
   ],
   "source": [
    "array3[1:, 4:7]"
   ]
  },
  {
   "cell_type": "code",
   "execution_count": 20,
   "id": "66d06d2e",
   "metadata": {},
   "outputs": [
    {
     "data": {
      "text/plain": [
       "(3, 8)"
      ]
     },
     "execution_count": 20,
     "metadata": {},
     "output_type": "execute_result"
    }
   ],
   "source": [
    "array3.shape"
   ]
  },
  {
   "cell_type": "code",
   "execution_count": 23,
   "id": "9bc83c6e",
   "metadata": {},
   "outputs": [
    {
     "data": {
      "text/plain": [
       "3"
      ]
     },
     "execution_count": 23,
     "metadata": {},
     "output_type": "execute_result"
    }
   ],
   "source": [
    "array3.shape[0]"
   ]
  },
  {
   "cell_type": "code",
   "execution_count": 26,
   "id": "e6e9fee9",
   "metadata": {},
   "outputs": [],
   "source": [
    "list4 = [\n",
    "    [[1, 2, 3, 4], [5, 6, 7, 8]],\n",
    "    [[1, 3, 5, 7], [9, 11, 13, 15]],\n",
    "    [[15, 25, 9999, 376], [19, 420, 786, 555]]\n",
    "]"
   ]
  },
  {
   "cell_type": "code",
   "execution_count": 27,
   "id": "4983ed7a",
   "metadata": {},
   "outputs": [],
   "source": [
    "array4 = np.array(list4)"
   ]
  },
  {
   "cell_type": "code",
   "execution_count": 28,
   "id": "1672f5cb",
   "metadata": {},
   "outputs": [
    {
     "data": {
      "text/plain": [
       "(3, 2, 4)"
      ]
     },
     "execution_count": 28,
     "metadata": {},
     "output_type": "execute_result"
    }
   ],
   "source": [
    "array4.shape"
   ]
  },
  {
   "cell_type": "code",
   "execution_count": 29,
   "id": "7ad9a7b1",
   "metadata": {},
   "outputs": [
    {
     "data": {
      "text/plain": [
       "3"
      ]
     },
     "execution_count": 29,
     "metadata": {},
     "output_type": "execute_result"
    }
   ],
   "source": [
    "array4.ndim"
   ]
  },
  {
   "cell_type": "code",
   "execution_count": 31,
   "id": "e516c54f",
   "metadata": {},
   "outputs": [
    {
     "data": {
      "text/plain": [
       "array([[[ 2,  3],\n",
       "        [ 6,  7]],\n",
       "\n",
       "       [[ 3,  5],\n",
       "        [11, 13]]])"
      ]
     },
     "execution_count": 31,
     "metadata": {},
     "output_type": "execute_result"
    }
   ],
   "source": [
    "array4[:2, :, 1:3]"
   ]
  },
  {
   "cell_type": "code",
   "execution_count": null,
   "id": "43d1a4dc",
   "metadata": {},
   "outputs": [],
   "source": []
  }
 ],
 "metadata": {
  "kernelspec": {
   "display_name": "Python 3 (ipykernel)",
   "language": "python",
   "name": "python3"
  },
  "language_info": {
   "codemirror_mode": {
    "name": "ipython",
    "version": 3
   },
   "file_extension": ".py",
   "mimetype": "text/x-python",
   "name": "python",
   "nbconvert_exporter": "python",
   "pygments_lexer": "ipython3",
   "version": "3.10.6"
  }
 },
 "nbformat": 4,
 "nbformat_minor": 5
}
