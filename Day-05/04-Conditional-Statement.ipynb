{
 "cells": [
  {
   "cell_type": "markdown",
   "id": "081a423c",
   "metadata": {},
   "source": [
    "# Conditional Statements\n",
    "\n",
    "SYNTAX:\n",
    "\n",
    "```python\n",
    "if CONDITION:\n",
    "    DO SOMETHING\n",
    "else:\n",
    "    DO SOMETHING ELSE\n",
    "```"
   ]
  },
  {
   "cell_type": "code",
   "execution_count": 9,
   "id": "78c66afb",
   "metadata": {},
   "outputs": [
    {
     "name": "stdout",
     "output_type": "stream",
     "text": [
      "Enter a number:-23\n"
     ]
    }
   ],
   "source": [
    "a = int(input('Enter a number:'))"
   ]
  },
  {
   "cell_type": "code",
   "execution_count": 10,
   "id": "50405f41",
   "metadata": {},
   "outputs": [
    {
     "data": {
      "text/plain": [
       "-23"
      ]
     },
     "execution_count": 10,
     "metadata": {},
     "output_type": "execute_result"
    }
   ],
   "source": [
    "a"
   ]
  },
  {
   "cell_type": "code",
   "execution_count": 11,
   "id": "96a9d07e",
   "metadata": {},
   "outputs": [
    {
     "data": {
      "text/plain": [
       "int"
      ]
     },
     "execution_count": 11,
     "metadata": {},
     "output_type": "execute_result"
    }
   ],
   "source": [
    "type(a)"
   ]
  },
  {
   "cell_type": "code",
   "execution_count": 12,
   "id": "03255f60",
   "metadata": {},
   "outputs": [
    {
     "name": "stdout",
     "output_type": "stream",
     "text": [
      "-23 is not a positive number.\n"
     ]
    }
   ],
   "source": [
    "if a > 0:\n",
    "    print(f'{a} is a positive number.')\n",
    "else:\n",
    "    print('{} is not a positive number.'.format(a))"
   ]
  },
  {
   "cell_type": "markdown",
   "id": "6ad91305",
   "metadata": {},
   "source": [
    "## Multiple Conditions\n",
    "\n",
    "```python\n",
    "if CONDITION 1:\n",
    "    DO SOMETHING\n",
    "elif CONDITION 2:\n",
    "    DO SOMETHING ELSE\n",
    "    \n",
    "elif ....\n",
    ".\n",
    ".\n",
    ".\n",
    "else:\n",
    "    DO SOMETHING ELSE\n",
    "```\n",
    "\n",
    "elif = else + if"
   ]
  },
  {
   "cell_type": "code",
   "execution_count": 14,
   "id": "a9e7ad24",
   "metadata": {},
   "outputs": [
    {
     "name": "stdout",
     "output_type": "stream",
     "text": [
      "-23 is a negative number.\n"
     ]
    }
   ],
   "source": [
    "if a > 0:\n",
    "    print(f'{a} is a positive number.')\n",
    "elif a == 0:\n",
    "    print(f'{a} is neither positive nor negative')\n",
    "else:\n",
    "    print('{} is a negative number.'.format(a))"
   ]
  },
  {
   "cell_type": "code",
   "execution_count": 18,
   "id": "22bba9f3",
   "metadata": {},
   "outputs": [
    {
     "name": "stdout",
     "output_type": "stream",
     "text": [
      "Enter a number:-200\n",
      "-200 is a large negative number.\n"
     ]
    }
   ],
   "source": [
    "a = int(input('Enter a number:'))\n",
    "\n",
    "if a > 0:\n",
    "    if a > 100:\n",
    "        print(f'{a} is a large positive number.')\n",
    "    else:\n",
    "        print(f'{a} is a positive number.')\n",
    "elif a == 0:\n",
    "    print(f'{a} is neither positive nor negative')\n",
    "else:\n",
    "    if a < -100:\n",
    "        print('{} is a large negative number.'.format(a))\n",
    "    else:\n",
    "        print('{} is a negative number.'.format(a))"
   ]
  },
  {
   "cell_type": "code",
   "execution_count": null,
   "id": "022642bb",
   "metadata": {},
   "outputs": [],
   "source": []
  }
 ],
 "metadata": {
  "kernelspec": {
   "display_name": "Python 3 (ipykernel)",
   "language": "python",
   "name": "python3"
  },
  "language_info": {
   "codemirror_mode": {
    "name": "ipython",
    "version": 3
   },
   "file_extension": ".py",
   "mimetype": "text/x-python",
   "name": "python",
   "nbconvert_exporter": "python",
   "pygments_lexer": "ipython3",
   "version": "3.8.10"
  }
 },
 "nbformat": 4,
 "nbformat_minor": 5
}
