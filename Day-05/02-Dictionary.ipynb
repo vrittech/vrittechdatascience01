{
 "cells": [
  {
   "cell_type": "markdown",
   "id": "e42b9895",
   "metadata": {},
   "source": [
    "# Dictionary (Object)\n",
    "\n",
    "{'key1': 'value1', 'key2': 'value2', ...}"
   ]
  },
  {
   "cell_type": "code",
   "execution_count": null,
   "id": "81e49d97",
   "metadata": {},
   "outputs": [],
   "source": [
    "a = [1, 2, 3, 4]"
   ]
  },
  {
   "cell_type": "markdown",
   "id": "dcf885e6",
   "metadata": {},
   "source": [
    "# Accessing Dictionary"
   ]
  },
  {
   "cell_type": "code",
   "execution_count": 16,
   "id": "965730f3",
   "metadata": {},
   "outputs": [],
   "source": [
    "a = {1:1, 2:2, 'c':3}"
   ]
  },
  {
   "cell_type": "code",
   "execution_count": 2,
   "id": "5254948f",
   "metadata": {},
   "outputs": [
    {
     "data": {
      "text/plain": [
       "{1: 1, 2: 2, 'c': 3}"
      ]
     },
     "execution_count": 2,
     "metadata": {},
     "output_type": "execute_result"
    }
   ],
   "source": [
    "a"
   ]
  },
  {
   "cell_type": "code",
   "execution_count": 3,
   "id": "b3492a7f",
   "metadata": {},
   "outputs": [],
   "source": [
    "# dict()"
   ]
  },
  {
   "cell_type": "code",
   "execution_count": 4,
   "id": "1f277bb2",
   "metadata": {},
   "outputs": [
    {
     "data": {
      "text/plain": [
       "1"
      ]
     },
     "execution_count": 4,
     "metadata": {},
     "output_type": "execute_result"
    }
   ],
   "source": [
    "a[1]"
   ]
  },
  {
   "cell_type": "code",
   "execution_count": 5,
   "id": "32121cbb",
   "metadata": {},
   "outputs": [
    {
     "data": {
      "text/plain": [
       "3"
      ]
     },
     "execution_count": 5,
     "metadata": {},
     "output_type": "execute_result"
    }
   ],
   "source": [
    "a['c']"
   ]
  },
  {
   "cell_type": "code",
   "execution_count": 11,
   "id": "0ab8ed4f",
   "metadata": {},
   "outputs": [
    {
     "ename": "KeyError",
     "evalue": "'d'",
     "output_type": "error",
     "traceback": [
      "\u001b[0;31m---------------------------------------------------------------------------\u001b[0m",
      "\u001b[0;31mKeyError\u001b[0m                                  Traceback (most recent call last)",
      "Cell \u001b[0;32mIn[11], line 1\u001b[0m\n\u001b[0;32m----> 1\u001b[0m \u001b[43ma\u001b[49m\u001b[43m[\u001b[49m\u001b[38;5;124;43m'\u001b[39;49m\u001b[38;5;124;43md\u001b[39;49m\u001b[38;5;124;43m'\u001b[39;49m\u001b[43m]\u001b[49m\n",
      "\u001b[0;31mKeyError\u001b[0m: 'd'"
     ]
    }
   ],
   "source": [
    "a['d']"
   ]
  },
  {
   "cell_type": "code",
   "execution_count": 9,
   "id": "fad2b8ec",
   "metadata": {},
   "outputs": [
    {
     "data": {
      "text/plain": [
       "3"
      ]
     },
     "execution_count": 9,
     "metadata": {},
     "output_type": "execute_result"
    }
   ],
   "source": [
    "a.get('c')"
   ]
  },
  {
   "cell_type": "code",
   "execution_count": 10,
   "id": "4ffee079",
   "metadata": {},
   "outputs": [],
   "source": [
    "a.get('d')"
   ]
  },
  {
   "cell_type": "markdown",
   "id": "7ae9b1b9",
   "metadata": {},
   "source": [
    "# Dictionary Methods"
   ]
  },
  {
   "cell_type": "code",
   "execution_count": 6,
   "id": "1f814083",
   "metadata": {},
   "outputs": [
    {
     "data": {
      "text/plain": [
       "dict_keys([1, 2, 'c'])"
      ]
     },
     "execution_count": 6,
     "metadata": {},
     "output_type": "execute_result"
    }
   ],
   "source": [
    "a.keys()"
   ]
  },
  {
   "cell_type": "code",
   "execution_count": 7,
   "id": "6992d1db",
   "metadata": {},
   "outputs": [
    {
     "data": {
      "text/plain": [
       "dict_values([1, 2, 3])"
      ]
     },
     "execution_count": 7,
     "metadata": {},
     "output_type": "execute_result"
    }
   ],
   "source": [
    "a.values()"
   ]
  },
  {
   "cell_type": "code",
   "execution_count": 8,
   "id": "55a3781a",
   "metadata": {},
   "outputs": [
    {
     "data": {
      "text/plain": [
       "dict_items([(1, 1), (2, 2), ('c', 3)])"
      ]
     },
     "execution_count": 8,
     "metadata": {},
     "output_type": "execute_result"
    }
   ],
   "source": [
    "a.items()"
   ]
  },
  {
   "cell_type": "markdown",
   "id": "1c1c44cb",
   "metadata": {},
   "source": [
    "# Modifying Dictionary"
   ]
  },
  {
   "cell_type": "code",
   "execution_count": 12,
   "id": "59646a6f",
   "metadata": {},
   "outputs": [],
   "source": [
    "a[1] = 5"
   ]
  },
  {
   "cell_type": "code",
   "execution_count": 13,
   "id": "c6d19b55",
   "metadata": {},
   "outputs": [
    {
     "data": {
      "text/plain": [
       "{1: 5, 2: 2, 'c': 3}"
      ]
     },
     "execution_count": 13,
     "metadata": {},
     "output_type": "execute_result"
    }
   ],
   "source": [
    "a"
   ]
  },
  {
   "cell_type": "code",
   "execution_count": 14,
   "id": "793c1872",
   "metadata": {},
   "outputs": [],
   "source": [
    "a['d'] = 'abc'"
   ]
  },
  {
   "cell_type": "code",
   "execution_count": 15,
   "id": "02c436a9",
   "metadata": {},
   "outputs": [
    {
     "data": {
      "text/plain": [
       "{1: 5, 2: 2, 'c': 3, 'd': 'abc'}"
      ]
     },
     "execution_count": 15,
     "metadata": {},
     "output_type": "execute_result"
    }
   ],
   "source": [
    "a"
   ]
  },
  {
   "cell_type": "code",
   "execution_count": 22,
   "id": "3a8b5a6a",
   "metadata": {},
   "outputs": [],
   "source": [
    "dictationary = {'dic': 45, 'msg': 'practice', 'mod': 'hello'}"
   ]
  },
  {
   "cell_type": "code",
   "execution_count": 23,
   "id": "9cc3465f",
   "metadata": {},
   "outputs": [
    {
     "data": {
      "text/plain": [
       "['dic', 'mod', 'msg']"
      ]
     },
     "execution_count": 23,
     "metadata": {},
     "output_type": "execute_result"
    }
   ],
   "source": [
    "sorted(dictationary)"
   ]
  },
  {
   "cell_type": "code",
   "execution_count": null,
   "id": "22da5ffd",
   "metadata": {},
   "outputs": [],
   "source": []
  }
 ],
 "metadata": {
  "kernelspec": {
   "display_name": "Python 3 (ipykernel)",
   "language": "python",
   "name": "python3"
  },
  "language_info": {
   "codemirror_mode": {
    "name": "ipython",
    "version": 3
   },
   "file_extension": ".py",
   "mimetype": "text/x-python",
   "name": "python",
   "nbconvert_exporter": "python",
   "pygments_lexer": "ipython3",
   "version": "3.8.10"
  }
 },
 "nbformat": 4,
 "nbformat_minor": 5
}
