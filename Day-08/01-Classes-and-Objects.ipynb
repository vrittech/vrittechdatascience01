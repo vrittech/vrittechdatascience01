{
 "cells": [
  {
   "cell_type": "markdown",
   "id": "d5faf5d0",
   "metadata": {},
   "source": [
    "# Classes and Objects"
   ]
  },
  {
   "cell_type": "code",
   "execution_count": 1,
   "id": "67236b07",
   "metadata": {},
   "outputs": [],
   "source": [
    "a = 1"
   ]
  },
  {
   "cell_type": "code",
   "execution_count": 3,
   "id": "a213ccc5",
   "metadata": {},
   "outputs": [
    {
     "name": "stdout",
     "output_type": "stream",
     "text": [
      "<class 'int'>\n"
     ]
    }
   ],
   "source": [
    "print(type(a))"
   ]
  },
  {
   "cell_type": "code",
   "execution_count": 4,
   "id": "0af88a37",
   "metadata": {},
   "outputs": [
    {
     "data": {
      "text/plain": [
       "['__abs__',\n",
       " '__add__',\n",
       " '__and__',\n",
       " '__bool__',\n",
       " '__ceil__',\n",
       " '__class__',\n",
       " '__delattr__',\n",
       " '__dir__',\n",
       " '__divmod__',\n",
       " '__doc__',\n",
       " '__eq__',\n",
       " '__float__',\n",
       " '__floor__',\n",
       " '__floordiv__',\n",
       " '__format__',\n",
       " '__ge__',\n",
       " '__getattribute__',\n",
       " '__getnewargs__',\n",
       " '__gt__',\n",
       " '__hash__',\n",
       " '__index__',\n",
       " '__init__',\n",
       " '__init_subclass__',\n",
       " '__int__',\n",
       " '__invert__',\n",
       " '__le__',\n",
       " '__lshift__',\n",
       " '__lt__',\n",
       " '__mod__',\n",
       " '__mul__',\n",
       " '__ne__',\n",
       " '__neg__',\n",
       " '__new__',\n",
       " '__or__',\n",
       " '__pos__',\n",
       " '__pow__',\n",
       " '__radd__',\n",
       " '__rand__',\n",
       " '__rdivmod__',\n",
       " '__reduce__',\n",
       " '__reduce_ex__',\n",
       " '__repr__',\n",
       " '__rfloordiv__',\n",
       " '__rlshift__',\n",
       " '__rmod__',\n",
       " '__rmul__',\n",
       " '__ror__',\n",
       " '__round__',\n",
       " '__rpow__',\n",
       " '__rrshift__',\n",
       " '__rshift__',\n",
       " '__rsub__',\n",
       " '__rtruediv__',\n",
       " '__rxor__',\n",
       " '__setattr__',\n",
       " '__sizeof__',\n",
       " '__str__',\n",
       " '__sub__',\n",
       " '__subclasshook__',\n",
       " '__truediv__',\n",
       " '__trunc__',\n",
       " '__xor__',\n",
       " 'as_integer_ratio',\n",
       " 'bit_count',\n",
       " 'bit_length',\n",
       " 'conjugate',\n",
       " 'denominator',\n",
       " 'from_bytes',\n",
       " 'imag',\n",
       " 'numerator',\n",
       " 'real',\n",
       " 'to_bytes']"
      ]
     },
     "execution_count": 4,
     "metadata": {},
     "output_type": "execute_result"
    }
   ],
   "source": [
    "dir(a)"
   ]
  },
  {
   "cell_type": "code",
   "execution_count": 25,
   "id": "265656ca",
   "metadata": {},
   "outputs": [],
   "source": [
    "class Dog:\n",
    "    def __init__(self, name, age):\n",
    "        self.nam = name\n",
    "        self.ag = age\n",
    "\n",
    "    def bark(self):\n",
    "        print(f\"{self.nam} is barking!\")"
   ]
  },
  {
   "cell_type": "code",
   "execution_count": 26,
   "id": "142747b4",
   "metadata": {},
   "outputs": [
    {
     "name": "stdout",
     "output_type": "stream",
     "text": [
      "<class '__main__.Dog'>\n"
     ]
    }
   ],
   "source": [
    "my_dog = Dog('Tommy', 6)\n",
    "print(type(my_dog))"
   ]
  },
  {
   "cell_type": "code",
   "execution_count": 27,
   "id": "09edd79a",
   "metadata": {},
   "outputs": [
    {
     "name": "stdout",
     "output_type": "stream",
     "text": [
      "['__class__', '__delattr__', '__dict__', '__dir__', '__doc__', '__eq__', '__format__', '__ge__', '__getattribute__', '__gt__', '__hash__', '__init__', '__init_subclass__', '__le__', '__lt__', '__module__', '__ne__', '__new__', '__reduce__', '__reduce_ex__', '__repr__', '__setattr__', '__sizeof__', '__str__', '__subclasshook__', '__weakref__', 'ag', 'bark', 'nam']\n"
     ]
    }
   ],
   "source": [
    "print(dir(my_dog))"
   ]
  },
  {
   "cell_type": "code",
   "execution_count": 28,
   "id": "b194162d",
   "metadata": {},
   "outputs": [
    {
     "data": {
      "text/plain": [
       "'Tommy'"
      ]
     },
     "execution_count": 28,
     "metadata": {},
     "output_type": "execute_result"
    }
   ],
   "source": [
    "my_dog.nam"
   ]
  },
  {
   "cell_type": "code",
   "execution_count": 29,
   "id": "ec74bd2d",
   "metadata": {},
   "outputs": [
    {
     "ename": "AttributeError",
     "evalue": "'Dog' object has no attribute 'name'",
     "output_type": "error",
     "traceback": [
      "\u001b[0;31m---------------------------------------------------------------------------\u001b[0m",
      "\u001b[0;31mAttributeError\u001b[0m                            Traceback (most recent call last)",
      "Cell \u001b[0;32mIn[29], line 1\u001b[0m\n\u001b[0;32m----> 1\u001b[0m \u001b[43mmy_dog\u001b[49m\u001b[38;5;241;43m.\u001b[39;49m\u001b[43mname\u001b[49m\n",
      "\u001b[0;31mAttributeError\u001b[0m: 'Dog' object has no attribute 'name'"
     ]
    }
   ],
   "source": [
    "my_dog.name"
   ]
  },
  {
   "cell_type": "code",
   "execution_count": 30,
   "id": "f1a1d423",
   "metadata": {},
   "outputs": [
    {
     "ename": "AttributeError",
     "evalue": "'Dog' object has no attribute 'name'",
     "output_type": "error",
     "traceback": [
      "\u001b[0;31m---------------------------------------------------------------------------\u001b[0m",
      "\u001b[0;31mAttributeError\u001b[0m                            Traceback (most recent call last)",
      "Cell \u001b[0;32mIn[30], line 1\u001b[0m\n\u001b[0;32m----> 1\u001b[0m \u001b[43mmy_dog\u001b[49m\u001b[38;5;241;43m.\u001b[39;49m\u001b[43mname\u001b[49m()\n",
      "\u001b[0;31mAttributeError\u001b[0m: 'Dog' object has no attribute 'name'"
     ]
    }
   ],
   "source": [
    "my_dog.name()"
   ]
  },
  {
   "cell_type": "code",
   "execution_count": 31,
   "id": "5b349053",
   "metadata": {},
   "outputs": [
    {
     "name": "stdout",
     "output_type": "stream",
     "text": [
      "Tommy is barking!\n"
     ]
    }
   ],
   "source": [
    "my_dog.bark()"
   ]
  },
  {
   "cell_type": "code",
   "execution_count": null,
   "id": "4ca25581",
   "metadata": {},
   "outputs": [],
   "source": []
  },
  {
   "cell_type": "code",
   "execution_count": 21,
   "id": "75e9d097",
   "metadata": {},
   "outputs": [],
   "source": [
    "class Dog:\n",
    "    def __init__(abc, name, age):\n",
    "        abc.nam = name\n",
    "        abc.ag = age\n",
    "\n",
    "    def bark():\n",
    "        print(f\"{abc.nam} is barking!\")"
   ]
  },
  {
   "cell_type": "code",
   "execution_count": 22,
   "id": "71c4d533",
   "metadata": {},
   "outputs": [],
   "source": [
    "dog = Dog('abcd',2)"
   ]
  },
  {
   "cell_type": "code",
   "execution_count": 23,
   "id": "b89c65ca",
   "metadata": {},
   "outputs": [
    {
     "data": {
      "text/plain": [
       "__main__.Dog"
      ]
     },
     "execution_count": 23,
     "metadata": {},
     "output_type": "execute_result"
    }
   ],
   "source": [
    "type(dog)"
   ]
  },
  {
   "cell_type": "code",
   "execution_count": 24,
   "id": "02dd168f",
   "metadata": {},
   "outputs": [
    {
     "ename": "TypeError",
     "evalue": "Dog.bark() takes 0 positional arguments but 1 was given",
     "output_type": "error",
     "traceback": [
      "\u001b[0;31m---------------------------------------------------------------------------\u001b[0m",
      "\u001b[0;31mTypeError\u001b[0m                                 Traceback (most recent call last)",
      "Cell \u001b[0;32mIn[24], line 1\u001b[0m\n\u001b[0;32m----> 1\u001b[0m \u001b[43mdog\u001b[49m\u001b[38;5;241;43m.\u001b[39;49m\u001b[43mbark\u001b[49m\u001b[43m(\u001b[49m\u001b[43m)\u001b[49m\n",
      "\u001b[0;31mTypeError\u001b[0m: Dog.bark() takes 0 positional arguments but 1 was given"
     ]
    }
   ],
   "source": [
    "dog.bark()"
   ]
  },
  {
   "cell_type": "code",
   "execution_count": null,
   "id": "b9fb48b4",
   "metadata": {},
   "outputs": [],
   "source": []
  },
  {
   "cell_type": "code",
   "execution_count": 34,
   "id": "a4ef49c7",
   "metadata": {},
   "outputs": [],
   "source": [
    "class Dog:\n",
    "    def __init__(self, name, age):\n",
    "        self.nam = name\n",
    "        self.ag = age\n",
    "        self.bark()\n",
    "    \n",
    "    def method(self):\n",
    "        print('This is a dummy method!')\n",
    "\n",
    "    def bark(self):\n",
    "        res = self.method()\n",
    "        print(f\"{self.nam} is barking!\")"
   ]
  },
  {
   "cell_type": "code",
   "execution_count": 35,
   "id": "83636e71",
   "metadata": {},
   "outputs": [
    {
     "name": "stdout",
     "output_type": "stream",
     "text": [
      "This is a dummy method!\n",
      "Tommy is barking!\n"
     ]
    }
   ],
   "source": [
    "dog = Dog('Tommy', 6)"
   ]
  },
  {
   "cell_type": "code",
   "execution_count": null,
   "id": "94b7a764",
   "metadata": {},
   "outputs": [],
   "source": []
  },
  {
   "cell_type": "code",
   "execution_count": 47,
   "id": "ae0b209a",
   "metadata": {},
   "outputs": [],
   "source": [
    "class Person:\n",
    "    count = 0  # Class attribute\n",
    "\n",
    "    def __init__(self, name):\n",
    "        self.name = name\n",
    "        Person.count += 1\n",
    "\n",
    "    @classmethod\n",
    "    def get_count(cls):  #Defining Class method\n",
    "        return cls.count\n",
    "    \n",
    "    @staticmethod\n",
    "    def get_full_name(firstname, secondname):\n",
    "        return f'{firstname} {secondname}'"
   ]
  },
  {
   "cell_type": "code",
   "execution_count": 48,
   "id": "fce8717d",
   "metadata": {},
   "outputs": [
    {
     "name": "stdout",
     "output_type": "stream",
     "text": [
      "0\n",
      "1\n",
      "2\n"
     ]
    }
   ],
   "source": [
    "print(Person.get_count())\n",
    "\n",
    "person1 = Person(\"Alice\")\n",
    "print(Person.get_count())\n",
    "\n",
    "person2 = Person(\"Bob\")\n",
    "print(Person.get_count())"
   ]
  },
  {
   "cell_type": "code",
   "execution_count": 49,
   "id": "1106269e",
   "metadata": {},
   "outputs": [
    {
     "name": "stdout",
     "output_type": "stream",
     "text": [
      "2\n"
     ]
    }
   ],
   "source": [
    "print(person2.get_count())"
   ]
  },
  {
   "cell_type": "code",
   "execution_count": 50,
   "id": "7867492a",
   "metadata": {},
   "outputs": [
    {
     "name": "stdout",
     "output_type": "stream",
     "text": [
      "2\n"
     ]
    }
   ],
   "source": [
    "print(Person.get_count())"
   ]
  },
  {
   "cell_type": "code",
   "execution_count": 51,
   "id": "ff2b7eba",
   "metadata": {},
   "outputs": [
    {
     "name": "stdout",
     "output_type": "stream",
     "text": [
      "Chandler Bing\n"
     ]
    }
   ],
   "source": [
    "print(Person.get_full_name('Chandler', 'Bing'))"
   ]
  },
  {
   "cell_type": "code",
   "execution_count": 52,
   "id": "7196b045",
   "metadata": {},
   "outputs": [
    {
     "data": {
      "text/plain": [
       "'Chandler Bing'"
      ]
     },
     "execution_count": 52,
     "metadata": {},
     "output_type": "execute_result"
    }
   ],
   "source": [
    "person1.get_full_name('Chandler', 'Bing')"
   ]
  },
  {
   "cell_type": "code",
   "execution_count": null,
   "id": "80a34743",
   "metadata": {},
   "outputs": [],
   "source": []
  }
 ],
 "metadata": {
  "kernelspec": {
   "display_name": "Python 3 (ipykernel)",
   "language": "python",
   "name": "python3"
  },
  "language_info": {
   "codemirror_mode": {
    "name": "ipython",
    "version": 3
   },
   "file_extension": ".py",
   "mimetype": "text/x-python",
   "name": "python",
   "nbconvert_exporter": "python",
   "pygments_lexer": "ipython3",
   "version": "3.10.6"
  }
 },
 "nbformat": 4,
 "nbformat_minor": 5
}
