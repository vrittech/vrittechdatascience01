{
 "cells": [
  {
   "cell_type": "code",
   "execution_count": 1,
   "id": "111e39c5",
   "metadata": {},
   "outputs": [],
   "source": [
    "import pandas as pd\n",
    "import numpy as np"
   ]
  },
  {
   "cell_type": "markdown",
   "id": "64dc9c92",
   "metadata": {},
   "source": [
    "## Handling Duplicates"
   ]
  },
  {
   "cell_type": "code",
   "execution_count": 12,
   "id": "9ff5f30b",
   "metadata": {},
   "outputs": [
    {
     "name": "stdout",
     "output_type": "stream",
     "text": [
      "Original dataframe:\n",
      "     A  B   C\n",
      "0  foo  1  10\n",
      "1  bar  2  20\n",
      "2  foo  3  30\n",
      "3  baz  4  40\n",
      "4  qux  5  50\n",
      "5  bar  6  60\n",
      "6  foo  7  70\n"
     ]
    }
   ],
   "source": [
    "# Create a sample dataset with duplicate values\n",
    "data = {'A': ['foo', 'bar', 'foo', 'baz', 'qux', 'bar', 'foo'],\n",
    "        'B': [1, 2, 3, 4, 5, 6, 7],\n",
    "        'C': [10, 20, 30, 40, 50, 60, 70]}\n",
    "df = pd.DataFrame(data)\n",
    "\n",
    "# Print the original dataframe\n",
    "print('Original dataframe:')\n",
    "print(df)"
   ]
  },
  {
   "cell_type": "code",
   "execution_count": 13,
   "id": "b8e47cdb",
   "metadata": {},
   "outputs": [
    {
     "name": "stdout",
     "output_type": "stream",
     "text": [
      "\n",
      "Dataframe after dropping duplicates:\n",
      "     A  B   C\n",
      "0  foo  1  10\n",
      "1  bar  2  20\n",
      "3  baz  4  40\n",
      "4  qux  5  50\n"
     ]
    }
   ],
   "source": [
    "# Drop duplicates\n",
    "df.drop_duplicates(subset=['A'], inplace=True)\n",
    "print('\\nDataframe after dropping duplicates:')\n",
    "print(df)"
   ]
  },
  {
   "cell_type": "code",
   "execution_count": 14,
   "id": "4706bfb0",
   "metadata": {},
   "outputs": [
    {
     "name": "stdout",
     "output_type": "stream",
     "text": [
      "\n",
      "Dataframe after aggregating duplicates:\n",
      "       B     C\n",
      "A             \n",
      "bar  2.0  20.0\n",
      "baz  4.0  40.0\n",
      "foo  1.0  10.0\n",
      "qux  5.0  50.0\n"
     ]
    }
   ],
   "source": [
    "# Aggregate duplicates\n",
    "agg_df = df.groupby(['A']).mean()\n",
    "print('\\nDataframe after aggregating duplicates:')\n",
    "print(agg_df)"
   ]
  },
  {
   "cell_type": "code",
   "execution_count": 15,
   "id": "86d49537",
   "metadata": {},
   "outputs": [
    {
     "name": "stdout",
     "output_type": "stream",
     "text": [
      "\n",
      "Dataframe after keeping the first occurrence:\n",
      "     A  B   C\n",
      "0  foo  1  10\n",
      "1  bar  2  20\n",
      "3  baz  4  40\n",
      "4  qux  5  50\n"
     ]
    }
   ],
   "source": [
    "# Keep the first occurrence\n",
    "first_df = df.drop_duplicates(subset=['A'], keep='first')\n",
    "print('\\nDataframe after keeping the first occurrence:')\n",
    "print(first_df)"
   ]
  },
  {
   "cell_type": "code",
   "execution_count": 16,
   "id": "b31755a8",
   "metadata": {},
   "outputs": [
    {
     "name": "stdout",
     "output_type": "stream",
     "text": [
      "\n",
      "Dataframe after keeping the last occurrence:\n",
      "     A  B   C\n",
      "0  foo  1  10\n",
      "1  bar  2  20\n",
      "3  baz  4  40\n",
      "4  qux  5  50\n"
     ]
    }
   ],
   "source": [
    "# Keep the last occurrence\n",
    "last_df = df.drop_duplicates(subset=['A'], keep='last')\n",
    "print('\\nDataframe after keeping the last occurrence:')\n",
    "print(last_df)"
   ]
  },
  {
   "cell_type": "code",
   "execution_count": 17,
   "id": "c64dd1f3",
   "metadata": {},
   "outputs": [
    {
     "name": "stdout",
     "output_type": "stream",
     "text": [
      "\n",
      "Dataframe after marking duplicates:\n",
      "     A  B   C  duplicate\n",
      "0  foo  1  10      False\n",
      "1  bar  2  20      False\n",
      "3  baz  4  40      False\n",
      "4  qux  5  50      False\n"
     ]
    }
   ],
   "source": [
    "# Mark duplicates\n",
    "df['duplicate'] = df.duplicated(subset=['A'])\n",
    "print('\\nDataframe after marking duplicates:')\n",
    "print(df)"
   ]
  },
  {
   "cell_type": "markdown",
   "id": "d23fd15f",
   "metadata": {},
   "source": [
    "## Handling Incorrect Data"
   ]
  },
  {
   "cell_type": "code",
   "execution_count": 18,
   "id": "0980297b",
   "metadata": {},
   "outputs": [
    {
     "name": "stdout",
     "output_type": "stream",
     "text": [
      "Dataset before Handling Incorrect Values\n",
      "   id   name  age gender income\n",
      "0   1   John   25      M  50000\n",
      "1   2   Jane  -31      F  70000\n",
      "2   3    Bob   42      M    NaN\n",
      "3   4  Alice   19      F  30000\n",
      "4   5  David   37      Z  60000\n"
     ]
    }
   ],
   "source": [
    "# Create a dummy dataset\n",
    "data = pd.DataFrame({\n",
    "    'id': [1, 2, 3, 4, 5],\n",
    "    'name': ['John', 'Jane', 'Bob', 'Alice', 'David'],\n",
    "    'age': [25, -31, 42, 19, 37],\n",
    "    'gender': ['M', 'F', 'M', 'F', 'Z'],\n",
    "    'income': [50000, 70000, np.nan, '30000', 60000]\n",
    "})\n",
    "print(\"Dataset before Handling Incorrect Values\")\n",
    "print(data)"
   ]
  },
  {
   "cell_type": "code",
   "execution_count": 10,
   "id": "38ec3fdb",
   "metadata": {},
   "outputs": [
    {
     "name": "stdout",
     "output_type": "stream",
     "text": [
      "\n",
      "Dataset after Handling Incorrect Values\n",
      "   id  name  age gender income\n",
      "0   1  John   25      M  50000\n",
      "2   3   Bob   42      M    NaN\n"
     ]
    }
   ],
   "source": [
    "# Identify incorrect data\n",
    "incorrect_age = data[(data['age'] <= 0) | (data['age'] > 100)]\n",
    "incorrect_gender = data[~data['gender'].isin(['M', 'F'])]\n",
    "incorrect_income = data[~data['income'].apply(lambda x: isinstance(x, (int, float)))]\n",
    "\n",
    "# Delete incorrect data\n",
    "data = data.drop(incorrect_age.index)\n",
    "data = data.drop(incorrect_gender.index)\n",
    "data = data.drop(incorrect_income.index)\n",
    "\n",
    "# Display the cleaned dataset\n",
    "print(\"\\nDataset after Handling Incorrect Values\")\n",
    "print(data)"
   ]
  },
  {
   "cell_type": "code",
   "execution_count": 19,
   "id": "934b12d9",
   "metadata": {},
   "outputs": [
    {
     "name": "stdout",
     "output_type": "stream",
     "text": [
      "   id   name  age gender income\n",
      "0   1   John   25      M  50000\n",
      "1   2   Jane  -31      F  70000\n",
      "2   3    Bob   42      M    NaN\n",
      "3   4  Alice   19      F  30000\n",
      "4   5  David   37      Z  60000\n",
      "After Dropping with age condition:    id   name  age gender income\n",
      "0   1   John   25      M  50000\n",
      "2   3    Bob   42      M    NaN\n",
      "3   4  Alice   19      F  30000\n",
      "4   5  David   37      Z  60000\n"
     ]
    },
    {
     "ename": "KeyError",
     "evalue": "'[1] not found in axis'",
     "output_type": "error",
     "traceback": [
      "\u001b[0;31m---------------------------------------------------------------------------\u001b[0m",
      "\u001b[0;31mKeyError\u001b[0m                                  Traceback (most recent call last)",
      "Cell \u001b[0;32mIn[19], line 10\u001b[0m\n\u001b[1;32m      8\u001b[0m data \u001b[38;5;241m=\u001b[39m data\u001b[38;5;241m.\u001b[39mdrop(incorrect_age\u001b[38;5;241m.\u001b[39mindex)\n\u001b[1;32m      9\u001b[0m \u001b[38;5;28mprint\u001b[39m(\u001b[38;5;124m\"\u001b[39m\u001b[38;5;124mAfter Dropping with age condition:\u001b[39m\u001b[38;5;124m\"\u001b[39m, data)\n\u001b[0;32m---> 10\u001b[0m data \u001b[38;5;241m=\u001b[39m \u001b[43mdata\u001b[49m\u001b[38;5;241;43m.\u001b[39;49m\u001b[43mdrop\u001b[49m\u001b[43m(\u001b[49m\u001b[43mincorrect_gender\u001b[49m\u001b[38;5;241;43m.\u001b[39;49m\u001b[43mindex\u001b[49m\u001b[43m)\u001b[49m\n\u001b[1;32m     11\u001b[0m \u001b[38;5;28mprint\u001b[39m(\u001b[38;5;124m\"\u001b[39m\u001b[38;5;124mAfter Dropping with gender condition:\u001b[39m\u001b[38;5;124m\"\u001b[39m, data)\n\u001b[1;32m     12\u001b[0m data \u001b[38;5;241m=\u001b[39m data\u001b[38;5;241m.\u001b[39mdrop(incorrect_income\u001b[38;5;241m.\u001b[39mindex)\n",
      "File \u001b[0;32m~/Documents/Vrit/env/lib/python3.8/site-packages/pandas/core/frame.py:5258\u001b[0m, in \u001b[0;36mDataFrame.drop\u001b[0;34m(self, labels, axis, index, columns, level, inplace, errors)\u001b[0m\n\u001b[1;32m   5110\u001b[0m \u001b[38;5;28;01mdef\u001b[39;00m \u001b[38;5;21mdrop\u001b[39m(\n\u001b[1;32m   5111\u001b[0m     \u001b[38;5;28mself\u001b[39m,\n\u001b[1;32m   5112\u001b[0m     labels: IndexLabel \u001b[38;5;241m=\u001b[39m \u001b[38;5;28;01mNone\u001b[39;00m,\n\u001b[0;32m   (...)\u001b[0m\n\u001b[1;32m   5119\u001b[0m     errors: IgnoreRaise \u001b[38;5;241m=\u001b[39m \u001b[38;5;124m\"\u001b[39m\u001b[38;5;124mraise\u001b[39m\u001b[38;5;124m\"\u001b[39m,\n\u001b[1;32m   5120\u001b[0m ) \u001b[38;5;241m-\u001b[39m\u001b[38;5;241m>\u001b[39m DataFrame \u001b[38;5;241m|\u001b[39m \u001b[38;5;28;01mNone\u001b[39;00m:\n\u001b[1;32m   5121\u001b[0m \u001b[38;5;250m    \u001b[39m\u001b[38;5;124;03m\"\"\"\u001b[39;00m\n\u001b[1;32m   5122\u001b[0m \u001b[38;5;124;03m    Drop specified labels from rows or columns.\u001b[39;00m\n\u001b[1;32m   5123\u001b[0m \n\u001b[0;32m   (...)\u001b[0m\n\u001b[1;32m   5256\u001b[0m \u001b[38;5;124;03m            weight  1.0     0.8\u001b[39;00m\n\u001b[1;32m   5257\u001b[0m \u001b[38;5;124;03m    \"\"\"\u001b[39;00m\n\u001b[0;32m-> 5258\u001b[0m     \u001b[38;5;28;01mreturn\u001b[39;00m \u001b[38;5;28;43msuper\u001b[39;49m\u001b[43m(\u001b[49m\u001b[43m)\u001b[49m\u001b[38;5;241;43m.\u001b[39;49m\u001b[43mdrop\u001b[49m\u001b[43m(\u001b[49m\n\u001b[1;32m   5259\u001b[0m \u001b[43m        \u001b[49m\u001b[43mlabels\u001b[49m\u001b[38;5;241;43m=\u001b[39;49m\u001b[43mlabels\u001b[49m\u001b[43m,\u001b[49m\n\u001b[1;32m   5260\u001b[0m \u001b[43m        \u001b[49m\u001b[43maxis\u001b[49m\u001b[38;5;241;43m=\u001b[39;49m\u001b[43maxis\u001b[49m\u001b[43m,\u001b[49m\n\u001b[1;32m   5261\u001b[0m \u001b[43m        \u001b[49m\u001b[43mindex\u001b[49m\u001b[38;5;241;43m=\u001b[39;49m\u001b[43mindex\u001b[49m\u001b[43m,\u001b[49m\n\u001b[1;32m   5262\u001b[0m \u001b[43m        \u001b[49m\u001b[43mcolumns\u001b[49m\u001b[38;5;241;43m=\u001b[39;49m\u001b[43mcolumns\u001b[49m\u001b[43m,\u001b[49m\n\u001b[1;32m   5263\u001b[0m \u001b[43m        \u001b[49m\u001b[43mlevel\u001b[49m\u001b[38;5;241;43m=\u001b[39;49m\u001b[43mlevel\u001b[49m\u001b[43m,\u001b[49m\n\u001b[1;32m   5264\u001b[0m \u001b[43m        \u001b[49m\u001b[43minplace\u001b[49m\u001b[38;5;241;43m=\u001b[39;49m\u001b[43minplace\u001b[49m\u001b[43m,\u001b[49m\n\u001b[1;32m   5265\u001b[0m \u001b[43m        \u001b[49m\u001b[43merrors\u001b[49m\u001b[38;5;241;43m=\u001b[39;49m\u001b[43merrors\u001b[49m\u001b[43m,\u001b[49m\n\u001b[1;32m   5266\u001b[0m \u001b[43m    \u001b[49m\u001b[43m)\u001b[49m\n",
      "File \u001b[0;32m~/Documents/Vrit/env/lib/python3.8/site-packages/pandas/core/generic.py:4549\u001b[0m, in \u001b[0;36mNDFrame.drop\u001b[0;34m(self, labels, axis, index, columns, level, inplace, errors)\u001b[0m\n\u001b[1;32m   4547\u001b[0m \u001b[38;5;28;01mfor\u001b[39;00m axis, labels \u001b[38;5;129;01min\u001b[39;00m axes\u001b[38;5;241m.\u001b[39mitems():\n\u001b[1;32m   4548\u001b[0m     \u001b[38;5;28;01mif\u001b[39;00m labels \u001b[38;5;129;01mis\u001b[39;00m \u001b[38;5;129;01mnot\u001b[39;00m \u001b[38;5;28;01mNone\u001b[39;00m:\n\u001b[0;32m-> 4549\u001b[0m         obj \u001b[38;5;241m=\u001b[39m \u001b[43mobj\u001b[49m\u001b[38;5;241;43m.\u001b[39;49m\u001b[43m_drop_axis\u001b[49m\u001b[43m(\u001b[49m\u001b[43mlabels\u001b[49m\u001b[43m,\u001b[49m\u001b[43m \u001b[49m\u001b[43maxis\u001b[49m\u001b[43m,\u001b[49m\u001b[43m \u001b[49m\u001b[43mlevel\u001b[49m\u001b[38;5;241;43m=\u001b[39;49m\u001b[43mlevel\u001b[49m\u001b[43m,\u001b[49m\u001b[43m \u001b[49m\u001b[43merrors\u001b[49m\u001b[38;5;241;43m=\u001b[39;49m\u001b[43merrors\u001b[49m\u001b[43m)\u001b[49m\n\u001b[1;32m   4551\u001b[0m \u001b[38;5;28;01mif\u001b[39;00m inplace:\n\u001b[1;32m   4552\u001b[0m     \u001b[38;5;28mself\u001b[39m\u001b[38;5;241m.\u001b[39m_update_inplace(obj)\n",
      "File \u001b[0;32m~/Documents/Vrit/env/lib/python3.8/site-packages/pandas/core/generic.py:4591\u001b[0m, in \u001b[0;36mNDFrame._drop_axis\u001b[0;34m(self, labels, axis, level, errors, only_slice)\u001b[0m\n\u001b[1;32m   4589\u001b[0m         new_axis \u001b[38;5;241m=\u001b[39m axis\u001b[38;5;241m.\u001b[39mdrop(labels, level\u001b[38;5;241m=\u001b[39mlevel, errors\u001b[38;5;241m=\u001b[39merrors)\n\u001b[1;32m   4590\u001b[0m     \u001b[38;5;28;01melse\u001b[39;00m:\n\u001b[0;32m-> 4591\u001b[0m         new_axis \u001b[38;5;241m=\u001b[39m \u001b[43maxis\u001b[49m\u001b[38;5;241;43m.\u001b[39;49m\u001b[43mdrop\u001b[49m\u001b[43m(\u001b[49m\u001b[43mlabels\u001b[49m\u001b[43m,\u001b[49m\u001b[43m \u001b[49m\u001b[43merrors\u001b[49m\u001b[38;5;241;43m=\u001b[39;49m\u001b[43merrors\u001b[49m\u001b[43m)\u001b[49m\n\u001b[1;32m   4592\u001b[0m     indexer \u001b[38;5;241m=\u001b[39m axis\u001b[38;5;241m.\u001b[39mget_indexer(new_axis)\n\u001b[1;32m   4594\u001b[0m \u001b[38;5;66;03m# Case for non-unique axis\u001b[39;00m\n\u001b[1;32m   4595\u001b[0m \u001b[38;5;28;01melse\u001b[39;00m:\n",
      "File \u001b[0;32m~/Documents/Vrit/env/lib/python3.8/site-packages/pandas/core/indexes/base.py:6696\u001b[0m, in \u001b[0;36mIndex.drop\u001b[0;34m(self, labels, errors)\u001b[0m\n\u001b[1;32m   6694\u001b[0m \u001b[38;5;28;01mif\u001b[39;00m mask\u001b[38;5;241m.\u001b[39many():\n\u001b[1;32m   6695\u001b[0m     \u001b[38;5;28;01mif\u001b[39;00m errors \u001b[38;5;241m!=\u001b[39m \u001b[38;5;124m\"\u001b[39m\u001b[38;5;124mignore\u001b[39m\u001b[38;5;124m\"\u001b[39m:\n\u001b[0;32m-> 6696\u001b[0m         \u001b[38;5;28;01mraise\u001b[39;00m \u001b[38;5;167;01mKeyError\u001b[39;00m(\u001b[38;5;124mf\u001b[39m\u001b[38;5;124m\"\u001b[39m\u001b[38;5;132;01m{\u001b[39;00m\u001b[38;5;28mlist\u001b[39m(labels[mask])\u001b[38;5;132;01m}\u001b[39;00m\u001b[38;5;124m not found in axis\u001b[39m\u001b[38;5;124m\"\u001b[39m)\n\u001b[1;32m   6697\u001b[0m     indexer \u001b[38;5;241m=\u001b[39m indexer[\u001b[38;5;241m~\u001b[39mmask]\n\u001b[1;32m   6698\u001b[0m \u001b[38;5;28;01mreturn\u001b[39;00m \u001b[38;5;28mself\u001b[39m\u001b[38;5;241m.\u001b[39mdelete(indexer)\n",
      "\u001b[0;31mKeyError\u001b[0m: '[1] not found in axis'"
     ]
    }
   ],
   "source": [
    "# Identify incorrect data\n",
    "incorrect_age = data[(data['age'] <= 0) | (data['age'] > 100)]\n",
    "incorrect_gender = data[data['gender'].isin(['M', 'F'])]\n",
    "incorrect_income = data[~data['income'].apply(lambda x: isinstance(x, (int, float)))]\n",
    "\n",
    "# Delete incorrect data\n",
    "print(data)\n",
    "data = data.drop(incorrect_age.index)\n",
    "print(\"After Dropping with age condition:\", data)\n",
    "data = data.drop(incorrect_gender.index)\n",
    "print(\"After Dropping with gender condition:\", data)\n",
    "data = data.drop(incorrect_income.index)\n",
    "\n",
    "# Display the cleaned dataset\n",
    "print(\"\\nDataset after Handling Incorrect Values\")\n",
    "print(data)"
   ]
  },
  {
   "cell_type": "markdown",
   "id": "9f76fd1d",
   "metadata": {},
   "source": [
    "## Handling Inconsistent Data"
   ]
  },
  {
   "cell_type": "code",
   "execution_count": 20,
   "id": "2fc92a0a",
   "metadata": {},
   "outputs": [
    {
     "name": "stdout",
     "output_type": "stream",
     "text": [
      "Inconsistent Data\n",
      "   id        country        date\n",
      "0   1            USA  2021-01-01\n",
      "1   2         U.S.A.  01/01/2021\n",
      "2   3  United States  2021-01-01\n",
      "3   4         Canada  2021-01-01\n",
      "4   5         Mexico  01-01-2021\n",
      "\n",
      "Consistent Data\n",
      "   id country        date\n",
      "0   1      US  2021-01-01\n",
      "1   2      US  2021-01-01\n",
      "2   3      US  2021-01-01\n",
      "3   4      CA  2021-01-01\n",
      "4   5      MX  01-01-2021\n"
     ]
    }
   ],
   "source": [
    "# Create a dummy dataset\n",
    "data = pd.DataFrame({\n",
    "    'id': [1, 2, 3, 4, 5],\n",
    "    'country': ['USA', 'U.S.A.', 'United States', 'Canada', 'Mexico'],\n",
    "    'date': ['2021-01-01', '01/01/2021', '2021-01-01', '2021-01-01', '01-01-2021']\n",
    "})\n",
    "\n",
    "# Define rules for resolving inconsistencies\n",
    "country_codes = {\n",
    "    'USA': 'US',\n",
    "    'U.S.A.': 'US',\n",
    "    'United States': 'US',\n",
    "    'Canada': 'CA',\n",
    "    'Mexico': 'MX'\n",
    "}\n",
    "print(\"Inconsistent Data\")\n",
    "print(data)\n",
    "\n",
    "def parse_date(date_str):\n",
    "    if '-' in date_str:\n",
    "        return date_str\n",
    "    elif '/' in date_str:\n",
    "        parts = date_str.split('/')\n",
    "        return f'{parts[2]}-{parts[0]}-{parts[1]}'\n",
    "    else:\n",
    "        parts = date_str.split('-')\n",
    "        return f'{parts[2]}-{parts[1]}-{parts[0]}'\n",
    "\n",
    "# Apply rules to the data\n",
    "data['country'] = data['country'].apply(lambda x: country_codes.get(x, x))\n",
    "data['date'] = data['date'].apply(parse_date)\n",
    "\n",
    "# Verify the results\n",
    "print(\"\\nConsistent Data\")\n",
    "print(data)"
   ]
  },
  {
   "cell_type": "markdown",
   "id": "9f394042",
   "metadata": {},
   "source": [
    "## Assignment"
   ]
  },
  {
   "cell_type": "code",
   "execution_count": 21,
   "id": "7b937b93",
   "metadata": {},
   "outputs": [],
   "source": [
    "# Create a dummy dataset\n",
    "data = pd.DataFrame({\n",
    "    'id': [1, 2, 3, 4, 5],\n",
    "    'country': ['USA', 'U.S.A.', 'United States', 'Canada', 'Mexico'],\n",
    "    'date': ['2021-01-01', '01/01/2021', '2021-01-01', '2021-01-01', '01-01-2021']\n",
    "})"
   ]
  },
  {
   "cell_type": "code",
   "execution_count": null,
   "id": "ed81ef83",
   "metadata": {},
   "outputs": [],
   "source": []
  }
 ],
 "metadata": {
  "kernelspec": {
   "display_name": "Python 3 (ipykernel)",
   "language": "python",
   "name": "python3"
  },
  "language_info": {
   "codemirror_mode": {
    "name": "ipython",
    "version": 3
   },
   "file_extension": ".py",
   "mimetype": "text/x-python",
   "name": "python",
   "nbconvert_exporter": "python",
   "pygments_lexer": "ipython3",
   "version": "3.8.10"
  }
 },
 "nbformat": 4,
 "nbformat_minor": 5
}
