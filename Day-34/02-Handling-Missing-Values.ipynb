{
 "cells": [
  {
   "cell_type": "code",
   "execution_count": 1,
   "id": "b7ee2384",
   "metadata": {},
   "outputs": [],
   "source": [
    "import pandas as pd\n",
    "import numpy as np"
   ]
  },
  {
   "cell_type": "markdown",
   "id": "0286ddf8",
   "metadata": {},
   "source": [
    "## Deletion"
   ]
  },
  {
   "cell_type": "code",
   "execution_count": 2,
   "id": "06bbff1d",
   "metadata": {},
   "outputs": [
    {
     "name": "stdout",
     "output_type": "stream",
     "text": [
      "Original data:\n",
      "    col1  col2  col3\n",
      "0   1.0   6.0  11.0\n",
      "1   2.0   NaN  12.0\n",
      "2   NaN   8.0  13.0\n",
      "3   4.0   9.0   NaN\n",
      "4   5.0  10.0  15.0\n",
      "\n",
      "Dataframe after list-wise deletion:\n",
      "    col1  col2  col3\n",
      "0   1.0   6.0  11.0\n",
      "4   5.0  10.0  15.0\n",
      "\n",
      "Dataframe after pair-wise deletion:\n",
      "    col1  col2  col3\n",
      "0   1.0   6.0  11.0\n",
      "3   4.0   9.0   NaN\n",
      "4   5.0  10.0  15.0\n",
      "\n",
      "Dataframe after column-wise deletion:\n",
      " Empty DataFrame\n",
      "Columns: []\n",
      "Index: [0, 1, 2, 3, 4]\n"
     ]
    }
   ],
   "source": [
    "# create a dataframe with missing values\n",
    "df = pd.DataFrame({\n",
    "    'col1': [1, 2, np.nan, 4, 5],\n",
    "    'col2': [6, np.nan, 8, 9, 10],\n",
    "    'col3': [11, 12, 13, np.nan, 15]\n",
    "})\n",
    "\n",
    "# display the dataframe\n",
    "print(\"Original data:\\n\", df)\n",
    "\n",
    "# List-wise deletion\n",
    "new_df = df.dropna(axis=0)\n",
    "print(\"\\nDataframe after list-wise deletion:\\n\", new_df)\n",
    "\n",
    "# Pair-wise deletion\n",
    "new_df = df.dropna(subset=['col1', 'col2'])\n",
    "print(\"\\nDataframe after pair-wise deletion:\\n\", new_df)\n",
    "\n",
    "# Column-wise deletion\n",
    "new_df = df.dropna(axis=1)\n",
    "print(\"\\nDataframe after column-wise deletion:\\n\", new_df)"
   ]
  },
  {
   "cell_type": "markdown",
   "id": "618a1eb3",
   "metadata": {},
   "source": [
    "## Imputation"
   ]
  },
  {
   "cell_type": "code",
   "execution_count": 3,
   "id": "2b6d9304",
   "metadata": {},
   "outputs": [
    {
     "name": "stdout",
     "output_type": "stream",
     "text": [
      "Original data:\n",
      "    col1  col2  col3\n",
      "0   1.0   6.0  11.0\n",
      "1   2.0   NaN  12.0\n",
      "2   NaN   8.0  13.0\n",
      "3   4.0   9.0   NaN\n",
      "4   5.0  10.0  15.0\n",
      "\n",
      "Mean Imputation:\n",
      "    col1  col2  col3\n",
      "0   1.0   6.0  11.0\n",
      "1   2.0   NaN  12.0\n",
      "2   3.0   8.0  13.0\n",
      "3   4.0   9.0   NaN\n",
      "4   5.0  10.0  15.0\n",
      "\n",
      "Median Imputation:\n",
      "    col1  col2  col3\n",
      "0   1.0   6.0  11.0\n",
      "1   2.0   NaN  12.0\n",
      "2   3.0   8.0  13.0\n",
      "3   4.0   9.0   NaN\n",
      "4   5.0  10.0  15.0\n",
      "\n",
      "Mode Imputation:\n",
      "    col1  col2  col3\n",
      "0   1.0   6.0  11.0\n",
      "1   2.0   NaN  12.0\n",
      "2   1.0   8.0  13.0\n",
      "3   4.0   9.0   NaN\n",
      "4   5.0  10.0  15.0\n",
      "\n",
      "Regression Imputation:\n",
      "    col1  col2  col3\n",
      "0   1.0   6.0  11.0\n",
      "1   2.0   NaN  12.0\n",
      "2   3.0   8.0  13.0\n",
      "3   4.0   9.0   NaN\n",
      "4   5.0  10.0  15.0\n",
      "\n",
      "Hot-Deck Imputation:\n",
      "    col1  col2  col3\n",
      "0   1.0   6.0  11.0\n",
      "1   2.0   NaN  12.0\n",
      "2   2.0   8.0  13.0\n",
      "3   4.0   9.0   NaN\n",
      "4   5.0  10.0  15.0\n",
      "\n",
      "K-Nearest Neighbors (KNN) imputation:\n",
      "    col1  col2  col3\n",
      "0   1.0   6.0  11.0\n",
      "1   2.0   7.0  12.0\n",
      "2   3.0   8.0  13.0\n",
      "3   4.0   9.0  14.0\n",
      "4   5.0  10.0  15.0\n"
     ]
    }
   ],
   "source": [
    "import numpy as np\n",
    "import pandas as pd\n",
    "from sklearn.impute import KNNImputer\n",
    "from sklearn.linear_model import LinearRegression\n",
    "\n",
    "# create a dataframe with missing values\n",
    "df = pd.DataFrame({\n",
    "    'col1': [1, 2, np.nan, 4, 5],\n",
    "    'col2': [6, np.nan, 8, 9, 10],\n",
    "    'col3': [11, 12, 13, np.nan, 15]\n",
    "})\n",
    "\n",
    "# display the dataframe\n",
    "print(\"Original data:\\n\", df)\n",
    "\n",
    "# Mean Imputation\n",
    "new_df = df.copy()\n",
    "mean_value = new_df['col1'].mean()\n",
    "new_df['col1'].fillna(value=mean_value, inplace=True)\n",
    "print(\"\\nMean Imputation:\\n\", new_df)\n",
    "\n",
    "# Median Imputation\n",
    "new_df = df.copy()\n",
    "median_value = new_df['col1'].median()\n",
    "new_df['col1'].fillna(value=median_value, inplace=True)\n",
    "print(\"\\nMedian Imputation:\\n\", new_df)\n",
    "\n",
    "# Mode Imputation\n",
    "new_df = df.copy()\n",
    "mode_value = new_df['col1'].mode()[0]\n",
    "new_df['col1'].fillna(value=mode_value, inplace=True)\n",
    "print(\"\\nMode Imputation:\\n\", new_df)\n",
    "\n",
    "# Regression Imputation\n",
    "new_df = df.copy()\n",
    "model = LinearRegression()\n",
    "x_train = new_df.dropna()[['col2', 'col3']]  # data points without missing values\n",
    "y_train = new_df.dropna()['col1']  # target variable without missing values\n",
    "model.fit(x_train, y_train)\n",
    "x_test = new_df[new_df['col1'].isna()][['col2', 'col3']]  # data points with missing values\n",
    "new_df.loc[df['col1'].isnull(), 'col1'] = model.predict(x_test)\n",
    "print(\"\\nRegression Imputation:\\n\", new_df)\n",
    "\n",
    "# Hot-Deck Imputation\n",
    "new_df = df.copy()\n",
    "missing_index = np.where(new_df['col1'].isnull())[0]\n",
    "for i in missing_index:\n",
    "    new_df.iloc[i, 0] = new_df.iloc[i-1, 0]  # fill missing values with value of the previous observation\n",
    "print(\"\\nHot-Deck Imputation:\\n\", new_df)\n",
    "\n",
    "# K-Nearest Neighbors (KNN) imputation\n",
    "imputer = KNNImputer(n_neighbors=2)\n",
    "df_impute_knn = pd.DataFrame(imputer.fit_transform(df), columns=df.columns)\n",
    "print(\"\\nK-Nearest Neighbors (KNN) imputation:\\n\", df_impute_knn)"
   ]
  },
  {
   "cell_type": "markdown",
   "id": "647358f9",
   "metadata": {},
   "source": [
    "## Prediction"
   ]
  },
  {
   "cell_type": "code",
   "execution_count": 4,
   "id": "c1cef5e2",
   "metadata": {},
   "outputs": [
    {
     "name": "stdout",
     "output_type": "stream",
     "text": [
      "Original data:\n",
      "    col1  col2  col3\n",
      "0   1.0   6.0  11.0\n",
      "1   2.0   NaN  12.0\n",
      "2   NaN   8.0  13.0\n",
      "3   4.0   9.0   NaN\n",
      "4   5.0  10.0  15.0\n",
      "\n",
      "Data after handling missing values:\n",
      "    col1  col2  col3\n",
      "0   1.0   6.0  11.0\n",
      "1   2.0   NaN  12.0\n",
      "2   3.0   8.0  13.0\n",
      "3   4.0   9.0   NaN\n",
      "4   5.0  10.0  15.0\n"
     ]
    }
   ],
   "source": [
    "import pandas as pd\n",
    "from sklearn.linear_model import LinearRegression\n",
    "\n",
    "# create a dataframe with missing values\n",
    "df = pd.DataFrame({\n",
    "    'col1': [1, 2, np.nan, 4, 5],\n",
    "    'col2': [6, np.nan, 8, 9, 10],\n",
    "    'col3': [11, 12, 13, np.nan, 15]\n",
    "})\n",
    "print(\"Original data:\\n\", df)\n",
    "\n",
    "model = LinearRegression()\n",
    "x_train = df.dropna()[['col2', 'col3']]  # data points without missing values\n",
    "y_train = df.dropna()['col1']  # target variable without missing values\n",
    "model.fit(x_train, y_train)\n",
    "x_test = df[df['col1'].isnull()][['col2', 'col3']]  # data points with missing values\n",
    "df.loc[df['col1'].isnull(), 'col1'] = model.predict(x_test)  # fill missing values with predicted values\n",
    "print(\"\\nData after handling missing values:\\n\", df)"
   ]
  },
  {
   "cell_type": "markdown",
   "id": "264c3ff5",
   "metadata": {},
   "source": [
    "## Interpolation"
   ]
  },
  {
   "cell_type": "code",
   "execution_count": 5,
   "id": "f5c8990e",
   "metadata": {},
   "outputs": [
    {
     "name": "stdout",
     "output_type": "stream",
     "text": [
      "Original data:\n",
      "    col1  col2  col3\n",
      "0   1.0   6.0  11.0\n",
      "1   2.0   NaN  12.0\n",
      "2   NaN   8.0  13.0\n",
      "3   4.0   9.0   NaN\n",
      "4   5.0  10.0  15.0\n",
      "\n",
      "Data after Interpolation:\n",
      "    col1  col2  col3\n",
      "0   1.0   6.0  11.0\n",
      "1   2.0   7.0  12.0\n",
      "2   3.0   8.0  13.0\n",
      "3   4.0   9.0  14.0\n",
      "4   5.0  10.0  15.0\n"
     ]
    }
   ],
   "source": [
    "import pandas as pd\n",
    "from scipy import interpolate\n",
    "\n",
    "# create a dataframe with missing values\n",
    "df = pd.DataFrame({\n",
    "    'col1': [1, 2, np.nan, 4, 5],\n",
    "    'col2': [6, np.nan, 8, 9, 10],\n",
    "    'col3': [11, 12, 13, np.nan, 15]\n",
    "})\n",
    "print(\"Original data:\\n\", df)\n",
    "\n",
    "df.interpolate(inplace=True)  # linear interpolation\n",
    "print(\"\\nData after Interpolation:\\n\", df)"
   ]
  },
  {
   "cell_type": "code",
   "execution_count": null,
   "id": "e1528460",
   "metadata": {},
   "outputs": [],
   "source": []
  }
 ],
 "metadata": {
  "kernelspec": {
   "display_name": "Python 3 (ipykernel)",
   "language": "python",
   "name": "python3"
  },
  "language_info": {
   "codemirror_mode": {
    "name": "ipython",
    "version": 3
   },
   "file_extension": ".py",
   "mimetype": "text/x-python",
   "name": "python",
   "nbconvert_exporter": "python",
   "pygments_lexer": "ipython3",
   "version": "3.8.10"
  }
 },
 "nbformat": 4,
 "nbformat_minor": 5
}
