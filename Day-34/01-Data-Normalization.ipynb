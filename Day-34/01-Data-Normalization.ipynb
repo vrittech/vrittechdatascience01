{
 "cells": [
  {
   "cell_type": "code",
   "execution_count": 1,
   "id": "19d06f10",
   "metadata": {},
   "outputs": [],
   "source": [
    "import pandas as pd\n",
    "import numpy as np"
   ]
  },
  {
   "cell_type": "code",
   "execution_count": 2,
   "id": "e1e72c87",
   "metadata": {},
   "outputs": [],
   "source": [
    "# Create a dummy dataset\n",
    "data = pd.DataFrame({\n",
    "    'id': [1, 2, 3, 4, 5],\n",
    "    'value': [10, 20, 30, 40, 50]\n",
    "})"
   ]
  },
  {
   "cell_type": "code",
   "execution_count": 3,
   "id": "0b0be513",
   "metadata": {},
   "outputs": [],
   "source": [
    "# Perform min-max normalization\n",
    "data['value_norm_minmax'] = (data['value'] - data['value'].min()) / (data['value'].max() - data['value'].min())"
   ]
  },
  {
   "cell_type": "code",
   "execution_count": 4,
   "id": "866f5d9f",
   "metadata": {},
   "outputs": [],
   "source": [
    "# Perform z-score normalization\n",
    "data['value_norm_zscore'] = (data['value'] - data['value'].mean()) / data['value'].std()"
   ]
  },
  {
   "cell_type": "code",
   "execution_count": 5,
   "id": "181e5c9c",
   "metadata": {},
   "outputs": [],
   "source": [
    "# Perform log normalization\n",
    "data['value_norm_log'] = np.log(data['value'])"
   ]
  },
  {
   "cell_type": "code",
   "execution_count": 6,
   "id": "83e210d3",
   "metadata": {},
   "outputs": [
    {
     "name": "stdout",
     "output_type": "stream",
     "text": [
      "   id  value  value_norm_minmax  value_norm_zscore  value_norm_log  \\\n",
      "0   1     10               0.00          -1.264911        2.302585   \n",
      "1   2     20               0.25          -0.632456        2.995732   \n",
      "2   3     30               0.50           0.000000        3.401197   \n",
      "3   4     40               0.75           0.632456        3.688879   \n",
      "4   5     50               1.00           1.264911        3.912023   \n",
      "\n",
      "   value_norm_power  \n",
      "0          3.162278  \n",
      "1          4.472136  \n",
      "2          5.477226  \n",
      "3          6.324555  \n",
      "4          7.071068  \n"
     ]
    }
   ],
   "source": [
    "# Perform power normalization with a = 0.5\n",
    "data['value_norm_power'] = np.sign(data['value']) * np.power(np.abs(data['value']), 0.5)\n",
    "\n",
    "# Print the resulting dataframe\n",
    "print(data)"
   ]
  },
  {
   "cell_type": "code",
   "execution_count": null,
   "id": "ff35a739",
   "metadata": {},
   "outputs": [],
   "source": []
  }
 ],
 "metadata": {
  "kernelspec": {
   "display_name": "Python 3 (ipykernel)",
   "language": "python",
   "name": "python3"
  },
  "language_info": {
   "codemirror_mode": {
    "name": "ipython",
    "version": 3
   },
   "file_extension": ".py",
   "mimetype": "text/x-python",
   "name": "python",
   "nbconvert_exporter": "python",
   "pygments_lexer": "ipython3",
   "version": "3.8.10"
  }
 },
 "nbformat": 4,
 "nbformat_minor": 5
}
