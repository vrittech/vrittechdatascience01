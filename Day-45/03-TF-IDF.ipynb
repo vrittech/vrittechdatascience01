{
 "cells": [
  {
   "cell_type": "code",
   "execution_count": 1,
   "metadata": {},
   "outputs": [],
   "source": [
    "from sklearn.feature_extraction.text import TfidfVectorizer"
   ]
  },
  {
   "cell_type": "code",
   "execution_count": 2,
   "metadata": {},
   "outputs": [],
   "source": [
    "corpus = [\n",
    "    'This product is good and is affordable.',\n",
    "    'This product is not good and affordable.',\n",
    "    'This product is good and cheap.'\n",
    "]"
   ]
  },
  {
   "cell_type": "code",
   "execution_count": 3,
   "metadata": {},
   "outputs": [],
   "source": [
    "vectorizer = TfidfVectorizer()\n",
    "output = vectorizer.fit_transform(corpus)"
   ]
  },
  {
   "cell_type": "code",
   "execution_count": 4,
   "metadata": {},
   "outputs": [
    {
     "name": "stdout",
     "output_type": "stream",
     "text": [
      "  (0, 0)\t0.41434512708232796\n",
      "  (0, 1)\t0.321775953821741\n",
      "  (0, 3)\t0.321775953821741\n",
      "  (0, 4)\t0.643551907643482\n",
      "  (0, 6)\t0.321775953821741\n",
      "  (0, 7)\t0.321775953821741\n",
      "  (1, 5)\t0.5486117771118656\n",
      "  (1, 0)\t0.4172333972107692\n",
      "  (1, 1)\t0.3240189532314803\n",
      "  (1, 3)\t0.3240189532314803\n",
      "  (1, 4)\t0.3240189532314803\n",
      "  (1, 6)\t0.3240189532314803\n",
      "  (1, 7)\t0.3240189532314803\n",
      "  (2, 2)\t0.6036665474310993\n",
      "  (2, 1)\t0.3565351874675532\n",
      "  (2, 3)\t0.3565351874675532\n",
      "  (2, 4)\t0.3565351874675532\n",
      "  (2, 6)\t0.3565351874675532\n",
      "  (2, 7)\t0.3565351874675532\n"
     ]
    }
   ],
   "source": [
    "print(output)"
   ]
  },
  {
   "cell_type": "code",
   "execution_count": null,
   "metadata": {},
   "outputs": [],
   "source": []
  }
 ],
 "metadata": {
  "kernelspec": {
   "display_name": "env",
   "language": "python",
   "name": "python3"
  },
  "language_info": {
   "codemirror_mode": {
    "name": "ipython",
    "version": 3
   },
   "file_extension": ".py",
   "mimetype": "text/x-python",
   "name": "python",
   "nbconvert_exporter": "python",
   "pygments_lexer": "ipython3",
   "version": "3.11.4"
  },
  "orig_nbformat": 4
 },
 "nbformat": 4,
 "nbformat_minor": 2
}
