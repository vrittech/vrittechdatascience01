{
 "cells": [
  {
   "cell_type": "code",
   "execution_count": 1,
   "id": "90259944",
   "metadata": {},
   "outputs": [],
   "source": [
    "def number_generator(start, end):\n",
    "    for num in range(start, end + 1):\n",
    "        yield num"
   ]
  },
  {
   "cell_type": "code",
   "execution_count": 2,
   "id": "67806e90",
   "metadata": {},
   "outputs": [],
   "source": [
    "my_generator = number_generator(1, 5)"
   ]
  },
  {
   "cell_type": "code",
   "execution_count": 3,
   "id": "8ac8a0f0",
   "metadata": {},
   "outputs": [
    {
     "name": "stdout",
     "output_type": "stream",
     "text": [
      "<generator object number_generator at 0x7f5c6fa1a340>\n"
     ]
    }
   ],
   "source": [
    "print(my_generator)"
   ]
  },
  {
   "cell_type": "code",
   "execution_count": 4,
   "id": "17d029bf",
   "metadata": {},
   "outputs": [],
   "source": [
    "def abc():\n",
    "    return 'this is a string'"
   ]
  },
  {
   "cell_type": "code",
   "execution_count": 5,
   "id": "6029d758",
   "metadata": {},
   "outputs": [
    {
     "name": "stdout",
     "output_type": "stream",
     "text": [
      "<class 'str'>\n"
     ]
    }
   ],
   "source": [
    "ghi = abc()\n",
    "print(type(ghi))"
   ]
  },
  {
   "cell_type": "code",
   "execution_count": 6,
   "id": "1abe7c92",
   "metadata": {},
   "outputs": [
    {
     "name": "stdout",
     "output_type": "stream",
     "text": [
      "1\n",
      "2\n"
     ]
    }
   ],
   "source": [
    "print(next(my_generator))\n",
    "print(next(my_generator))"
   ]
  },
  {
   "cell_type": "code",
   "execution_count": 7,
   "id": "98d352b8",
   "metadata": {},
   "outputs": [
    {
     "name": "stdout",
     "output_type": "stream",
     "text": [
      "3\n"
     ]
    }
   ],
   "source": [
    "print(next(my_generator))"
   ]
  },
  {
   "cell_type": "code",
   "execution_count": 8,
   "id": "3b119f0f",
   "metadata": {},
   "outputs": [],
   "source": [
    "your_generator = number_generator(1, 5)"
   ]
  },
  {
   "cell_type": "code",
   "execution_count": 9,
   "id": "20b87e77",
   "metadata": {},
   "outputs": [
    {
     "name": "stdout",
     "output_type": "stream",
     "text": [
      "1\n"
     ]
    }
   ],
   "source": [
    "print(next(your_generator))"
   ]
  },
  {
   "cell_type": "code",
   "execution_count": 10,
   "id": "6a03f558",
   "metadata": {},
   "outputs": [
    {
     "name": "stdout",
     "output_type": "stream",
     "text": [
      "4\n",
      "5\n"
     ]
    },
    {
     "ename": "StopIteration",
     "evalue": "",
     "output_type": "error",
     "traceback": [
      "\u001b[0;31m---------------------------------------------------------------------------\u001b[0m",
      "\u001b[0;31mStopIteration\u001b[0m                             Traceback (most recent call last)",
      "Cell \u001b[0;32mIn[10], line 3\u001b[0m\n\u001b[1;32m      1\u001b[0m \u001b[38;5;28mprint\u001b[39m(\u001b[38;5;28mnext\u001b[39m(my_generator))\n\u001b[1;32m      2\u001b[0m \u001b[38;5;28mprint\u001b[39m(\u001b[38;5;28mnext\u001b[39m(my_generator))\n\u001b[0;32m----> 3\u001b[0m \u001b[38;5;28mprint\u001b[39m(\u001b[38;5;28;43mnext\u001b[39;49m\u001b[43m(\u001b[49m\u001b[43mmy_generator\u001b[49m\u001b[43m)\u001b[49m)\n",
      "\u001b[0;31mStopIteration\u001b[0m: "
     ]
    }
   ],
   "source": [
    "print(next(my_generator))\n",
    "print(next(my_generator))\n",
    "print(next(my_generator))"
   ]
  },
  {
   "cell_type": "code",
   "execution_count": 11,
   "id": "e8b1356c",
   "metadata": {},
   "outputs": [
    {
     "name": "stdout",
     "output_type": "stream",
     "text": [
      "1\n",
      "2\n",
      "3\n",
      "4\n",
      "5\n"
     ]
    }
   ],
   "source": [
    "my_generator = number_generator(1, 5)\n",
    "\n",
    "for num in my_generator:\n",
    "    print(num)"
   ]
  },
  {
   "cell_type": "code",
   "execution_count": 12,
   "id": "6442f82e",
   "metadata": {},
   "outputs": [],
   "source": [
    "for num in my_generator:\n",
    "    print(num)"
   ]
  },
  {
   "cell_type": "code",
   "execution_count": null,
   "id": "a3b909ca",
   "metadata": {},
   "outputs": [],
   "source": []
  }
 ],
 "metadata": {
  "kernelspec": {
   "display_name": "Python 3 (ipykernel)",
   "language": "python",
   "name": "python3"
  },
  "language_info": {
   "codemirror_mode": {
    "name": "ipython",
    "version": 3
   },
   "file_extension": ".py",
   "mimetype": "text/x-python",
   "name": "python",
   "nbconvert_exporter": "python",
   "pygments_lexer": "ipython3",
   "version": "3.10.6"
  }
 },
 "nbformat": 4,
 "nbformat_minor": 5
}
