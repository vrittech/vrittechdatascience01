{
 "cells": [
  {
   "cell_type": "code",
   "execution_count": 1,
   "metadata": {},
   "outputs": [],
   "source": [
    "import numpy as np"
   ]
  },
  {
   "cell_type": "code",
   "execution_count": 2,
   "metadata": {},
   "outputs": [],
   "source": [
    "class Perceptron:\n",
    "    def __init__(self, num_features):\n",
    "        self.num_features = num_features\n",
    "        self.weights = np.zeros(num_features)\n",
    "        self.bias = 0\n",
    "        self.activation_function = lambda x: 1 if x >= 0 else 0\n",
    "\n",
    "    def predict(self, x):\n",
    "        linear_output = np.dot(self.weights, x) + self.bias\n",
    "        return self.activation_function(linear_output)"
   ]
  },
  {
   "cell_type": "code",
   "execution_count": 3,
   "metadata": {},
   "outputs": [
    {
     "name": "stdout",
     "output_type": "stream",
     "text": [
      "Perceptron prediction: 1\n"
     ]
    }
   ],
   "source": [
    "# Create a perceptron with 2 input features and using the step function as the activation function\n",
    "perceptron = Perceptron(2)\n",
    "\n",
    "# Set the weights and bias\n",
    "perceptron.weights = np.array([0.5, -0.5])\n",
    "perceptron.bias = 0.2\n",
    "\n",
    "# Make predictions\n",
    "x = np.array([0.3, -0.7])\n",
    "prediction = perceptron.predict(x)\n",
    "print(\"Perceptron prediction:\", prediction)"
   ]
  },
  {
   "cell_type": "code",
   "execution_count": null,
   "metadata": {},
   "outputs": [],
   "source": []
  }
 ],
 "metadata": {
  "kernelspec": {
   "display_name": "env",
   "language": "python",
   "name": "python3"
  },
  "language_info": {
   "codemirror_mode": {
    "name": "ipython",
    "version": 3
   },
   "file_extension": ".py",
   "mimetype": "text/x-python",
   "name": "python",
   "nbconvert_exporter": "python",
   "pygments_lexer": "ipython3",
   "version": "3.11.4"
  },
  "orig_nbformat": 4
 },
 "nbformat": 4,
 "nbformat_minor": 2
}
