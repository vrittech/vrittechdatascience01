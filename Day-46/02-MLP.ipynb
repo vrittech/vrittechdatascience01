{
 "cells": [
  {
   "cell_type": "code",
   "execution_count": 4,
   "metadata": {},
   "outputs": [],
   "source": [
    "import numpy as np"
   ]
  },
  {
   "cell_type": "code",
   "execution_count": 1,
   "metadata": {},
   "outputs": [],
   "source": [
    "import numpy as np\n",
    "\n",
    "class MLP:\n",
    "    def __init__(self, input_size, hidden_sizes, output_size, activation='sigmoid'):\n",
    "        self.input_size = input_size\n",
    "        self.hidden_sizes = hidden_sizes\n",
    "        self.output_size = output_size\n",
    "\n",
    "        self.weights = []\n",
    "        self.biases = []\n",
    "\n",
    "        layer_sizes = [input_size] + hidden_sizes + [output_size]\n",
    "\n",
    "        for i in range(len(layer_sizes) - 1):\n",
    "            weight_matrix = np.random.randn(layer_sizes[i], layer_sizes[i+1])\n",
    "            self.weights.append(weight_matrix)\n",
    "            bias_vector = np.zeros(layer_sizes[i+1])\n",
    "            self.biases.append(bias_vector)\n",
    "\n",
    "        if activation == 'sigmoid':\n",
    "            self.activation_function = self._sigmoid\n",
    "        elif activation == 'tanh':\n",
    "            self.activation_function = self._tanh\n",
    "        elif activation == 'relu':\n",
    "            self.activation_function = self._relu\n",
    "        else:\n",
    "            raise ValueError(\"Unsupported activation function.\")\n",
    "\n",
    "    def forward(self, x):\n",
    "        activations = [x]\n",
    "\n",
    "        for i in range(len(self.weights)):\n",
    "            linear_output = np.dot(activations[-1], self.weights[i]) + self.biases[i]\n",
    "            output = self.activation_function(linear_output)\n",
    "            activations.append(output)\n",
    "\n",
    "        return activations[-1]\n",
    "\n",
    "    def _sigmoid(self, x):\n",
    "        return 1 / (1 + np.exp(-x))\n",
    "\n",
    "    def _tanh(self, x):\n",
    "        return np.tanh(x)\n",
    "\n",
    "    def _relu(self, x):\n",
    "        return np.maximum(0, x)"
   ]
  },
  {
   "cell_type": "code",
   "execution_count": 2,
   "metadata": {},
   "outputs": [
    {
     "name": "stdout",
     "output_type": "stream",
     "text": [
      "[[0.92272509 0.49322623 0.53519398]\n",
      " [0.95437191 0.47376639 0.48055043]\n",
      " [0.86940995 0.53931277 0.43747962]\n",
      " [0.98464751 0.65293492 0.36614747]\n",
      " [0.98595298 0.58175658 0.3344579 ]\n",
      " [0.94248822 0.53046467 0.37941046]\n",
      " [0.9874768  0.56921626 0.38081922]\n",
      " [0.87952992 0.55070984 0.43182991]\n",
      " [0.93794668 0.50832479 0.53023818]\n",
      " [0.95986012 0.43079935 0.50889527]]\n"
     ]
    }
   ],
   "source": [
    "# Example usage\n",
    "mlp = MLP(input_size=4, hidden_sizes=[8, 6], output_size=3, activation='sigmoid')\n",
    "input_data = np.random.randn(10, 4)  # Example input data with 10 samples\n",
    "output = mlp.forward(input_data)  # Compute the MLP's output\n",
    "print(output)"
   ]
  },
  {
   "cell_type": "code",
   "execution_count": null,
   "metadata": {},
   "outputs": [],
   "source": []
  }
 ],
 "metadata": {
  "kernelspec": {
   "display_name": "env",
   "language": "python",
   "name": "python3"
  },
  "language_info": {
   "codemirror_mode": {
    "name": "ipython",
    "version": 3
   },
   "file_extension": ".py",
   "mimetype": "text/x-python",
   "name": "python",
   "nbconvert_exporter": "python",
   "pygments_lexer": "ipython3",
   "version": "3.11.4"
  },
  "orig_nbformat": 4
 },
 "nbformat": 4,
 "nbformat_minor": 2
}
