{
 "cells": [
  {
   "cell_type": "code",
   "execution_count": 1,
   "id": "388c9421",
   "metadata": {},
   "outputs": [],
   "source": [
    "def outer_function(x):\n",
    "    def inner_function(y):\n",
    "        return x + y\n",
    "    return inner_function"
   ]
  },
  {
   "cell_type": "code",
   "execution_count": 4,
   "id": "5645f89a",
   "metadata": {},
   "outputs": [
    {
     "name": "stdout",
     "output_type": "stream",
     "text": [
      "<function outer_function.<locals>.inner_function at 0x7fb8729e6b00>\n"
     ]
    }
   ],
   "source": [
    "closure = outer_function(5)\n",
    "print(closure)"
   ]
  },
  {
   "cell_type": "code",
   "execution_count": 5,
   "id": "88fa3c90",
   "metadata": {},
   "outputs": [
    {
     "data": {
      "text/plain": [
       "function"
      ]
     },
     "execution_count": 5,
     "metadata": {},
     "output_type": "execute_result"
    }
   ],
   "source": [
    "type(closure)"
   ]
  },
  {
   "cell_type": "code",
   "execution_count": 6,
   "id": "c34e2835",
   "metadata": {},
   "outputs": [
    {
     "name": "stdout",
     "output_type": "stream",
     "text": [
      "8\n"
     ]
    }
   ],
   "source": [
    "closure = outer_function(5)\n",
    "# closure does not hold a value for a data type or a class type\n",
    "# but it holds an entire function `innter_function`\n",
    "result = closure(3)\n",
    "print(result)"
   ]
  },
  {
   "cell_type": "code",
   "execution_count": 7,
   "id": "0f2c9510",
   "metadata": {},
   "outputs": [],
   "source": [
    "def outer_function(x):\n",
    "    def inner_function(y):\n",
    "        return x + y\n",
    "    def inner2():\n",
    "        pass\n",
    "    return inner_function, inner2"
   ]
  },
  {
   "cell_type": "code",
   "execution_count": 8,
   "id": "fe4cdd0d",
   "metadata": {},
   "outputs": [],
   "source": [
    "closure = outer_function(5)"
   ]
  },
  {
   "cell_type": "code",
   "execution_count": 9,
   "id": "623dd36c",
   "metadata": {},
   "outputs": [
    {
     "ename": "TypeError",
     "evalue": "'tuple' object is not callable",
     "output_type": "error",
     "traceback": [
      "\u001b[0;31m---------------------------------------------------------------------------\u001b[0m",
      "\u001b[0;31mTypeError\u001b[0m                                 Traceback (most recent call last)",
      "Cell \u001b[0;32mIn[9], line 1\u001b[0m\n\u001b[0;32m----> 1\u001b[0m \u001b[43mclosure\u001b[49m\u001b[43m(\u001b[49m\u001b[43m)\u001b[49m\n",
      "\u001b[0;31mTypeError\u001b[0m: 'tuple' object is not callable"
     ]
    }
   ],
   "source": [
    "closure()"
   ]
  },
  {
   "cell_type": "code",
   "execution_count": 10,
   "id": "a24ad5c7",
   "metadata": {},
   "outputs": [
    {
     "data": {
      "text/plain": [
       "7"
      ]
     },
     "execution_count": 10,
     "metadata": {},
     "output_type": "execute_result"
    }
   ],
   "source": [
    "# closure = (inner_function, inner2)\n",
    "closure[0](2)"
   ]
  },
  {
   "cell_type": "code",
   "execution_count": null,
   "id": "2f9c3def",
   "metadata": {},
   "outputs": [],
   "source": [
    "closure1, closure2 = outer_function(5)\n",
    "# closure1 = inner_function()\n",
    "# closure2 = inner2()\n",
    "closure1(4)"
   ]
  },
  {
   "cell_type": "code",
   "execution_count": null,
   "id": "7edb60a4",
   "metadata": {},
   "outputs": [],
   "source": []
  },
  {
   "cell_type": "code",
   "execution_count": 11,
   "id": "c8bf00df",
   "metadata": {},
   "outputs": [],
   "source": [
    "def counter():\n",
    "    count = 0\n",
    "    def inner():\n",
    "        nonlocal count\n",
    "        count += 1\n",
    "        return count\n",
    "    return inner"
   ]
  },
  {
   "cell_type": "code",
   "execution_count": 12,
   "id": "14db070d",
   "metadata": {},
   "outputs": [
    {
     "name": "stdout",
     "output_type": "stream",
     "text": [
      "1\n",
      "2\n",
      "3\n",
      "\n",
      "1\n",
      "2\n"
     ]
    }
   ],
   "source": [
    "c1 = counter()\n",
    "print(c1())\n",
    "print(c1())\n",
    "print(c1())\n",
    "print()\n",
    "\n",
    "c2 = counter()\n",
    "print(c2())\n",
    "print(c2())"
   ]
  },
  {
   "cell_type": "code",
   "execution_count": null,
   "id": "5e851e4a",
   "metadata": {},
   "outputs": [],
   "source": []
  }
 ],
 "metadata": {
  "kernelspec": {
   "display_name": "Python 3 (ipykernel)",
   "language": "python",
   "name": "python3"
  },
  "language_info": {
   "codemirror_mode": {
    "name": "ipython",
    "version": 3
   },
   "file_extension": ".py",
   "mimetype": "text/x-python",
   "name": "python",
   "nbconvert_exporter": "python",
   "pygments_lexer": "ipython3",
   "version": "3.10.6"
  }
 },
 "nbformat": 4,
 "nbformat_minor": 5
}
