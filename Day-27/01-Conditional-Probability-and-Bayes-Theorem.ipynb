{
 "cells": [
  {
   "cell_type": "markdown",
   "id": "e2bd1c41",
   "metadata": {},
   "source": [
    "## Conditional Probability"
   ]
  },
  {
   "cell_type": "code",
   "execution_count": 2,
   "id": "5ee8055e",
   "metadata": {},
   "outputs": [
    {
     "name": "stdout",
     "output_type": "stream",
     "text": [
      "P(A|B) =  0.05714285714285714\n"
     ]
    }
   ],
   "source": [
    "# probability of the ball being one of the first two balls drawn\n",
    "p_A = (2/8 * 1/7) + (6/8 * 2/7)\n",
    "\n",
    "# probability of the ball being red\n",
    "p_B = 5/8\n",
    "\n",
    "# probability of both events A and B occurring together\n",
    "p_AB = 1/28\n",
    "\n",
    "# conditional probability of A given B\n",
    "p_A_given_B = p_AB / p_B\n",
    "\n",
    "print(\"P(A|B) = \", p_A_given_B)"
   ]
  },
  {
   "cell_type": "markdown",
   "id": "febfa504",
   "metadata": {},
   "source": [
    "## Baye's Theorem"
   ]
  },
  {
   "cell_type": "code",
   "execution_count": 1,
   "id": "f2bcc416",
   "metadata": {},
   "outputs": [
    {
     "name": "stdout",
     "output_type": "stream",
     "text": [
      "Probability of having the disease given a positive test result: 0.3242320819112628\n"
     ]
    }
   ],
   "source": [
    "# Prior probability of having the disease\n",
    "p_a = 0.01\n",
    "\n",
    "# Sensitivity of the test\n",
    "p_b_given_a = 0.95\n",
    "\n",
    "# False positive rate of the test\n",
    "p_b_given_not_a = 0.02\n",
    "\n",
    "# Probability of a positive test result\n",
    "p_b = (p_b_given_a * p_a) + (p_b_given_not_a * (1 - p_a))\n",
    "\n",
    "# Probability of having the disease given a positive test result\n",
    "p_a_given_b = (p_b_given_a * p_a) / p_b\n",
    "\n",
    "print(\"Probability of having the disease given a positive test result:\", p_a_given_b)"
   ]
  },
  {
   "cell_type": "code",
   "execution_count": null,
   "id": "23754e6d",
   "metadata": {},
   "outputs": [],
   "source": []
  }
 ],
 "metadata": {
  "kernelspec": {
   "display_name": "Python 3 (ipykernel)",
   "language": "python",
   "name": "python3"
  },
  "language_info": {
   "codemirror_mode": {
    "name": "ipython",
    "version": 3
   },
   "file_extension": ".py",
   "mimetype": "text/x-python",
   "name": "python",
   "nbconvert_exporter": "python",
   "pygments_lexer": "ipython3",
   "version": "3.10.6"
  }
 },
 "nbformat": 4,
 "nbformat_minor": 5
}
