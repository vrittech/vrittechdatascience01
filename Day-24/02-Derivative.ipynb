{
 "cells": [
  {
   "cell_type": "markdown",
   "id": "f30453fd",
   "metadata": {},
   "source": [
    "## Limit of a Function"
   ]
  },
  {
   "cell_type": "code",
   "execution_count": 3,
   "id": "b6cef291",
   "metadata": {},
   "outputs": [],
   "source": [
    "# !pip3 install sympy"
   ]
  },
  {
   "cell_type": "code",
   "execution_count": 4,
   "id": "91dac262",
   "metadata": {},
   "outputs": [
    {
     "name": "stdout",
     "output_type": "stream",
     "text": [
      "2\n"
     ]
    }
   ],
   "source": [
    "import sympy as sp\n",
    "\n",
    "x = sp.symbols('x')\n",
    "f = (x**2 - 1)/(x - 1)\n",
    "limit = sp.limit(f, x, 1)\n",
    "\n",
    "print(limit)"
   ]
  },
  {
   "cell_type": "markdown",
   "id": "d58531dd",
   "metadata": {},
   "source": [
    "## Derivative"
   ]
  },
  {
   "cell_type": "code",
   "execution_count": 5,
   "id": "79454eee",
   "metadata": {},
   "outputs": [
    {
     "name": "stdout",
     "output_type": "stream",
     "text": [
      "cos(x)\n"
     ]
    }
   ],
   "source": [
    "import sympy as sp\n",
    "\n",
    "x = sp.symbols('x')\n",
    "f = sp.sin(x)\n",
    "dfdx = sp.diff(f, x)\n",
    "\n",
    "print(dfdx)"
   ]
  },
  {
   "cell_type": "code",
   "execution_count": null,
   "id": "50937d68",
   "metadata": {},
   "outputs": [],
   "source": []
  }
 ],
 "metadata": {
  "kernelspec": {
   "display_name": "Python 3 (ipykernel)",
   "language": "python",
   "name": "python3"
  },
  "language_info": {
   "codemirror_mode": {
    "name": "ipython",
    "version": 3
   },
   "file_extension": ".py",
   "mimetype": "text/x-python",
   "name": "python",
   "nbconvert_exporter": "python",
   "pygments_lexer": "ipython3",
   "version": "3.10.6"
  }
 },
 "nbformat": 4,
 "nbformat_minor": 5
}
