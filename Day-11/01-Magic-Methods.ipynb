{
 "cells": [
  {
   "cell_type": "code",
   "execution_count": 1,
   "id": "21069f19",
   "metadata": {},
   "outputs": [],
   "source": [
    "class Person:\n",
    "    def __init__(self, name, age):\n",
    "        self.name = name\n",
    "        self.age = age\n",
    "\n",
    "    def __str__(self):\n",
    "        return f\"{self.name} is {self.age} years old\"\n",
    "\n",
    "    def __repr__(self):\n",
    "        return f\"Person({self.name}, {self.age})\"\n",
    "\n",
    "    def __len__(self):\n",
    "        return self.age\n",
    "\n",
    "    def __call__(self):\n",
    "        return f\"{self.name} is being called\""
   ]
  },
  {
   "cell_type": "code",
   "execution_count": 2,
   "id": "1a76f8f4",
   "metadata": {},
   "outputs": [
    {
     "name": "stdout",
     "output_type": "stream",
     "text": [
      "Alice is 30 years old\n",
      "Alice is 30 years old\n",
      "Person(Alice, 30)\n",
      "30\n",
      "Alice is being called\n"
     ]
    }
   ],
   "source": [
    "person = Person(\"Alice\", 30)\n",
    "\n",
    "print(person)        # prints \"Alice is 30 years old\"\n",
    "print(str(person))   # also prints \"Alice is 30 years old\"\n",
    "print(repr(person))  # prints \"Person('Alice', 30)\"\n",
    "print(len(person))   # prints 30\n",
    "print(person())"
   ]
  },
  {
   "cell_type": "code",
   "execution_count": 3,
   "id": "4d094dc5",
   "metadata": {},
   "outputs": [
    {
     "data": {
      "text/plain": [
       "'Alice is being called'"
      ]
     },
     "execution_count": 3,
     "metadata": {},
     "output_type": "execute_result"
    }
   ],
   "source": [
    "person = Person(\"Alice\", 30)\n",
    "person()"
   ]
  },
  {
   "cell_type": "code",
   "execution_count": null,
   "id": "ed4196a7",
   "metadata": {},
   "outputs": [],
   "source": []
  },
  {
   "cell_type": "code",
   "execution_count": 4,
   "id": "d1b3605e",
   "metadata": {},
   "outputs": [],
   "source": [
    "class Person:\n",
    "    def __init__(self, name, age):\n",
    "        self.name = name\n",
    "        self.age = age\n",
    "\n",
    "    def __repr__(self):\n",
    "        return f\"Person({self.name}, {self.age})\""
   ]
  },
  {
   "cell_type": "code",
   "execution_count": 5,
   "id": "c695f754",
   "metadata": {},
   "outputs": [
    {
     "name": "stdout",
     "output_type": "stream",
     "text": [
      "Person(Alice, 30)\n",
      "Person(Alice, 30)\n",
      "Person(Alice, 30)\n"
     ]
    }
   ],
   "source": [
    "person = Person(\"Alice\", 30)\n",
    "\n",
    "print(person)\n",
    "print(str(person))\n",
    "print(repr(person))"
   ]
  },
  {
   "cell_type": "code",
   "execution_count": null,
   "id": "2cfd841a",
   "metadata": {},
   "outputs": [],
   "source": []
  },
  {
   "cell_type": "code",
   "execution_count": 6,
   "id": "dd655a13",
   "metadata": {},
   "outputs": [],
   "source": [
    "class Person:\n",
    "    def __init__(self, name, age):\n",
    "        self.name = name\n",
    "        self.age = age\n",
    "\n",
    "    def __str__(self):\n",
    "        return f\"{self.name} is {self.age} years old\""
   ]
  },
  {
   "cell_type": "code",
   "execution_count": 7,
   "id": "7f6a1bf5",
   "metadata": {},
   "outputs": [
    {
     "name": "stdout",
     "output_type": "stream",
     "text": [
      "Alice is 30 years old\n",
      "Alice is 30 years old\n",
      "<__main__.Person object at 0x7f66dc12f970>\n"
     ]
    }
   ],
   "source": [
    "person = Person(\"Alice\", 30)\n",
    "\n",
    "print(person)\n",
    "print(str(person))\n",
    "print(repr(person))"
   ]
  },
  {
   "cell_type": "code",
   "execution_count": 8,
   "id": "b1bef425",
   "metadata": {},
   "outputs": [
    {
     "data": {
      "text/plain": [
       "'<__main__.Person object at 0x7f66dc12f970>'"
      ]
     },
     "execution_count": 8,
     "metadata": {},
     "output_type": "execute_result"
    }
   ],
   "source": [
    "repr(person)"
   ]
  },
  {
   "cell_type": "code",
   "execution_count": null,
   "id": "2dafcf22",
   "metadata": {},
   "outputs": [],
   "source": []
  }
 ],
 "metadata": {
  "kernelspec": {
   "display_name": "Python 3 (ipykernel)",
   "language": "python",
   "name": "python3"
  },
  "language_info": {
   "codemirror_mode": {
    "name": "ipython",
    "version": 3
   },
   "file_extension": ".py",
   "mimetype": "text/x-python",
   "name": "python",
   "nbconvert_exporter": "python",
   "pygments_lexer": "ipython3",
   "version": "3.10.6"
  }
 },
 "nbformat": 4,
 "nbformat_minor": 5
}
