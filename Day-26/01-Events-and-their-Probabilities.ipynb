{
 "cells": [
  {
   "cell_type": "code",
   "execution_count": 1,
   "id": "07df1827",
   "metadata": {},
   "outputs": [],
   "source": [
    "import random"
   ]
  },
  {
   "cell_type": "code",
   "execution_count": 8,
   "id": "ab5f7312",
   "metadata": {},
   "outputs": [
    {
     "name": "stdout",
     "output_type": "stream",
     "text": [
      "Coin flip result: Tails\n",
      "Dice roll result: 6\n"
     ]
    }
   ],
   "source": [
    "# Elementary events\n",
    "coin_flip = random.choice(['Heads', 'Tails'])\n",
    "print(\"Coin flip result:\", coin_flip)\n",
    "\n",
    "dice_roll = random.randint(1, 6)\n",
    "# dice_roll = random.choice([1, 2, 3, 4, ,5, 6])\n",
    "print(\"Dice roll result:\", dice_roll)"
   ]
  },
  {
   "cell_type": "code",
   "execution_count": 7,
   "id": "a3561cce",
   "metadata": {},
   "outputs": [
    {
     "name": "stdout",
     "output_type": "stream",
     "text": [
      "Dice sum result: 3\n",
      "Cards drawn: ['9 of Hearts', '8 of Hearts']\n"
     ]
    }
   ],
   "source": [
    "# Compound events\n",
    "dice_sum = random.randint(1, 6) + random.randint(1, 6)\n",
    "print(\"Dice sum result:\", dice_sum)\n",
    "\n",
    "cards = ['2 of Hearts', '3 of Hearts', '4 of Hearts', '5 of Hearts', '6 of Hearts',\n",
    "         '7 of Hearts', '8 of Hearts', '9 of Hearts', '10 of Hearts', 'Jack of Hearts',\n",
    "         'Queen of Hearts', 'King of Hearts', 'Ace of Hearts']\n",
    "\n",
    "cards_drawn = random.sample(cards, 2)\n",
    "print(\"Cards drawn:\", cards_drawn)"
   ]
  },
  {
   "cell_type": "code",
   "execution_count": 4,
   "id": "46865bef",
   "metadata": {},
   "outputs": [
    {
     "name": "stdout",
     "output_type": "stream",
     "text": [
      "Even number rolled\n"
     ]
    }
   ],
   "source": [
    "# Mutually exclusive events\n",
    "dice_number = random.randint(1, 6)\n",
    "if dice_number % 2 == 0:\n",
    "    print(\"Even number rolled\")\n",
    "else:\n",
    "    print(\"Odd number rolled\")"
   ]
  },
  {
   "cell_type": "code",
   "execution_count": 9,
   "id": "24df924d",
   "metadata": {},
   "outputs": [
    {
     "name": "stdout",
     "output_type": "stream",
     "text": [
      "Coin flip 1 result: Heads\n",
      "Coin flip 2 result: Heads\n"
     ]
    }
   ],
   "source": [
    "# Independent events\n",
    "coin_flip_1 = random.choice(['Heads', 'Tails'])\n",
    "coin_flip_2 = random.choice(['Heads', 'Tails'])\n",
    "print(\"Coin flip 1 result:\", coin_flip_1)\n",
    "print(\"Coin flip 2 result:\", coin_flip_2)"
   ]
  },
  {
   "cell_type": "markdown",
   "id": "8f2a8686",
   "metadata": {},
   "source": [
    "## Conditional Probability"
   ]
  },
  {
   "cell_type": "code",
   "execution_count": 10,
   "id": "eaab9e7b",
   "metadata": {},
   "outputs": [
    {
     "name": "stdout",
     "output_type": "stream",
     "text": [
      "The selected ball is red and urn A was selected\n",
      "Conditional probability: 0.6\n"
     ]
    }
   ],
   "source": [
    "# Define the urns\n",
    "urn_a = ['red', 'red', 'red', 'blue', 'blue']\n",
    "urn_b = ['red', 'blue', 'blue', 'blue', 'blue']\n",
    "\n",
    "# Randomly select an urn\n",
    "selected_urn = random.choice([urn_a, urn_b])\n",
    "\n",
    "# Randomly select a ball from the selected urn\n",
    "selected_ball = random.choice(selected_urn)\n",
    "\n",
    "# Check if the selected ball is red and the selected urn is urn A\n",
    "if selected_ball == 'red' and selected_urn == urn_a:\n",
    "    print(\"The selected ball is red and urn A was selected\")\n",
    "    conditional_prob = urn_a.count('red') / len(urn_a)\n",
    "    print(\"Conditional probability:\", conditional_prob)\n",
    "else:\n",
    "    print(\"The selected ball is not red or urn A was not selected\")"
   ]
  },
  {
   "cell_type": "code",
   "execution_count": null,
   "id": "840877d1",
   "metadata": {},
   "outputs": [],
   "source": []
  }
 ],
 "metadata": {
  "kernelspec": {
   "display_name": "Python 3 (ipykernel)",
   "language": "python",
   "name": "python3"
  },
  "language_info": {
   "codemirror_mode": {
    "name": "ipython",
    "version": 3
   },
   "file_extension": ".py",
   "mimetype": "text/x-python",
   "name": "python",
   "nbconvert_exporter": "python",
   "pygments_lexer": "ipython3",
   "version": "3.10.6"
  }
 },
 "nbformat": 4,
 "nbformat_minor": 5
}
