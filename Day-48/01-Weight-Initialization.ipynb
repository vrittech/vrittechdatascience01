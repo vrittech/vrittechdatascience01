{
 "cells": [
  {
   "cell_type": "code",
   "execution_count": 1,
   "metadata": {},
   "outputs": [],
   "source": [
    "import numpy as np"
   ]
  },
  {
   "cell_type": "code",
   "execution_count": 2,
   "metadata": {},
   "outputs": [],
   "source": [
    "shape = (2, 3)  # Shape of the weight matrix for a given layer\n",
    "\n",
    "def initialize_zeros(shape):   # Zero Initialization\n",
    "    return np.zeros(shape)\n",
    "\n",
    "def initialize_random(shape):  # Random Initialization\n",
    "    return np.random.randn(*shape)\n",
    "\n",
    "def initialize_xavier(shape):  # Xavier Initialization\n",
    "    fan_in, fan_out = shape[0], shape[1]\n",
    "    variance = np.sqrt(2.0 / (fan_in + fan_out))\n",
    "    return np.random.randn(*shape) * variance\n",
    "\n",
    "def initialize_he(shape):  # He Initialization\n",
    "    fan_in = shape[0]\n",
    "    variance = np.sqrt(2.0 / fan_in)\n",
    "    return np.random.randn(*shape) * variance\n",
    "\n",
    "def initialize_lecun(shape):  # LeCun Initialization\n",
    "    fan_in = shape[0]\n",
    "    variance = np.sqrt(1.0 / fan_in)\n",
    "    return np.random.randn(*shape) * variance"
   ]
  },
  {
   "cell_type": "code",
   "execution_count": 3,
   "metadata": {},
   "outputs": [
    {
     "name": "stdout",
     "output_type": "stream",
     "text": [
      "Zero Initialization: \n",
      " [[0. 0. 0.]\n",
      " [0. 0. 0.]]\n",
      "\n",
      "Random Initialization: \n",
      " [[-1.06694058 -0.3983499   1.22605166]\n",
      " [ 0.24026662 -0.46008179  0.98224231]]\n",
      "\n",
      "Xavier Initialization: \n",
      " [[ 0.7190972   0.91142296  0.18613198]\n",
      " [-0.90302658  0.67083746  1.15611127]]\n",
      "\n",
      "He Initialization: \n",
      " [[ 1.39796339  1.47547315 -0.65862243]\n",
      " [-1.08449309  1.09134882 -0.39529776]]\n",
      "\n",
      "LeCun Initialization: \n",
      " [[ 0.57373496  1.22710942  0.15930771]\n",
      " [-0.65063071  0.73440679 -0.67024218]]\n"
     ]
    }
   ],
   "source": [
    "print(\"Zero Initialization: \\n\", initialize_zeros(shape))\n",
    "print(\"\\nRandom Initialization: \\n\", initialize_random(shape))\n",
    "print(\"\\nXavier Initialization: \\n\", initialize_xavier(shape))\n",
    "print(\"\\nHe Initialization: \\n\", initialize_he(shape))\n",
    "print(\"\\nLeCun Initialization: \\n\", initialize_lecun(shape))"
   ]
  },
  {
   "cell_type": "code",
   "execution_count": null,
   "metadata": {},
   "outputs": [],
   "source": []
  }
 ],
 "metadata": {
  "kernelspec": {
   "display_name": "env",
   "language": "python",
   "name": "python3"
  },
  "language_info": {
   "codemirror_mode": {
    "name": "ipython",
    "version": 3
   },
   "file_extension": ".py",
   "mimetype": "text/x-python",
   "name": "python",
   "nbconvert_exporter": "python",
   "pygments_lexer": "ipython3",
   "version": "3.11.4"
  },
  "orig_nbformat": 4
 },
 "nbformat": 4,
 "nbformat_minor": 2
}
