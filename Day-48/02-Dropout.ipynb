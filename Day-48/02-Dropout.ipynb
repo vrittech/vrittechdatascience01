{
 "cells": [
  {
   "cell_type": "code",
   "execution_count": 1,
   "metadata": {},
   "outputs": [],
   "source": [
    "import numpy as np"
   ]
  },
  {
   "cell_type": "code",
   "execution_count": 2,
   "metadata": {},
   "outputs": [],
   "source": [
    "def dropout_forward(X, dropout_rate):\n",
    "    mask = np.random.rand(*X.shape) < (1 - dropout_rate)\n",
    "    out = X * mask / (1 - dropout_rate)\n",
    "    cache = (mask, dropout_rate)\n",
    "    return out, cache\n",
    "\n",
    "def dropout_backward(dout, cache):\n",
    "    mask, dropout_rate = cache\n",
    "    dX = dout * mask / (1 - dropout_rate)\n",
    "    return dX"
   ]
  },
  {
   "cell_type": "code",
   "execution_count": 3,
   "metadata": {},
   "outputs": [],
   "source": [
    "# Forward pass with dropout\n",
    "dropout_rate = 0.2\n",
    "X = np.random.randn(4, 5)  # Example hidden layer output\n",
    "out, cache = dropout_forward(X, dropout_rate)"
   ]
  },
  {
   "cell_type": "code",
   "execution_count": 4,
   "metadata": {},
   "outputs": [],
   "source": [
    "# Backward pass with dropout\n",
    "dout = np.random.randn(*out.shape)  # Example gradient from subsequent layer\n",
    "dX = dropout_backward(dout, cache)"
   ]
  },
  {
   "cell_type": "code",
   "execution_count": 5,
   "metadata": {},
   "outputs": [
    {
     "name": "stdout",
     "output_type": "stream",
     "text": [
      "Original X:\n",
      " [[-0.08519593 -0.29491034  2.57357226  0.87073336  1.91084363]\n",
      " [ 1.6085391  -0.37490219 -0.84316962  0.08543693  1.2801493 ]\n",
      " [-0.51743279 -1.59138133  0.71590046  0.75913856  0.9847605 ]\n",
      " [ 0.01060837 -1.24200521  0.18092982  0.70046806 -0.89608493]]\n",
      "\n",
      "Output with dropout:\n",
      " [[-0.10649491 -0.36863793  3.21696533  1.0884167   2.38855454]\n",
      " [ 0.         -0.46862774 -1.05396202  0.10679617  1.60018663]\n",
      " [-0.64679099 -1.98922666  0.89487557  0.          1.23095062]\n",
      " [ 0.         -1.55250651  0.22616228  0.87558507 -1.12010616]]\n",
      "\n",
      "Gradient after dropout:\n",
      " [[-0.59372041  1.07096313  1.06882634  1.78229544  1.01449467]\n",
      " [-0.         -2.30641661 -0.23643777  2.49407385 -1.8077579 ]\n",
      " [ 0.66981557  3.29107534  0.40651687  0.          0.51503122]\n",
      " [ 0.         -0.35714271  0.2129555   0.68592714  1.32336732]]\n"
     ]
    }
   ],
   "source": [
    "print(\"Original X:\\n\", X)\n",
    "print(\"\\nOutput with dropout:\\n\", out)\n",
    "print(\"\\nGradient after dropout:\\n\", dX)"
   ]
  },
  {
   "cell_type": "code",
   "execution_count": null,
   "metadata": {},
   "outputs": [],
   "source": []
  }
 ],
 "metadata": {
  "kernelspec": {
   "display_name": "env",
   "language": "python",
   "name": "python3"
  },
  "language_info": {
   "codemirror_mode": {
    "name": "ipython",
    "version": 3
   },
   "file_extension": ".py",
   "mimetype": "text/x-python",
   "name": "python",
   "nbconvert_exporter": "python",
   "pygments_lexer": "ipython3",
   "version": "3.11.4"
  },
  "orig_nbformat": 4
 },
 "nbformat": 4,
 "nbformat_minor": 2
}
