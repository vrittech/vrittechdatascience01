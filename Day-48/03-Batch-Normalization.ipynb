{
 "cells": [
  {
   "cell_type": "code",
   "execution_count": 1,
   "metadata": {},
   "outputs": [],
   "source": [
    "import numpy as np"
   ]
  },
  {
   "cell_type": "code",
   "execution_count": 2,
   "metadata": {},
   "outputs": [],
   "source": [
    "class BatchNormalization:\n",
    "    def __init__(self, epsilon=1e-8):\n",
    "        self.epsilon = epsilon\n",
    "        self.gamma = None\n",
    "        self.beta = None\n",
    "        self.mean = None\n",
    "        self.var = None\n",
    "        self.x_normalized = None\n",
    "\n",
    "    def forward(self, x, training=True):\n",
    "        if self.mean is None:\n",
    "            self.mean = np.mean(x, axis=0)\n",
    "            self.var = np.var(x, axis=0)\n",
    "\n",
    "        if training:\n",
    "            x_normalized = (x - self.mean) / np.sqrt(self.var + self.epsilon)\n",
    "            self.x_normalized = x_normalized\n",
    "\n",
    "            if self.gamma is None:\n",
    "                self.gamma = np.ones_like(x[0])\n",
    "                self.beta = np.zeros_like(x[0])\n",
    "\n",
    "            out = self.gamma * x_normalized + self.beta\n",
    "        else:\n",
    "            x_normalized = (x - self.mean) / np.sqrt(self.var + self.epsilon)\n",
    "            out = self.gamma * x_normalized + self.beta\n",
    "\n",
    "        return out\n",
    "\n",
    "    def backward(self, dout):\n",
    "        dx_normalized = dout * self.gamma\n",
    "        dx = (1.0 / len(dout)) * (1.0 / np.sqrt(self.var + self.epsilon)) * (\n",
    "                len(dout) * dx_normalized - np.sum(dx_normalized, axis=0)\n",
    "                - self.x_normalized * np.sum(dx_normalized * self.x_normalized, axis=0))\n",
    "        dgamma = np.sum(dout * self.x_normalized, axis=0)\n",
    "        dbeta = np.sum(dout, axis=0)\n",
    "\n",
    "        self.gamma -= dgamma\n",
    "        self.beta -= dbeta\n",
    "\n",
    "        return dx"
   ]
  },
  {
   "cell_type": "code",
   "execution_count": 3,
   "metadata": {},
   "outputs": [],
   "source": [
    "# Create an instance of BatchNormalization\n",
    "bn = BatchNormalization()\n",
    "\n",
    "# Assume we have an input tensor x and its gradient dout\n",
    "x = np.random.randn(100, 10)  # Example input\n",
    "dout = np.random.randn(100, 10)  # Example gradient from subsequent layer\n",
    "\n",
    "# Forward pass\n",
    "out = bn.forward(x, training=True)\n",
    "\n",
    "# Backward pass\n",
    "dx = bn.backward(dout)"
   ]
  },
  {
   "cell_type": "code",
   "execution_count": null,
   "metadata": {},
   "outputs": [],
   "source": []
  }
 ],
 "metadata": {
  "kernelspec": {
   "display_name": "env",
   "language": "python",
   "name": "python3"
  },
  "language_info": {
   "codemirror_mode": {
    "name": "ipython",
    "version": 3
   },
   "file_extension": ".py",
   "mimetype": "text/x-python",
   "name": "python",
   "nbconvert_exporter": "python",
   "pygments_lexer": "ipython3",
   "version": "3.11.4"
  },
  "orig_nbformat": 4
 },
 "nbformat": 4,
 "nbformat_minor": 2
}
