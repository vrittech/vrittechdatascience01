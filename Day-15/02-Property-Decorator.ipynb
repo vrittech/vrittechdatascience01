{
 "cells": [
  {
   "cell_type": "markdown",
   "id": "a286dc82",
   "metadata": {},
   "source": [
    "## Getter"
   ]
  },
  {
   "cell_type": "code",
   "execution_count": 2,
   "id": "0d20f59e",
   "metadata": {},
   "outputs": [],
   "source": [
    "class Person:\n",
    "    def __init__(self, name):\n",
    "        self._name = name\n",
    "\n",
    "    @property\n",
    "    def name(self):\n",
    "        print(\"Getting name...\")\n",
    "        return self._name"
   ]
  },
  {
   "cell_type": "code",
   "execution_count": 3,
   "id": "ff7ed402",
   "metadata": {},
   "outputs": [
    {
     "name": "stdout",
     "output_type": "stream",
     "text": [
      "Getting name...\n",
      "Alice\n"
     ]
    }
   ],
   "source": [
    "person = Person(\"Alice\")\n",
    "print(person.name)"
   ]
  },
  {
   "cell_type": "markdown",
   "id": "9322f57a",
   "metadata": {},
   "source": [
    "## Setter"
   ]
  },
  {
   "cell_type": "code",
   "execution_count": 4,
   "id": "68ef0ea4",
   "metadata": {},
   "outputs": [],
   "source": [
    "class Person:\n",
    "    def __init__(self, name):\n",
    "        self._name = name\n",
    "\n",
    "    @property\n",
    "    def name(self):\n",
    "        print(\"Getting name...\")\n",
    "        return self._name\n",
    "\n",
    "    @name.setter\n",
    "    def name(self, value):\n",
    "        print(\"Setting name...\")\n",
    "        self._name = value"
   ]
  },
  {
   "cell_type": "code",
   "execution_count": 5,
   "id": "9ddf6790",
   "metadata": {},
   "outputs": [
    {
     "name": "stdout",
     "output_type": "stream",
     "text": [
      "Getting name...\n",
      "Alice\n",
      "Setting name...\n",
      "Getting name...\n",
      "Bob\n"
     ]
    }
   ],
   "source": [
    "person = Person(\"Alice\")\n",
    "print(person.name)\n",
    "person.name = \"Bob\"\n",
    "print(person.name)"
   ]
  },
  {
   "cell_type": "markdown",
   "id": "56f1293b",
   "metadata": {},
   "source": [
    "## Deleter"
   ]
  },
  {
   "cell_type": "code",
   "execution_count": 6,
   "id": "1adb0f97",
   "metadata": {},
   "outputs": [],
   "source": [
    "class Person:\n",
    "    def __init__(self, name):\n",
    "        self._name = name\n",
    "\n",
    "    @property\n",
    "    def name(self):\n",
    "        print(\"Getting name...\")\n",
    "        return self._name\n",
    "\n",
    "    @name.setter\n",
    "    def name(self, value):\n",
    "        print(\"Setting name...\")\n",
    "        self._name = value\n",
    "\n",
    "    @name.deleter\n",
    "    def name(self):\n",
    "        print(\"Deleting name...\")\n",
    "        del self._name"
   ]
  },
  {
   "cell_type": "code",
   "execution_count": 7,
   "id": "588f7591",
   "metadata": {},
   "outputs": [
    {
     "name": "stdout",
     "output_type": "stream",
     "text": [
      "Getting name...\n",
      "Alice\n",
      "Deleting name...\n",
      "Getting name...\n"
     ]
    },
    {
     "ename": "AttributeError",
     "evalue": "'Person' object has no attribute '_name'",
     "output_type": "error",
     "traceback": [
      "\u001b[0;31m---------------------------------------------------------------------------\u001b[0m",
      "\u001b[0;31mAttributeError\u001b[0m                            Traceback (most recent call last)",
      "Cell \u001b[0;32mIn[7], line 4\u001b[0m\n\u001b[1;32m      2\u001b[0m \u001b[38;5;28mprint\u001b[39m(person\u001b[38;5;241m.\u001b[39mname)\n\u001b[1;32m      3\u001b[0m \u001b[38;5;28;01mdel\u001b[39;00m person\u001b[38;5;241m.\u001b[39mname\n\u001b[0;32m----> 4\u001b[0m \u001b[38;5;28mprint\u001b[39m(\u001b[43mperson\u001b[49m\u001b[38;5;241;43m.\u001b[39;49m\u001b[43mname\u001b[49m)\n",
      "Cell \u001b[0;32mIn[6], line 8\u001b[0m, in \u001b[0;36mPerson.name\u001b[0;34m(self)\u001b[0m\n\u001b[1;32m      5\u001b[0m \u001b[38;5;129m@property\u001b[39m\n\u001b[1;32m      6\u001b[0m \u001b[38;5;28;01mdef\u001b[39;00m \u001b[38;5;21mname\u001b[39m(\u001b[38;5;28mself\u001b[39m):\n\u001b[1;32m      7\u001b[0m     \u001b[38;5;28mprint\u001b[39m(\u001b[38;5;124m\"\u001b[39m\u001b[38;5;124mGetting name...\u001b[39m\u001b[38;5;124m\"\u001b[39m)\n\u001b[0;32m----> 8\u001b[0m     \u001b[38;5;28;01mreturn\u001b[39;00m \u001b[38;5;28;43mself\u001b[39;49m\u001b[38;5;241;43m.\u001b[39;49m\u001b[43m_name\u001b[49m\n",
      "\u001b[0;31mAttributeError\u001b[0m: 'Person' object has no attribute '_name'"
     ]
    }
   ],
   "source": [
    "person = Person(\"Alice\")\n",
    "print(person.name)\n",
    "del person.name\n",
    "print(person.name)"
   ]
  },
  {
   "cell_type": "code",
   "execution_count": null,
   "id": "ee02f8d5",
   "metadata": {},
   "outputs": [],
   "source": []
  }
 ],
 "metadata": {
  "kernelspec": {
   "display_name": "Python 3 (ipykernel)",
   "language": "python",
   "name": "python3"
  },
  "language_info": {
   "codemirror_mode": {
    "name": "ipython",
    "version": 3
   },
   "file_extension": ".py",
   "mimetype": "text/x-python",
   "name": "python",
   "nbconvert_exporter": "python",
   "pygments_lexer": "ipython3",
   "version": "3.10.6"
  }
 },
 "nbformat": 4,
 "nbformat_minor": 5
}
