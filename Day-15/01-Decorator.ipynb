{
 "cells": [
  {
   "cell_type": "code",
   "execution_count": 1,
   "id": "26d4173f",
   "metadata": {},
   "outputs": [],
   "source": [
    "def my_decorator(func):\n",
    "    def wrapper():\n",
    "        print(\"Before function execution\")\n",
    "        func()\n",
    "        print(\"After function execution\")\n",
    "    return wrapper"
   ]
  },
  {
   "cell_type": "code",
   "execution_count": 2,
   "id": "ae86fe51",
   "metadata": {},
   "outputs": [],
   "source": [
    "@my_decorator\n",
    "def say_hello():\n",
    "    print(\"Hello, world!\")"
   ]
  },
  {
   "cell_type": "code",
   "execution_count": 3,
   "id": "35bdc637",
   "metadata": {},
   "outputs": [
    {
     "name": "stdout",
     "output_type": "stream",
     "text": [
      "Before function execution\n",
      "Hello, world!\n",
      "After function execution\n"
     ]
    }
   ],
   "source": [
    "say_hello()"
   ]
  },
  {
   "cell_type": "code",
   "execution_count": 4,
   "id": "9a951494",
   "metadata": {},
   "outputs": [],
   "source": [
    "@my_decorator\n",
    "def abc():\n",
    "    print(\"This is just a test function!\")"
   ]
  },
  {
   "cell_type": "code",
   "execution_count": 5,
   "id": "b0d77521",
   "metadata": {},
   "outputs": [
    {
     "name": "stdout",
     "output_type": "stream",
     "text": [
      "Before function execution\n",
      "This is just a test function!\n",
      "After function execution\n"
     ]
    }
   ],
   "source": [
    "abc()"
   ]
  },
  {
   "cell_type": "code",
   "execution_count": null,
   "id": "bf3113c2",
   "metadata": {},
   "outputs": [],
   "source": []
  },
  {
   "cell_type": "code",
   "execution_count": 6,
   "id": "7fd550ef",
   "metadata": {},
   "outputs": [],
   "source": [
    "abc = my_decorator(say_hello)"
   ]
  },
  {
   "cell_type": "code",
   "execution_count": 7,
   "id": "f36dfe12",
   "metadata": {},
   "outputs": [
    {
     "name": "stdout",
     "output_type": "stream",
     "text": [
      "Before function execution\n",
      "Before function execution\n",
      "Hello, world!\n",
      "After function execution\n",
      "After function execution\n",
      "None\n"
     ]
    }
   ],
   "source": [
    "print(abc())"
   ]
  },
  {
   "cell_type": "code",
   "execution_count": null,
   "id": "99372337",
   "metadata": {},
   "outputs": [],
   "source": []
  },
  {
   "cell_type": "code",
   "execution_count": 8,
   "id": "65f652eb",
   "metadata": {},
   "outputs": [],
   "source": [
    "# def repeat(n):\n",
    "#     def decorator(func):\n",
    "#         print('HELLO')\n",
    "#         def wrapper(*args, **kwargs):\n",
    "#             for i in range(n):\n",
    "#                 func(*args, **kwargs)\n",
    "#                 print('FUNC RUN')\n",
    "#         return wrapper\n",
    "#     return decorator"
   ]
  },
  {
   "cell_type": "code",
   "execution_count": 9,
   "id": "a8afb98d",
   "metadata": {},
   "outputs": [],
   "source": [
    "# @repeat(3)\n",
    "# def say_hello(name):\n",
    "#     print(f\"Hello, {name}!\")"
   ]
  },
  {
   "cell_type": "code",
   "execution_count": 10,
   "id": "cad854de",
   "metadata": {},
   "outputs": [],
   "source": [
    "# say_hello(\"Alice\")"
   ]
  },
  {
   "cell_type": "code",
   "execution_count": null,
   "id": "31d238c3",
   "metadata": {},
   "outputs": [],
   "source": []
  },
  {
   "cell_type": "code",
   "execution_count": 11,
   "id": "afa5bfca",
   "metadata": {},
   "outputs": [],
   "source": [
    "# rep = repeat(3)"
   ]
  },
  {
   "cell_type": "code",
   "execution_count": 12,
   "id": "9b82015e",
   "metadata": {},
   "outputs": [],
   "source": [
    "# dec = rep(say_hello('Vrit'))"
   ]
  },
  {
   "cell_type": "code",
   "execution_count": null,
   "id": "be0008f2",
   "metadata": {},
   "outputs": [],
   "source": []
  }
 ],
 "metadata": {
  "kernelspec": {
   "display_name": "Python 3 (ipykernel)",
   "language": "python",
   "name": "python3"
  },
  "language_info": {
   "codemirror_mode": {
    "name": "ipython",
    "version": 3
   },
   "file_extension": ".py",
   "mimetype": "text/x-python",
   "name": "python",
   "nbconvert_exporter": "python",
   "pygments_lexer": "ipython3",
   "version": "3.10.6"
  }
 },
 "nbformat": 4,
 "nbformat_minor": 5
}
