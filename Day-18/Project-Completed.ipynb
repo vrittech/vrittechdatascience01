{
 "cells": [
  {
   "cell_type": "code",
   "execution_count": 1,
   "id": "580173f5",
   "metadata": {},
   "outputs": [],
   "source": [
    "class Product:\n",
    "    def __init__(self, name, price):\n",
    "        self.name = name\n",
    "        self.price = price"
   ]
  },
  {
   "cell_type": "code",
   "execution_count": 2,
   "id": "2d438eaa",
   "metadata": {},
   "outputs": [],
   "source": [
    "class User:\n",
    "    users = []  # Class variable to store all created users\n",
    "\n",
    "    def __init__(self, name):\n",
    "        self.name = self.validate_name(name)\n",
    "        self.__is_premium = False\n",
    "        self.__is_admin = False\n",
    "        self.cart = ShoppingCart()\n",
    "        User.users.append(self)  # Add the user to the list of users\n",
    "        if self.name == 'admin':\n",
    "            self.__is_premium = True\n",
    "            self.__is_admin = True\n",
    "\n",
    "    @staticmethod\n",
    "    def validate_name(name):\n",
    "        if any(user.name == name for user in User.users):\n",
    "            print(f\"User with the name '{name}' already exists. Please choose a different name.\")\n",
    "            unique_name = input(\"Please enter a unique name: \")\n",
    "            return User.validate_name(unique_name)  # Recursively validate the unique name\n",
    "        return name\n",
    "    \n",
    "    @property\n",
    "    def is_admin(self):\n",
    "        return self.__is_admin\n",
    "    \n",
    "    @property\n",
    "    def is_premium(self):\n",
    "        return self.__is_premium\n",
    "\n",
    "    def make_admin(self, admin):\n",
    "        if admin_user.is_admin:\n",
    "            self.__is_admin = True\n",
    "            self.__is_premium = True\n",
    "            \n",
    "    def make_premium(self, admin_user):\n",
    "        if admin_user.is_admin:\n",
    "            self.__is_premium = True\n",
    "            \n",
    "    def remove_admin(self, admin_user):\n",
    "        if admin_user.is_admin:\n",
    "            self.__is_admin =  False\n",
    "            \n",
    "    def remove_premium(self, admin_user):\n",
    "        if admin_user.is_admin:\n",
    "            self.__is_premium =  False"
   ]
  },
  {
   "cell_type": "code",
   "execution_count": 3,
   "id": "18b518f9",
   "metadata": {},
   "outputs": [],
   "source": [
    "def discount_10_percent(func):\n",
    "    def wrapper(self):\n",
    "        total_cost = func(self)\n",
    "        discounted_cost = total_cost * 0.9\n",
    "        return discounted_cost\n",
    "    return wrapper"
   ]
  },
  {
   "cell_type": "code",
   "execution_count": 4,
   "id": "c710b350",
   "metadata": {},
   "outputs": [],
   "source": [
    "class ShoppingCart:\n",
    "    def __init__(self):\n",
    "        self.products = []\n",
    "\n",
    "    def add_product(self, product):\n",
    "        self.products.append(product)\n",
    "\n",
    "    def remove_product(self, product):\n",
    "        self.products.remove(product)\n",
    "\n",
    "    def calculate_total_cost(self):\n",
    "        total_cost = sum(product.price for product in self.products)\n",
    "        return total_cost\n",
    "    \n",
    "    @discount_10_percent\n",
    "    def calculate_discounted_cost(self):\n",
    "        total_cost = sum(product.price for product in self.products)\n",
    "        return total_cost\n",
    "    \n",
    "    def generate_invoice(self, user):\n",
    "        invoice = f\"Invoice for {user.name}:\\n\"\n",
    "        invoice += \"=======================\\n\"\n",
    "        for product in self.products:\n",
    "            invoice += f\"{product.name}: ${product.price}\\n\"\n",
    "        total_cost = self.calculate_total_cost()\n",
    "        if user.is_premium:\n",
    "            invoice += \"-----------------------\\n\"\n",
    "            invoice += f\"Sub-Total: ${total_cost}\\n\"\n",
    "            final_cost = self.calculate_discounted_cost()\n",
    "            invoice += f\"Discount (10%): ${total_cost - final_cost}\\n\"\n",
    "            total_cost = final_cost\n",
    "        invoice += \"-----------------------\\n\"\n",
    "        invoice += f\"Total: ${total_cost}\"\n",
    "        return invoice\n",
    "\n",
    "    def get_products(self):\n",
    "        yield from self.products"
   ]
  },
  {
   "cell_type": "code",
   "execution_count": 5,
   "id": "f417b543",
   "metadata": {},
   "outputs": [],
   "source": [
    "# Create some products\n",
    "product1 = Product(\"Shirt\", 20)\n",
    "product2 = Product(\"Pants\", 30)\n",
    "product3 = Product(\"Shoes\", 50)\n",
    "\n",
    "# Create a shopping cart\n",
    "cart = ShoppingCart()\n",
    "\n",
    "# Add products to the cart\n",
    "cart.add_product(product1)\n",
    "cart.add_product(product2)\n",
    "\n",
    "# Use the generator to iterate over the products\n",
    "for product in cart.get_products():\n",
    "    print(f\"Product: {product.name}, Price: {product.price}\")"
   ]
  },
  {
   "cell_type": "code",
   "execution_count": 6,
   "id": "c7b368ed",
   "metadata": {},
   "outputs": [],
   "source": [
    "admin = User('admin')"
   ]
  },
  {
   "cell_type": "code",
   "execution_count": 7,
   "id": "20f14690",
   "metadata": {},
   "outputs": [],
   "source": [
    "admin.is_admin"
   ]
  },
  {
   "cell_type": "code",
   "execution_count": null,
   "id": "8b5ccda3",
   "metadata": {},
   "outputs": [],
   "source": []
  },
  {
   "cell_type": "code",
   "execution_count": 8,
   "id": "7fd2cda8",
   "metadata": {},
   "outputs": [],
   "source": [
    "print(cart.generate_invoice(admin))"
   ]
  },
  {
   "cell_type": "code",
   "execution_count": 9,
   "id": "6024b36b",
   "metadata": {},
   "outputs": [],
   "source": [
    "admin.cart.add_product(product1)\n",
    "admin.cart.add_product(product3)"
   ]
  },
  {
   "cell_type": "code",
   "execution_count": 10,
   "id": "1159e91c",
   "metadata": {},
   "outputs": [],
   "source": [
    "admin_invoice = admin.cart.generate_invoice(admin)"
   ]
  },
  {
   "cell_type": "code",
   "execution_count": 11,
   "id": "32634456",
   "metadata": {},
   "outputs": [],
   "source": [
    "print(admin_invoice)"
   ]
  },
  {
   "cell_type": "code",
   "execution_count": null,
   "id": "61ff6cbe",
   "metadata": {},
   "outputs": [],
   "source": []
  }
 ],
 "metadata": {
  "kernelspec": {
   "display_name": "Python 3 (ipykernel)",
   "language": "python",
   "name": "python3"
  },
  "language_info": {
   "codemirror_mode": {
    "name": "ipython",
    "version": 3
   },
   "file_extension": ".py",
   "mimetype": "text/x-python",
   "name": "python",
   "nbconvert_exporter": "python",
   "pygments_lexer": "ipython3",
   "version": "3.10.6"
  }
 },
 "nbformat": 4,
 "nbformat_minor": 5
}
