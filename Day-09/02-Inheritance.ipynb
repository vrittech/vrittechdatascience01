{
 "cells": [
  {
   "cell_type": "markdown",
   "id": "2aec7a7c",
   "metadata": {},
   "source": [
    "## Single Inheritance"
   ]
  },
  {
   "cell_type": "code",
   "execution_count": 13,
   "id": "4f112842",
   "metadata": {},
   "outputs": [],
   "source": [
    "class Animal:\n",
    "    def __init__(self, name, age):\n",
    "        self.name = name\n",
    "        self.age = age\n",
    "\n",
    "    def intro(self):\n",
    "        print(\"I am an animal.\")\n",
    "\n",
    "class Cat(Animal):\n",
    "    def __init__(self, name, age, color):\n",
    "        self.color = color\n",
    "        super().__init__(name, age)\n",
    "\n",
    "    def speak(self):\n",
    "        print(\"Meow!\")"
   ]
  },
  {
   "cell_type": "code",
   "execution_count": 14,
   "id": "e48d360c",
   "metadata": {},
   "outputs": [
    {
     "name": "stdout",
     "output_type": "stream",
     "text": [
      "Fluffy\n",
      "3\n",
      "gray\n",
      "Meow!\n",
      "I am an animal.\n"
     ]
    }
   ],
   "source": [
    "my_cat = Cat(\"Fluffy\", 3, \"gray\")\n",
    "print(my_cat.name)\n",
    "print(my_cat.age)\n",
    "print(my_cat.color)\n",
    "my_cat.speak()\n",
    "my_cat.intro()"
   ]
  },
  {
   "cell_type": "code",
   "execution_count": 3,
   "id": "43a2d4ff",
   "metadata": {},
   "outputs": [],
   "source": [
    "animal = Animal('Tiger', 5)"
   ]
  },
  {
   "cell_type": "code",
   "execution_count": 4,
   "id": "7848fa82",
   "metadata": {},
   "outputs": [
    {
     "data": {
      "text/plain": [
       "'Tiger'"
      ]
     },
     "execution_count": 4,
     "metadata": {},
     "output_type": "execute_result"
    }
   ],
   "source": [
    "animal.name"
   ]
  },
  {
   "cell_type": "code",
   "execution_count": 5,
   "id": "df3b6252",
   "metadata": {},
   "outputs": [
    {
     "data": {
      "text/plain": [
       "5"
      ]
     },
     "execution_count": 5,
     "metadata": {},
     "output_type": "execute_result"
    }
   ],
   "source": [
    "animal.age"
   ]
  },
  {
   "cell_type": "code",
   "execution_count": 6,
   "id": "7e0f4399",
   "metadata": {},
   "outputs": [
    {
     "ename": "AttributeError",
     "evalue": "'Animal' object has no attribute 'color'",
     "output_type": "error",
     "traceback": [
      "\u001b[0;31m---------------------------------------------------------------------------\u001b[0m",
      "\u001b[0;31mAttributeError\u001b[0m                            Traceback (most recent call last)",
      "Cell \u001b[0;32mIn[6], line 1\u001b[0m\n\u001b[0;32m----> 1\u001b[0m \u001b[43manimal\u001b[49m\u001b[38;5;241;43m.\u001b[39;49m\u001b[43mcolor\u001b[49m\n",
      "\u001b[0;31mAttributeError\u001b[0m: 'Animal' object has no attribute 'color'"
     ]
    }
   ],
   "source": [
    "animal.color"
   ]
  },
  {
   "cell_type": "markdown",
   "id": "b67a32c9",
   "metadata": {},
   "source": [
    "## Multiple Inheritance"
   ]
  },
  {
   "cell_type": "code",
   "execution_count": 15,
   "id": "a18cb31d",
   "metadata": {},
   "outputs": [],
   "source": [
    "class Parent1:\n",
    "    def func1(self):\n",
    "        print(\"This is Parent 1 function.\")\n",
    "\n",
    "class Parent2:\n",
    "    def func2(self):\n",
    "        print(\"This is Parent 2 function.\")\n",
    "\n",
    "class Child(Parent1, Parent2):\n",
    "    def func3(self):\n",
    "        print(\"This is Child function.\")"
   ]
  },
  {
   "cell_type": "code",
   "execution_count": 16,
   "id": "9df6e0f5",
   "metadata": {},
   "outputs": [
    {
     "name": "stdout",
     "output_type": "stream",
     "text": [
      "This is Parent 1 function.\n",
      "This is Parent 2 function.\n",
      "This is Child function.\n"
     ]
    }
   ],
   "source": [
    "obj = Child()\n",
    "\n",
    "obj.func1()\n",
    "obj.func2()\n",
    "obj.func3()"
   ]
  },
  {
   "cell_type": "code",
   "execution_count": 18,
   "id": "f9d2eedd",
   "metadata": {},
   "outputs": [
    {
     "name": "stdout",
     "output_type": "stream",
     "text": [
      "This is Parent 1 function.\n"
     ]
    }
   ],
   "source": [
    "Child().func1()"
   ]
  },
  {
   "cell_type": "markdown",
   "id": "41ecdc60",
   "metadata": {},
   "source": [
    "## Multi-level Inheritance"
   ]
  },
  {
   "cell_type": "code",
   "execution_count": 19,
   "id": "667a9cbb",
   "metadata": {},
   "outputs": [],
   "source": [
    "class A:\n",
    "    def method_a(self):\n",
    "        print(\"This is method A from class A\")\n",
    "\n",
    "class B(A):\n",
    "    def method_b(self):\n",
    "        print(\"This is method B from class B\")\n",
    "\n",
    "class C(B):\n",
    "    def method_c(self):\n",
    "        print(\"This is method C from class C\")"
   ]
  },
  {
   "cell_type": "code",
   "execution_count": 25,
   "id": "7b83f3f6",
   "metadata": {},
   "outputs": [
    {
     "name": "stdout",
     "output_type": "stream",
     "text": [
      "This is method A from class A\n",
      "This is method B from class B\n",
      "This is method C from class C\n"
     ]
    }
   ],
   "source": [
    "obj = C()\n",
    "obj.method_a()\n",
    "obj.method_b()\n",
    "obj.method_c()"
   ]
  },
  {
   "cell_type": "code",
   "execution_count": 26,
   "id": "5b1ff4e8",
   "metadata": {},
   "outputs": [
    {
     "name": "stdout",
     "output_type": "stream",
     "text": [
      "This is method A from class A\n",
      "This is method B from class B\n"
     ]
    }
   ],
   "source": [
    "obj = B()\n",
    "obj.method_a()\n",
    "obj.method_b()"
   ]
  },
  {
   "cell_type": "code",
   "execution_count": 27,
   "id": "05674676",
   "metadata": {},
   "outputs": [
    {
     "ename": "AttributeError",
     "evalue": "'B' object has no attribute 'method_c'",
     "output_type": "error",
     "traceback": [
      "\u001b[0;31m---------------------------------------------------------------------------\u001b[0m",
      "\u001b[0;31mAttributeError\u001b[0m                            Traceback (most recent call last)",
      "Cell \u001b[0;32mIn[27], line 1\u001b[0m\n\u001b[0;32m----> 1\u001b[0m \u001b[43mobj\u001b[49m\u001b[38;5;241;43m.\u001b[39;49m\u001b[43mmethod_c\u001b[49m()\n",
      "\u001b[0;31mAttributeError\u001b[0m: 'B' object has no attribute 'method_c'"
     ]
    }
   ],
   "source": [
    "obj.method_c()"
   ]
  },
  {
   "cell_type": "markdown",
   "id": "03400588",
   "metadata": {},
   "source": [
    "## Hierarchical Inheritance"
   ]
  },
  {
   "cell_type": "code",
   "execution_count": 21,
   "id": "ec6d4876",
   "metadata": {},
   "outputs": [],
   "source": [
    "class Animal:\n",
    "    def __init__(self, name):\n",
    "        self.name = name\n",
    "    \n",
    "    def intro(self):\n",
    "        pass\n",
    "\n",
    "class Cat(Animal):\n",
    "    def speak(self):\n",
    "        return \"Meow\"\n",
    "    \n",
    "class Dog(Animal):\n",
    "    def speak(self):\n",
    "        return \"Woof\"\n",
    "    \n",
    "class Lion(Animal):\n",
    "    def speak(self):\n",
    "        return \"Roar\""
   ]
  },
  {
   "cell_type": "code",
   "execution_count": 22,
   "id": "9174f940",
   "metadata": {},
   "outputs": [
    {
     "name": "stdout",
     "output_type": "stream",
     "text": [
      "Meow\n",
      "Woof\n",
      "Roar\n",
      "Simba\n"
     ]
    }
   ],
   "source": [
    "cat = Cat(\"Fluffy\")\n",
    "dog = Dog(\"Fido\")\n",
    "lion = Lion(\"Simba\")\n",
    "\n",
    "print(cat.speak())\n",
    "print(dog.speak())\n",
    "print(lion.speak())\n",
    "print(lion.name)"
   ]
  },
  {
   "cell_type": "markdown",
   "id": "6b9e6321",
   "metadata": {},
   "source": [
    "## Hybrid Inheritance"
   ]
  },
  {
   "cell_type": "code",
   "execution_count": 23,
   "id": "418007d6",
   "metadata": {},
   "outputs": [],
   "source": [
    "class Animal:\n",
    "    def __init__(self, name):\n",
    "        self.name = name\n",
    "    \n",
    "    def speak(self):\n",
    "        print(f\"{self.name} is speaking.\")\n",
    "\n",
    "class Mammal(Animal):\n",
    "    def __init__(self, name):\n",
    "        super().__init__(name)\n",
    "    \n",
    "    def feed_milk(self):\n",
    "        print(f\"{self.name} is feeding milk.\")\n",
    "\n",
    "class Bird(Animal):\n",
    "    def __init__(self, name):\n",
    "        super().__init__(name)\n",
    "    \n",
    "    def fly(self):\n",
    "        print(f\"{self.name} is flying.\")\n",
    "\n",
    "class Bat(Mammal, Bird):\n",
    "    def __init__(self, name):\n",
    "        super().__init__(name)"
   ]
  },
  {
   "cell_type": "code",
   "execution_count": 24,
   "id": "bfbb3dae",
   "metadata": {},
   "outputs": [
    {
     "name": "stdout",
     "output_type": "stream",
     "text": [
      "Bruce is speaking.\n",
      "Bruce is feeding milk.\n",
      "Bruce is flying.\n"
     ]
    }
   ],
   "source": [
    "b = Bat(\"Bruce\")\n",
    "b.speak()\n",
    "b.feed_milk()\n",
    "b.fly()"
   ]
  },
  {
   "cell_type": "code",
   "execution_count": null,
   "id": "af0913a7",
   "metadata": {},
   "outputs": [],
   "source": []
  }
 ],
 "metadata": {
  "kernelspec": {
   "display_name": "Python 3 (ipykernel)",
   "language": "python",
   "name": "python3"
  },
  "language_info": {
   "codemirror_mode": {
    "name": "ipython",
    "version": 3
   },
   "file_extension": ".py",
   "mimetype": "text/x-python",
   "name": "python",
   "nbconvert_exporter": "python",
   "pygments_lexer": "ipython3",
   "version": "3.10.6"
  }
 },
 "nbformat": 4,
 "nbformat_minor": 5
}
