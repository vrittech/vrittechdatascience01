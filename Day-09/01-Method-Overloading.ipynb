{
 "cells": [
  {
   "cell_type": "code",
   "execution_count": 2,
   "id": "3f2253bc",
   "metadata": {},
   "outputs": [],
   "source": [
    "class Example:\n",
    "    def add(self, a, b=None, c=None):\n",
    "        if b is not None and c is not None:\n",
    "            return a + b + c\n",
    "        elif b is not None:\n",
    "            return a + b\n",
    "        else:\n",
    "            return a"
   ]
  },
  {
   "cell_type": "code",
   "execution_count": 3,
   "id": "43c54e6f",
   "metadata": {},
   "outputs": [],
   "source": [
    "example = Example()"
   ]
  },
  {
   "cell_type": "code",
   "execution_count": 6,
   "id": "28f39b7e",
   "metadata": {},
   "outputs": [],
   "source": [
    "val = example.add(1, 2)"
   ]
  },
  {
   "cell_type": "code",
   "execution_count": 7,
   "id": "ab02769e",
   "metadata": {},
   "outputs": [
    {
     "data": {
      "text/plain": [
       "3"
      ]
     },
     "execution_count": 7,
     "metadata": {},
     "output_type": "execute_result"
    }
   ],
   "source": [
    "val"
   ]
  },
  {
   "cell_type": "code",
   "execution_count": null,
   "id": "80434801",
   "metadata": {},
   "outputs": [],
   "source": []
  },
  {
   "cell_type": "code",
   "execution_count": 8,
   "id": "c5ab7ceb",
   "metadata": {},
   "outputs": [],
   "source": [
    "class Example:\n",
    "    def add(self, *args):\n",
    "        if len(args) == 1:\n",
    "            return args[0]\n",
    "        elif len(args) == 2:\n",
    "            return args[0] + args[1]\n",
    "        elif len(args) == 3:\n",
    "            return args[0] + args[1] + args[2]"
   ]
  },
  {
   "cell_type": "code",
   "execution_count": 9,
   "id": "4a8acff8",
   "metadata": {},
   "outputs": [],
   "source": [
    "examp = Example()"
   ]
  },
  {
   "cell_type": "code",
   "execution_count": 10,
   "id": "2599ca1f",
   "metadata": {},
   "outputs": [],
   "source": [
    "val1 = examp.add(1)\n",
    "val2 = examp.add(2, 3)\n",
    "val3 = examp.add(2, 4, 5)"
   ]
  },
  {
   "cell_type": "code",
   "execution_count": 11,
   "id": "678f312d",
   "metadata": {},
   "outputs": [
    {
     "name": "stdout",
     "output_type": "stream",
     "text": [
      "1\n",
      "5\n",
      "11\n"
     ]
    }
   ],
   "source": [
    "print(val1)\n",
    "print(val2)\n",
    "print(val3)"
   ]
  },
  {
   "cell_type": "code",
   "execution_count": 12,
   "id": "eaa3bf91",
   "metadata": {},
   "outputs": [],
   "source": [
    "val4 = examp.add(2, 3, 4, 5)"
   ]
  },
  {
   "cell_type": "code",
   "execution_count": 14,
   "id": "0f78d84e",
   "metadata": {},
   "outputs": [
    {
     "name": "stdout",
     "output_type": "stream",
     "text": [
      "None\n"
     ]
    }
   ],
   "source": [
    "print(val4)"
   ]
  },
  {
   "cell_type": "code",
   "execution_count": null,
   "id": "1b61739c",
   "metadata": {},
   "outputs": [],
   "source": []
  }
 ],
 "metadata": {
  "kernelspec": {
   "display_name": "Python 3 (ipykernel)",
   "language": "python",
   "name": "python3"
  },
  "language_info": {
   "codemirror_mode": {
    "name": "ipython",
    "version": 3
   },
   "file_extension": ".py",
   "mimetype": "text/x-python",
   "name": "python",
   "nbconvert_exporter": "python",
   "pygments_lexer": "ipython3",
   "version": "3.10.6"
  }
 },
 "nbformat": 4,
 "nbformat_minor": 5
}
